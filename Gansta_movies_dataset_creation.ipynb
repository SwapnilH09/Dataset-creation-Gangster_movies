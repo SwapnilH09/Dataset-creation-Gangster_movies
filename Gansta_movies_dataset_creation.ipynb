{
  "nbformat": 4,
  "nbformat_minor": 0,
  "metadata": {
    "colab": {
      "name": "Gansta_movies.ipynb",
      "provenance": [],
      "authorship_tag": "ABX9TyMy+RJSK6HBt5/fX4i1PEmm",
      "include_colab_link": true
    },
    "kernelspec": {
      "name": "python3",
      "display_name": "Python 3"
    },
    "language_info": {
      "name": "python"
    }
  },
  "cells": [
    {
      "cell_type": "markdown",
      "metadata": {
        "id": "view-in-github",
        "colab_type": "text"
      },
      "source": [
        "<a href=\"https://colab.research.google.com/github/SwapnilH09/Dataset-creation-Gangster_movies/blob/main/Gansta_movies_dataset_creation.ipynb\" target=\"_parent\"><img src=\"https://colab.research.google.com/assets/colab-badge.svg\" alt=\"Open In Colab\"/></a>"
      ]
    },
    {
      "cell_type": "markdown",
      "metadata": {
        "id": "B2kTLhwmTB3n"
      },
      "source": [
        "## import libraries"
      ]
    },
    {
      "cell_type": "code",
      "metadata": {
        "id": "04v68D_Ayykh"
      },
      "source": [
        "## import necessary libraries\n",
        "import requests\n",
        "from bs4 import BeautifulSoup\n",
        "import re\n",
        "from tqdm import tqdm\n",
        "import time"
      ],
      "execution_count": 1,
      "outputs": []
    },
    {
      "cell_type": "markdown",
      "metadata": {
        "id": "8NNh6MQdTGCq"
      },
      "source": [
        "## load a single webpage and ETL its contents in a python dictionary"
      ]
    },
    {
      "cell_type": "code",
      "metadata": {
        "id": "wwh0T2Scy5uI"
      },
      "source": [
        "## load the webpage\n",
        "webpage = requests.get(\"https://en.wikipedia.org/wiki/Gangs_of_Wasseypur\")\n",
        "\n",
        "## get soup\n",
        "soup = BeautifulSoup(webpage.content, 'html.parser')\n",
        "content = soup.prettify()\n",
        "\n",
        "#print(content)"
      ],
      "execution_count": null,
      "outputs": []
    },
    {
      "cell_type": "code",
      "metadata": {
        "id": "S2K28HUSzDJw"
      },
      "source": [
        "info_box = soup.find(class_=\"infobox vevent\")\n",
        "#print(info_box.prettify())"
      ],
      "execution_count": null,
      "outputs": []
    },
    {
      "cell_type": "code",
      "metadata": {
        "id": "B-LoXY98zQq9"
      },
      "source": [
        "info_rows = info_box.find_all(\"tr\")\n",
        "info_rows"
      ],
      "execution_count": null,
      "outputs": []
    },
    {
      "cell_type": "code",
      "metadata": {
        "id": "1oEIA8afzTbd"
      },
      "source": [
        "def get_content_value(row_data):\n",
        "    if row_data.find('li'):\n",
        "        return [li.get_text(\" \", strip=True).replace(\"\\xa0\", \"\") for li in row_data.find_all(\"li\")]\n",
        "    else:\n",
        "        return row_data.get_text(\" \", strip=True).replace(\"\\xa0\", \"\")"
      ],
      "execution_count": 10,
      "outputs": []
    },
    {
      "cell_type": "code",
      "metadata": {
        "colab": {
          "base_uri": "https://localhost:8080/"
        },
        "id": "rXxe6AeAyr32",
        "outputId": "bcec7670-ec41-4fd8-822f-60c082c80a83"
      },
      "source": [
        "movie_info = {}\n",
        "\n",
        "for index, row in enumerate(info_rows):\n",
        "    if index == 0:\n",
        "        movie_info[\"title\"] = row.find(\"th\").get_text(\" \", strip=True)\n",
        "        #print(movie_info[\"title\"])\n",
        "    elif index == 1:\n",
        "        continue\n",
        "    else:\n",
        "        content_key = row.find(\"th\").get_text(\" \", strip=True)\n",
        "        content_val = get_content_value(row.find(\"td\"))\n",
        "        movie_info[content_key] = content_val\n",
        "        #print(movie_info[content_key])\n",
        "\n",
        "movie_info        "
      ],
      "execution_count": null,
      "outputs": [
        {
          "output_type": "execute_result",
          "data": {
            "text/plain": [
              "{'Box office': '₹ 1.540 billion',\n",
              " 'Budget': '₹ 356 million',\n",
              " 'Cinematography': 'Rajeev Ravi',\n",
              " 'Country': 'India',\n",
              " 'Directed by': 'Anurag Kashyap',\n",
              " 'Distributed by': 'Viacom 18 Motion Pictures',\n",
              " 'Edited by': 'Shweta Venkat',\n",
              " 'Language': 'Hindi',\n",
              " 'Music by': ['G. V. Prakash Kumar (score)', 'Sneha Khanwalkar (soundtrack)'],\n",
              " 'Produced by': ['Atul Shukla', 'Anurag Kashyap', 'Sunil Bohra'],\n",
              " 'Production companies': ['Anurag Kashyap Films', 'Jar Pictures'],\n",
              " 'Release date': ['May2012 ( 2012-05 ) ( Cannes )',\n",
              "  '22June2012 ( 2012-06-22 )'],\n",
              " 'Running time': '321 minutes [1]',\n",
              " 'Starring': ['Manoj Bajpayee',\n",
              "  'Nawazuddin Siddiqui',\n",
              "  'Richa Chadda',\n",
              "  'Huma Qureshi',\n",
              "  'Reema Sen',\n",
              "  'Piyush Mishra',\n",
              "  'Vineet Kumar Singh',\n",
              "  'Pankaj Tripathi',\n",
              "  'Tigmanshu Dhulia',\n",
              "  'Sanjay Singh'],\n",
              " 'Written by': ['Zeishan Quadri', 'Anurag Kashyap'],\n",
              " 'title': 'Gangs of Wasseypur'}"
            ]
          },
          "metadata": {
            "tags": []
          },
          "execution_count": 6
        }
      ]
    },
    {
      "cell_type": "markdown",
      "metadata": {
        "id": "i11FQIXOXdJW"
      },
      "source": [
        "## get info-box for all Gangster movies from https://en.wikipedia.org/wiki/Gangster_film"
      ]
    },
    {
      "cell_type": "markdown",
      "metadata": {
        "id": "rIIq9uftjdYA"
      },
      "source": [
        "<b> Our goal in this part of the project is simple, extract the information in the info-box from wikipedia page of the movies. </b>"
      ]
    },
    {
      "cell_type": "code",
      "metadata": {
        "id": "9W_ghSoUXjCA"
      },
      "source": [
        "# load web-page\n",
        "source_page = requests.get(\"https://en.wikipedia.org/wiki/Gangster_film\")\n",
        "\n",
        "# prepare soup\n",
        "source_soup = BeautifulSoup(source_page.content, \"html.parser\")"
      ],
      "execution_count": 2,
      "outputs": []
    },
    {
      "cell_type": "code",
      "metadata": {
        "id": "PgpZLCdvYPw6"
      },
      "source": [
        "movies = source_soup.select(\"li a\")\n",
        "movies"
      ],
      "execution_count": null,
      "outputs": []
    },
    {
      "cell_type": "code",
      "metadata": {
        "id": "XtnYIaYHddTR"
      },
      "source": [
        "print(type(movies))\n",
        "for idx, m in enumerate(movies[:5]):\n",
        "    print(m.get(\"title\"), m.get(\"href\"))\n",
        "    print(m)"
      ],
      "execution_count": null,
      "outputs": []
    },
    {
      "cell_type": "markdown",
      "metadata": {
        "id": "ZBe9aoWPJVO2"
      },
      "source": [
        "We want to extract \"title\" and \"link to their wiki\" from this wikipedia page  https://en.wikipedia.org/wiki/Gangster_film\n",
        "<br>\n",
        "<b>Here, I will use regex to extract only those \"href\" which start with /wiki/ to avoid other links. </b>\n",
        "<br>\n",
        "This will filter some unwanted objects from our movies list[]."
      ]
    },
    {
      "cell_type": "markdown",
      "metadata": {
        "id": "JejDfW10YR6d"
      },
      "source": [
        "Task-list\n",
        "<li> extract the links of movies' wikipedia page & their title </li>\n",
        "<li> visit each link and collect information from the info-box on wikipedia page </li>\n",
        "<li> store extracted info-box in a json file </li>\n"
      ]
    },
    {
      "cell_type": "code",
      "metadata": {
        "id": "XKkmEM3SY9PM"
      },
      "source": [
        "pattern = re.compile('\\/wiki\\/.*')  # pattern to match all href attributes starting with '/wiki/'\n",
        "\n",
        "movies_doc = {}\n",
        "\n",
        "base_path = \"https://en.wikipedia.org\"\n",
        "for mov in movies:\n",
        "    if pattern.match(str(mov.get(\"href\"))):\n",
        "        movies_doc[mov.get(\"title\")] = base_path + mov.get(\"href\")"
      ],
      "execution_count": 5,
      "outputs": []
    },
    {
      "cell_type": "code",
      "metadata": {
        "colab": {
          "base_uri": "https://localhost:8080/"
        },
        "id": "w45n5BVgKvnk",
        "outputId": "b1817ab5-4377-44f1-e6d6-0ddf79e6844a"
      },
      "source": [
        "movies_doc"
      ],
      "execution_count": 6,
      "outputs": [
        {
          "output_type": "execute_result",
          "data": {
            "text/plain": [
              "{'3D film': 'https://en.wikipedia.org/wiki/3D_film',\n",
              " 'A Better Tomorrow': 'https://en.wikipedia.org/wiki/A_Better_Tomorrow',\n",
              " \"A Children's Story\": 'https://en.wikipedia.org/wiki/A_Children%27s_Story',\n",
              " 'A Very British Gangster': 'https://en.wikipedia.org/wiki/A_Very_British_Gangster',\n",
              " 'A list of all special pages [q]': 'https://en.wikipedia.org/wiki/Special:SpecialPages',\n",
              " 'A list of edits made from this IP address [y]': 'https://en.wikipedia.org/wiki/Special:MyContributions',\n",
              " 'A list of recent changes to Wikipedia [r]': 'https://en.wikipedia.org/wiki/Special:RecentChanges',\n",
              " 'Abhimanyu (1991 film)': 'https://en.wikipedia.org/wiki/Abhimanyu_(1991_film)',\n",
              " 'Absolute film': 'https://en.wikipedia.org/wiki/Absolute_film',\n",
              " 'Abstract animation': 'https://en.wikipedia.org/wiki/Abstract_animation',\n",
              " 'Acid Western': 'https://en.wikipedia.org/wiki/Acid_Western',\n",
              " 'Action film': 'https://en.wikipedia.org/wiki/Action_film',\n",
              " 'Actuality film': 'https://en.wikipedia.org/wiki/Actuality_film',\n",
              " 'Add images or other media for use on Wikipedia': 'https://en.wikipedia.org/wiki/Wikipedia:File_Upload_Wizard',\n",
              " 'Adventure film': 'https://en.wikipedia.org/wiki/Adventure_film',\n",
              " 'American Eccentric Cinema': 'https://en.wikipedia.org/wiki/American_Eccentric_Cinema',\n",
              " 'American Gangster (film)': 'https://en.wikipedia.org/wiki/American_Gangster_(film)',\n",
              " 'American Me': 'https://en.wikipedia.org/wiki/American_Me',\n",
              " 'Analyze That': 'https://en.wikipedia.org/wiki/Analyze_That',\n",
              " 'Analyze This': 'https://en.wikipedia.org/wiki/Analyze_This',\n",
              " 'Animated cartoon': 'https://en.wikipedia.org/wiki/Animated_cartoon',\n",
              " 'Animated documentary': 'https://en.wikipedia.org/wiki/Animated_documentary',\n",
              " 'Animation': 'https://en.wikipedia.org/wiki/Animation',\n",
              " 'Anime': 'https://en.wikipedia.org/wiki/Anime',\n",
              " 'Anthology film': 'https://en.wikipedia.org/wiki/Anthology_film',\n",
              " 'Art film': 'https://en.wikipedia.org/wiki/Art_film',\n",
              " 'Art horror': 'https://en.wikipedia.org/wiki/Art_horror',\n",
              " 'Arthouse action film': 'https://en.wikipedia.org/wiki/Arthouse_action_film',\n",
              " 'Arthouse animation': 'https://en.wikipedia.org/wiki/Arthouse_animation',\n",
              " 'Arthouse science fiction film': 'https://en.wikipedia.org/wiki/Arthouse_science_fiction_film',\n",
              " 'Articles related to current events': 'https://en.wikipedia.org/wiki/Portal:Current_events',\n",
              " 'Aryan (1988 film)': 'https://en.wikipedia.org/wiki/Aryan_(1988_film)',\n",
              " 'Aurat (1940 film)': 'https://en.wikipedia.org/wiki/Aurat_(1940_film)',\n",
              " 'Australian New Wave': 'https://en.wikipedia.org/wiki/Australian_New_Wave',\n",
              " 'Auteur': 'https://en.wikipedia.org/wiki/Auteur',\n",
              " 'B movie': 'https://en.wikipedia.org/wiki/B_movie',\n",
              " 'Baashha (film)': 'https://en.wikipedia.org/wiki/Baashha_(film)',\n",
              " 'Backstage musical': 'https://en.wikipedia.org/wiki/Backstage_musical',\n",
              " 'Bandit Queen': 'https://en.wikipedia.org/wiki/Bandit_Queen',\n",
              " 'Bavarian porn': 'https://en.wikipedia.org/wiki/Bavarian_porn',\n",
              " 'Beach party film': 'https://en.wikipedia.org/wiki/Beach_party_film',\n",
              " 'Belluscone: A Sicilian Story': 'https://en.wikipedia.org/wiki/Belluscone:_A_Sicilian_Story',\n",
              " 'Berlin School (filmmaking)': 'https://en.wikipedia.org/wiki/Berlin_School_(filmmaking)',\n",
              " 'Biographical film': 'https://en.wikipedia.org/wiki/Biographical_film',\n",
              " 'Biùtiful cauntri': 'https://en.wikipedia.org/wiki/Bi%C3%B9tiful_cauntri',\n",
              " 'Black City (film)': 'https://en.wikipedia.org/wiki/Black_City_(film)',\n",
              " 'Black Friday (2004 film)': 'https://en.wikipedia.org/wiki/Black_Friday_(2004_film)',\n",
              " 'Black Souls': 'https://en.wikipedia.org/wiki/Black_Souls',\n",
              " 'Black Turin': 'https://en.wikipedia.org/wiki/Black_Turin',\n",
              " 'Black and white': 'https://en.wikipedia.org/wiki/Black_and_white',\n",
              " 'Black comedy': 'https://en.wikipedia.org/wiki/Black_comedy',\n",
              " 'Black film': 'https://en.wikipedia.org/wiki/Black_film',\n",
              " 'Blaxploitation': 'https://en.wikipedia.org/wiki/Blaxploitation',\n",
              " 'Blockbuster (entertainment)': 'https://en.wikipedia.org/wiki/Blockbuster_(entertainment)',\n",
              " 'Blood In Blood Out': 'https://en.wikipedia.org/wiki/Blood_In_Blood_Out',\n",
              " 'Blood Ties (1986 film)': 'https://en.wikipedia.org/wiki/Blood_Ties_(1986_film)',\n",
              " 'Body swap': 'https://en.wikipedia.org/wiki/Body_swap',\n",
              " 'Bollywood': 'https://en.wikipedia.org/wiki/Bollywood',\n",
              " 'Boulevard Nights': 'https://en.wikipedia.org/wiki/Boulevard_Nights',\n",
              " 'Bourekas film': 'https://en.wikipedia.org/wiki/Bourekas_film',\n",
              " 'Boyz n the Hood': 'https://en.wikipedia.org/wiki/Boyz_n_the_Hood',\n",
              " 'Brighton School (filmmaking)': 'https://en.wikipedia.org/wiki/Brighton_School_(filmmaking)',\n",
              " 'British New Wave': 'https://en.wikipedia.org/wiki/British_New_Wave',\n",
              " 'Bromantic comedy': 'https://en.wikipedia.org/wiki/Bromantic_comedy',\n",
              " 'Bruceploitation': 'https://en.wikipedia.org/wiki/Bruceploitation',\n",
              " 'Budapest school': 'https://en.wikipedia.org/wiki/Budapest_school',\n",
              " 'Buddy cop film': 'https://en.wikipedia.org/wiki/Buddy_cop_film',\n",
              " 'Buddy film': 'https://en.wikipedia.org/wiki/Buddy_film',\n",
              " 'Caliber 9': 'https://en.wikipedia.org/wiki/Caliber_9',\n",
              " 'Calligrafismo': 'https://en.wikipedia.org/wiki/Calligrafismo',\n",
              " 'Camorra (1986 film)': 'https://en.wikipedia.org/wiki/Camorra_(1986_film)',\n",
              " 'Canne mozze': 'https://en.wikipedia.org/wiki/Canne_mozze',\n",
              " 'Cannibal film': 'https://en.wikipedia.org/wiki/Cannibal_film',\n",
              " \"Carlito's Way\": 'https://en.wikipedia.org/wiki/Carlito%27s_Way',\n",
              " 'Category:Articles containing Russian-language text': 'https://en.wikipedia.org/wiki/Category:Articles_containing_Russian-language_text',\n",
              " 'Category:Articles with short description': 'https://en.wikipedia.org/wiki/Category:Articles_with_short_description',\n",
              " 'Category:CS1 maint: multiple names: authors list': 'https://en.wikipedia.org/wiki/Category:CS1_maint:_multiple_names:_authors_list',\n",
              " 'Category:Commons category link is on Wikidata': 'https://en.wikipedia.org/wiki/Category:Commons_category_link_is_on_Wikidata',\n",
              " 'Category:Film genres': 'https://en.wikipedia.org/wiki/Category:Film_genres',\n",
              " 'Category:Gangster films': 'https://en.wikipedia.org/wiki/Category:Gangster_films',\n",
              " 'Category:Religious horror films': 'https://en.wikipedia.org/wiki/Category:Religious_horror_films',\n",
              " 'Category:Short description matches Wikidata': 'https://en.wikipedia.org/wiki/Category:Short_description_matches_Wikidata',\n",
              " 'Category:Wikipedia articles with BNF identifiers': 'https://en.wikipedia.org/wiki/Category:Wikipedia_articles_with_BNF_identifiers',\n",
              " 'Category:Wikipedia articles with GND identifiers': 'https://en.wikipedia.org/wiki/Category:Wikipedia_articles_with_GND_identifiers',\n",
              " 'Category:Wikipedia articles with LCCN identifiers': 'https://en.wikipedia.org/wiki/Category:Wikipedia_articles_with_LCCN_identifiers',\n",
              " 'Chicano films': 'https://en.wikipedia.org/wiki/Chicano_films',\n",
              " 'Chick flick': 'https://en.wikipedia.org/wiki/Chick_flick',\n",
              " \"Children's anime and manga\": 'https://en.wikipedia.org/wiki/Children%27s_anime_and_manga',\n",
              " \"Children's film\": 'https://en.wikipedia.org/wiki/Children%27s_film',\n",
              " 'Chinese horror film': 'https://en.wikipedia.org/wiki/Chinese_horror_film',\n",
              " 'Chopsocky': 'https://en.wikipedia.org/wiki/Chopsocky',\n",
              " 'Christian film industry': 'https://en.wikipedia.org/wiki/Christian_film_industry',\n",
              " 'Cinema Novo': 'https://en.wikipedia.org/wiki/Cinema_Novo',\n",
              " 'Cinema da Boca do Lixo': 'https://en.wikipedia.org/wiki/Cinema_da_Boca_do_Lixo',\n",
              " 'Cinema of Transgression': 'https://en.wikipedia.org/wiki/Cinema_of_Transgression',\n",
              " 'Cinéma du look': 'https://en.wikipedia.org/wiki/Cin%C3%A9ma_du_look',\n",
              " 'Cinéma pur': 'https://en.wikipedia.org/wiki/Cin%C3%A9ma_pur',\n",
              " 'Cinéma vérité': 'https://en.wikipedia.org/wiki/Cin%C3%A9ma_v%C3%A9rit%C3%A9',\n",
              " 'City on Fire (1987 film)': 'https://en.wikipedia.org/wiki/City_on_Fire_(1987_film)',\n",
              " 'Classical Hollywood cinema': 'https://en.wikipedia.org/wiki/Classical_Hollywood_cinema',\n",
              " 'Collage film': 'https://en.wikipedia.org/wiki/Collage_film',\n",
              " 'Colonial cinema': 'https://en.wikipedia.org/wiki/Colonial_cinema',\n",
              " 'Color motion picture film': 'https://en.wikipedia.org/wiki/Color_motion_picture_film',\n",
              " 'Comedy film': 'https://en.wikipedia.org/wiki/Comedy_film',\n",
              " 'Comedy horror': 'https://en.wikipedia.org/wiki/Comedy_horror',\n",
              " 'Comedy of remarriage': 'https://en.wikipedia.org/wiki/Comedy_of_remarriage',\n",
              " 'Comedy thriller': 'https://en.wikipedia.org/wiki/Comedy_thriller',\n",
              " 'Comedy-drama': 'https://en.wikipedia.org/wiki/Comedy-drama',\n",
              " 'Coming-of-age story': 'https://en.wikipedia.org/wiki/Coming-of-age_story',\n",
              " \"Commedia all'italiana\": 'https://en.wikipedia.org/wiki/Commedia_all%27italiana',\n",
              " \"Commedia sexy all'italiana\": 'https://en.wikipedia.org/wiki/Commedia_sexy_all%27italiana',\n",
              " 'Company (2002 film)': 'https://en.wikipedia.org/wiki/Company_(2002_film)',\n",
              " 'Compilation film': 'https://en.wikipedia.org/wiki/Compilation_film',\n",
              " 'Composite film': 'https://en.wikipedia.org/wiki/Composite_film',\n",
              " 'Computer animation': 'https://en.wikipedia.org/wiki/Computer_animation',\n",
              " 'Computer screen film': 'https://en.wikipedia.org/wiki/Computer_screen_film',\n",
              " 'Concert film': 'https://en.wikipedia.org/wiki/Concert_film',\n",
              " 'Confessions of a Police Captain': 'https://en.wikipedia.org/wiki/Confessions_of_a_Police_Captain',\n",
              " 'Conspiracy fiction': 'https://en.wikipedia.org/wiki/Conspiracy_fiction#Film_and_television',\n",
              " 'Contemporary fantasy': 'https://en.wikipedia.org/wiki/Contemporary_fantasy',\n",
              " 'Contraband (1980 film)': 'https://en.wikipedia.org/wiki/Contraband_(1980_film)',\n",
              " 'Corleone (film)': 'https://en.wikipedia.org/wiki/Corleone_(film)',\n",
              " 'Crime film': 'https://en.wikipedia.org/wiki/Crime_film',\n",
              " 'Cult film': 'https://en.wikipedia.org/wiki/Cult_film',\n",
              " 'Cyberpunk': 'https://en.wikipedia.org/wiki/Cyberpunk',\n",
              " 'Czechoslovak New Wave': 'https://en.wikipedia.org/wiki/Czechoslovak_New_Wave',\n",
              " 'D-Company': 'https://en.wikipedia.org/wiki/D-Company',\n",
              " 'Dacoit': 'https://en.wikipedia.org/wiki/Dacoit',\n",
              " 'Dacoit film': 'https://en.wikipedia.org/wiki/Dacoit_film',\n",
              " 'Dance in film': 'https://en.wikipedia.org/wiki/Dance_in_film',\n",
              " 'Database cinema': 'https://en.wikipedia.org/wiki/Database_cinema',\n",
              " 'Dawood Ibrahim': 'https://en.wikipedia.org/wiki/Dawood_Ibrahim',\n",
              " 'Dead Man Running': 'https://en.wikipedia.org/wiki/Dead_Man_Running',\n",
              " 'Deewaar': 'https://en.wikipedia.org/wiki/Deewaar',\n",
              " 'Detective fiction': 'https://en.wikipedia.org/wiki/Detective_fiction',\n",
              " 'Disaster film': 'https://en.wikipedia.org/wiki/Disaster_film',\n",
              " 'Discuss improvements to the content page [t]': 'https://en.wikipedia.org/wiki/Talk:Gangster_film',\n",
              " 'Discussion about edits from this IP address [n]': 'https://en.wikipedia.org/wiki/Special:MyTalk',\n",
              " 'Docudrama': 'https://en.wikipedia.org/wiki/Docudrama',\n",
              " 'Docufiction': 'https://en.wikipedia.org/wiki/Docufiction',\n",
              " 'Documentary Film Movement': 'https://en.wikipedia.org/wiki/Documentary_Film_Movement',\n",
              " 'Documentary film': 'https://en.wikipedia.org/wiki/Documentary_film',\n",
              " 'Dogme 95': 'https://en.wikipedia.org/wiki/Dogme_95',\n",
              " 'Doi (identifier)': 'https://en.wikipedia.org/wiki/Doi_(identifier)',\n",
              " 'Don (franchise)': 'https://en.wikipedia.org/wiki/Don_(franchise)',\n",
              " 'Down Terrace': 'https://en.wikipedia.org/wiki/Down_Terrace',\n",
              " 'Drama (film and television)': 'https://en.wikipedia.org/wiki/Drama_(film_and_television)',\n",
              " 'Eastern Promises': 'https://en.wikipedia.org/wiki/Eastern_Promises',\n",
              " 'Ecchi': 'https://en.wikipedia.org/wiki/Ecchi',\n",
              " 'Economics film': 'https://en.wikipedia.org/wiki/Economics_film',\n",
              " 'Educational film': 'https://en.wikipedia.org/wiki/Educational_film',\n",
              " 'Epic film': 'https://en.wikipedia.org/wiki/Epic_film',\n",
              " 'Erotic thriller': 'https://en.wikipedia.org/wiki/Erotic_thriller',\n",
              " 'Erra Cinema': 'https://en.wikipedia.org/wiki/Erra_Cinema',\n",
              " 'Essex Boys': 'https://en.wikipedia.org/wiki/Essex_Boys',\n",
              " 'Ethnofiction': 'https://en.wikipedia.org/wiki/Ethnofiction',\n",
              " 'Ethnographic film': 'https://en.wikipedia.org/wiki/Ethnographic_film',\n",
              " 'Euro War': 'https://en.wikipedia.org/wiki/Euro_War',\n",
              " 'European art cinema': 'https://en.wikipedia.org/wiki/European_art_cinema',\n",
              " 'Eurospy film': 'https://en.wikipedia.org/wiki/Eurospy_film',\n",
              " 'Excellent Cadavers (film)': 'https://en.wikipedia.org/wiki/Excellent_Cadavers_(film)',\n",
              " 'Experimental film': 'https://en.wikipedia.org/wiki/Experimental_film',\n",
              " 'Exploitation film': 'https://en.wikipedia.org/wiki/Exploitation_film',\n",
              " 'Extreme cinema': 'https://en.wikipedia.org/wiki/Extreme_cinema',\n",
              " 'Face (1997 film)': 'https://en.wikipedia.org/wiki/Face_(1997_film)',\n",
              " 'Fairy tale': 'https://en.wikipedia.org/wiki/Fairy_tale#Film',\n",
              " 'Fandango (company)': 'https://en.wikipedia.org/wiki/Fandango_(company)',\n",
              " 'Fantastique': 'https://en.wikipedia.org/wiki/Fantastique',\n",
              " 'Fantasy comedy': 'https://en.wikipedia.org/wiki/Fantasy_comedy',\n",
              " 'Fantasy film': 'https://en.wikipedia.org/wiki/Fantasy_film',\n",
              " 'Feature film': 'https://en.wikipedia.org/wiki/Feature_film',\n",
              " 'Featurette': 'https://en.wikipedia.org/wiki/Featurette',\n",
              " 'Female buddy film': 'https://en.wikipedia.org/wiki/Female_buddy_film',\n",
              " 'Film gris': 'https://en.wikipedia.org/wiki/Film_gris',\n",
              " 'Film noir': 'https://en.wikipedia.org/wiki/Film_noir',\n",
              " 'Film à clef': 'https://en.wikipedia.org/wiki/Film_%C3%A0_clef',\n",
              " 'Film-poem': 'https://en.wikipedia.org/wiki/Film-poem',\n",
              " 'Financial thriller': 'https://en.wikipedia.org/wiki/Financial_thriller',\n",
              " 'Florida Western': 'https://en.wikipedia.org/wiki/Florida_Western',\n",
              " 'Fort Apache Napoli': 'https://en.wikipedia.org/wiki/Fort_Apache_Napoli',\n",
              " 'Found footage (film technique)': 'https://en.wikipedia.org/wiki/Found_footage_(film_technique)',\n",
              " 'Free Cinema': 'https://en.wikipedia.org/wiki/Free_Cinema',\n",
              " 'French New Wave': 'https://en.wikipedia.org/wiki/French_New_Wave',\n",
              " 'From Corleone to Brooklyn': 'https://en.wikipedia.org/wiki/From_Corleone_to_Brooklyn',\n",
              " 'Funny animal': 'https://en.wikipedia.org/wiki/Funny_animal',\n",
              " 'Gang War (1971 film)': 'https://en.wikipedia.org/wiki/Gang_War_(1971_film)',\n",
              " 'Gang War in Naples': 'https://en.wikipedia.org/wiki/Gang_War_in_Naples',\n",
              " 'Gangs of Wasseypur (film series)': 'https://en.wikipedia.org/wiki/Gangs_of_Wasseypur_(film_series)',\n",
              " 'Gangster No. 1': 'https://en.wikipedia.org/wiki/Gangster_No._1',\n",
              " 'Gendai-geki': 'https://en.wikipedia.org/wiki/Gendai-geki',\n",
              " 'Gentleman thief': 'https://en.wikipedia.org/wiki/Gentleman_thief',\n",
              " 'German Expressionism': 'https://en.wikipedia.org/wiki/German_Expressionism',\n",
              " 'German underground horror': 'https://en.wikipedia.org/wiki/German_underground_horror',\n",
              " 'Get Carter': 'https://en.wikipedia.org/wiki/Get_Carter',\n",
              " 'Giallo': 'https://en.wikipedia.org/wiki/Giallo',\n",
              " 'Giovanni Falcone (film)': 'https://en.wikipedia.org/wiki/Giovanni_Falcone_(film)',\n",
              " 'Girls with guns': 'https://en.wikipedia.org/wiki/Girls_with_guns',\n",
              " 'Gokudō': 'https://en.wikipedia.org/wiki/Gokud%C5%8D',\n",
              " 'Golden Age of Nigerian Cinema': 'https://en.wikipedia.org/wiki/Golden_Age_of_Nigerian_Cinema',\n",
              " 'Gomorrah (film)': 'https://en.wikipedia.org/wiki/Gomorrah_(film)',\n",
              " \"Gong'an fiction\": 'https://en.wikipedia.org/wiki/Gong%27an_fiction',\n",
              " 'Goona-goona epic': 'https://en.wikipedia.org/wiki/Goona-goona_epic',\n",
              " 'Gothic film': 'https://en.wikipedia.org/wiki/Gothic_film',\n",
              " 'Gothic romance film': 'https://en.wikipedia.org/wiki/Gothic_romance_film',\n",
              " 'Gothic science fiction': 'https://en.wikipedia.org/wiki/Gothic_science_fiction',\n",
              " 'Grindhouse': 'https://en.wikipedia.org/wiki/Grindhouse',\n",
              " 'Gross out': 'https://en.wikipedia.org/wiki/Gross_out',\n",
              " 'Grupo Cine Liberación': 'https://en.wikipedia.org/wiki/Grupo_Cine_Liberaci%C3%B3n',\n",
              " 'Guardian Unlimited': 'https://en.wikipedia.org/wiki/Guardian_Unlimited',\n",
              " 'Guerrilla filmmaking': 'https://en.wikipedia.org/wiki/Guerrilla_filmmaking',\n",
              " 'Guidance on how to use and edit Wikipedia': 'https://en.wikipedia.org/wiki/Help:Contents',\n",
              " 'Guides to browsing Wikipedia': 'https://en.wikipedia.org/wiki/Wikipedia:Contents',\n",
              " 'Gun fu': 'https://en.wikipedia.org/wiki/Gun_fu',\n",
              " 'Gunga Jumna': 'https://en.wikipedia.org/wiki/Gunga_Jumna',\n",
              " 'Haji Mastan': 'https://en.wikipedia.org/wiki/Haji_Mastan',\n",
              " 'Hardcore pornography': 'https://en.wikipedia.org/wiki/Hardcore_pornography',\n",
              " 'Harem (genre)': 'https://en.wikipedia.org/wiki/Harem_(genre)',\n",
              " 'Heimatfilm': 'https://en.wikipedia.org/wiki/Heimatfilm',\n",
              " 'Heist film': 'https://en.wikipedia.org/wiki/Heist_film',\n",
              " 'Hentai': 'https://en.wikipedia.org/wiki/Hentai',\n",
              " 'Heroic bloodshed': 'https://en.wikipedia.org/wiki/Heroic_bloodshed',\n",
              " 'High fantasy': 'https://en.wikipedia.org/wiki/High_fantasy',\n",
              " 'Historical drama': 'https://en.wikipedia.org/wiki/Historical_drama',\n",
              " 'Historical fantasy': 'https://en.wikipedia.org/wiki/Historical_fantasy',\n",
              " 'Holiday horror': 'https://en.wikipedia.org/wiki/Holiday_horror',\n",
              " 'Hollywood on the Tiber': 'https://en.wikipedia.org/wiki/Hollywood_on_the_Tiber',\n",
              " 'Hong Kong New Wave': 'https://en.wikipedia.org/wiki/Hong_Kong_New_Wave',\n",
              " 'Hong Kong action cinema': 'https://en.wikipedia.org/wiki/Hong_Kong_action_cinema',\n",
              " 'Hood film': 'https://en.wikipedia.org/wiki/Hood_film',\n",
              " 'Horror film': 'https://en.wikipedia.org/wiki/Horror_film',\n",
              " 'How to Kill a Judge': 'https://en.wikipedia.org/wiki/How_to_Kill_a_Judge',\n",
              " 'Hyperlink cinema': 'https://en.wikipedia.org/wiki/Hyperlink_cinema',\n",
              " 'I guappi': 'https://en.wikipedia.org/wiki/I_guappi',\n",
              " \"I'll Sleep When I'm Dead (2003 film)\": 'https://en.wikipedia.org/wiki/I%27ll_Sleep_When_I%27m_Dead_(2003_film)',\n",
              " 'I.B. Tauris': 'https://en.wikipedia.org/wiki/I.B._Tauris',\n",
              " 'ISBN (identifier)': 'https://en.wikipedia.org/wiki/ISBN_(identifier)',\n",
              " 'Il Boss': 'https://en.wikipedia.org/wiki/Il_Boss',\n",
              " 'Il Capo dei Capi': 'https://en.wikipedia.org/wiki/Il_Capo_dei_Capi',\n",
              " 'Il Divo (film)': 'https://en.wikipedia.org/wiki/Il_Divo_(film)',\n",
              " 'Il camorrista': 'https://en.wikipedia.org/wiki/Il_camorrista',\n",
              " 'Illustrious Corpses': 'https://en.wikipedia.org/wiki/Illustrious_Corpses',\n",
              " 'In the Name of the Law (1949 film)': 'https://en.wikipedia.org/wiki/In_the_Name_of_the_Law_(1949_film)',\n",
              " 'Independent film': 'https://en.wikipedia.org/wiki/Independent_film',\n",
              " 'IndieWire': 'https://en.wikipedia.org/wiki/IndieWire',\n",
              " 'Infernal Affairs': 'https://en.wikipedia.org/wiki/Infernal_Affairs',\n",
              " 'Interstitial art': 'https://en.wikipedia.org/wiki/Interstitial_art',\n",
              " 'Iranian New Wave': 'https://en.wikipedia.org/wiki/Iranian_New_Wave',\n",
              " 'Isekai': 'https://en.wikipedia.org/wiki/Isekai',\n",
              " 'Italian futurism in cinema': 'https://en.wikipedia.org/wiki/Italian_futurism_in_cinema',\n",
              " 'Italian neorealism': 'https://en.wikipedia.org/wiki/Italian_neorealism',\n",
              " 'JSTOR (identifier)': 'https://en.wikipedia.org/wiki/JSTOR_(identifier)',\n",
              " 'Japanese New Wave': 'https://en.wikipedia.org/wiki/Japanese_New_Wave',\n",
              " 'Japanese cyberpunk': 'https://en.wikipedia.org/wiki/Japanese_cyberpunk',\n",
              " 'Japanese horror': 'https://en.wikipedia.org/wiki/Japanese_horror',\n",
              " 'Jiangshi fiction': 'https://en.wikipedia.org/wiki/Jiangshi_fiction#Hong_Kong_cinema',\n",
              " 'Jidaigeki': 'https://en.wikipedia.org/wiki/Jidaigeki',\n",
              " 'Johnny Dangerously': 'https://en.wikipedia.org/wiki/Johnny_Dangerously',\n",
              " 'Johnny Stecchino': 'https://en.wikipedia.org/wiki/Johnny_Stecchino',\n",
              " 'Josei manga': 'https://en.wikipedia.org/wiki/Josei_manga',\n",
              " 'Jukebox musical': 'https://en.wikipedia.org/wiki/Jukebox_musical',\n",
              " 'Kaiju': 'https://en.wikipedia.org/wiki/Kaiju',\n",
              " 'Kammatipaadam': 'https://en.wikipedia.org/wiki/Kammatipaadam',\n",
              " 'Kammerspielfilm': 'https://en.wikipedia.org/wiki/Kammerspielfilm',\n",
              " 'Kannada': 'https://en.wikipedia.org/wiki/Kannada',\n",
              " 'Kitchen sink realism': 'https://en.wikipedia.org/wiki/Kitchen_sink_realism',\n",
              " 'Korean horror': 'https://en.wikipedia.org/wiki/Korean_horror',\n",
              " 'Korean melodrama': 'https://en.wikipedia.org/wiki/Korean_melodrama',\n",
              " 'Kray Twins': 'https://en.wikipedia.org/wiki/Kray_Twins#In_popular_culture',\n",
              " 'Kung fu film': 'https://en.wikipedia.org/wiki/Kung_fu_film',\n",
              " 'L.A. Rebellion': 'https://en.wikipedia.org/wiki/L.A._Rebellion',\n",
              " 'La piovra': 'https://en.wikipedia.org/wiki/La_piovra',\n",
              " 'La sfida': 'https://en.wikipedia.org/wiki/La_sfida',\n",
              " 'Layer Cake (film)': 'https://en.wikipedia.org/wiki/Layer_Cake_(film)',\n",
              " 'Learn about Wikipedia and how it works': 'https://en.wikipedia.org/wiki/Wikipedia:About',\n",
              " 'Learn how to edit Wikipedia': 'https://en.wikipedia.org/wiki/Help:Introduction',\n",
              " 'Legal drama': 'https://en.wikipedia.org/wiki/Legal_drama',\n",
              " 'Legal thriller': 'https://en.wikipedia.org/wiki/Legal_thriller',\n",
              " 'Legend (2015 film)': 'https://en.wikipedia.org/wiki/Legend_(2015_film)',\n",
              " 'Lettrism': 'https://en.wikipedia.org/wiki/Lettrism',\n",
              " 'List of LGBT-related films': 'https://en.wikipedia.org/wiki/List_of_LGBT-related_films',\n",
              " 'List of all English Wikipedia pages containing links to this page [j]': 'https://en.wikipedia.org/wiki/Special:WhatLinksHere/Gangster_film',\n",
              " 'List of anti-war films': 'https://en.wikipedia.org/wiki/List_of_anti-war_films',\n",
              " 'List of apocalyptic films': 'https://en.wikipedia.org/wiki/List_of_apocalyptic_films',\n",
              " 'List of body horror media': 'https://en.wikipedia.org/wiki/List_of_body_horror_media',\n",
              " 'List of drug films': 'https://en.wikipedia.org/wiki/List_of_drug_films',\n",
              " 'List of dystopian films': 'https://en.wikipedia.org/wiki/List_of_dystopian_films',\n",
              " 'List of eco-horror films': 'https://en.wikipedia.org/wiki/List_of_eco-horror_films',\n",
              " 'List of environmental films': 'https://en.wikipedia.org/wiki/List_of_environmental_films',\n",
              " 'List of films about animals': 'https://en.wikipedia.org/wiki/List_of_films_about_animals',\n",
              " 'List of films about food and drink': 'https://en.wikipedia.org/wiki/List_of_films_about_food_and_drink',\n",
              " 'List of films featuring extraterrestrials': 'https://en.wikipedia.org/wiki/List_of_films_featuring_extraterrestrials',\n",
              " 'List of films featuring giant monsters': 'https://en.wikipedia.org/wiki/List_of_films_featuring_giant_monsters',\n",
              " 'List of films featuring slavery': 'https://en.wikipedia.org/wiki/List_of_films_featuring_slavery',\n",
              " 'List of films with live action and animation': 'https://en.wikipedia.org/wiki/List_of_films_with_live_action_and_animation',\n",
              " 'List of ghost films': 'https://en.wikipedia.org/wiki/List_of_ghost_films',\n",
              " 'List of mummy films': 'https://en.wikipedia.org/wiki/List_of_mummy_films',\n",
              " 'List of natural horror films': 'https://en.wikipedia.org/wiki/List_of_natural_horror_films',\n",
              " 'List of ninja films': 'https://en.wikipedia.org/wiki/List_of_ninja_films',\n",
              " 'List of science fiction horror films': 'https://en.wikipedia.org/wiki/List_of_science_fiction_horror_films',\n",
              " 'List of zombie films': 'https://en.wikipedia.org/wiki/List_of_zombie_films',\n",
              " 'Live action': 'https://en.wikipedia.org/wiki/Live_action',\n",
              " 'Lock, Stock and Two Smoking Barrels': 'https://en.wikipedia.org/wiki/Lock,_Stock_and_Two_Smoking_Barrels',\n",
              " 'Lolicon': 'https://en.wikipedia.org/wiki/Lolicon',\n",
              " 'Lollywood': 'https://en.wikipedia.org/wiki/Lollywood',\n",
              " 'London Boulevard': 'https://en.wikipedia.org/wiki/London_Boulevard',\n",
              " 'Love, Honour and Obey': 'https://en.wikipedia.org/wiki/Love,_Honour_and_Obey',\n",
              " 'Lovecraftian horror': 'https://en.wikipedia.org/wiki/Lovecraftian_horror',\n",
              " 'Low-budget film': 'https://en.wikipedia.org/wiki/Low-budget_film',\n",
              " 'Luchador films': 'https://en.wikipedia.org/wiki/Luchador_films',\n",
              " 'Mafia Connection': 'https://en.wikipedia.org/wiki/Mafia_Connection',\n",
              " 'Mafia Raj': 'https://en.wikipedia.org/wiki/Mafia_Raj',\n",
              " 'Mafia and Red Tomatoes': 'https://en.wikipedia.org/wiki/Mafia_and_Red_Tomatoes',\n",
              " 'Mafia comedy': 'https://en.wikipedia.org/wiki/Mafia_comedy',\n",
              " 'Mafia film': 'https://en.wikipedia.org/wiki/Mafia_film',\n",
              " 'Mafia!': 'https://en.wikipedia.org/wiki/Mafia!',\n",
              " 'Mafioso (film)': 'https://en.wikipedia.org/wiki/Mafioso_(film)',\n",
              " 'Magic realism': 'https://en.wikipedia.org/wiki/Magic_realism',\n",
              " 'Magical girl': 'https://en.wikipedia.org/wiki/Magical_girl',\n",
              " 'Major film studio': 'https://en.wikipedia.org/wiki/Major_film_studio',\n",
              " 'Making-of': 'https://en.wikipedia.org/wiki/Making-of',\n",
              " 'Mark Kermode': 'https://en.wikipedia.org/wiki/Mark_Kermode',\n",
              " 'Martial arts film': 'https://en.wikipedia.org/wiki/Martial_arts_film',\n",
              " 'Masala film': 'https://en.wikipedia.org/wiki/Masala_film',\n",
              " 'Maximalist film': 'https://en.wikipedia.org/wiki/Maximalist_film',\n",
              " 'Meat pie Western': 'https://en.wikipedia.org/wiki/Meat_pie_Western',\n",
              " 'Mecha': 'https://en.wikipedia.org/wiki/Mecha',\n",
              " 'Mecha anime and manga': 'https://en.wikipedia.org/wiki/Mecha_anime_and_manga',\n",
              " 'Melodrama': 'https://en.wikipedia.org/wiki/Melodrama#Film',\n",
              " 'Mesrine (2008 film)': 'https://en.wikipedia.org/wiki/Mesrine_(2008_film)',\n",
              " 'Message picture': 'https://en.wikipedia.org/wiki/Message_picture',\n",
              " 'Metacinema': 'https://en.wikipedia.org/wiki/Metacinema',\n",
              " 'Mexican sex comedy': 'https://en.wikipedia.org/wiki/Mexican_sex_comedy',\n",
              " 'Mexploitation': 'https://en.wikipedia.org/wiki/Mexploitation',\n",
              " 'Mi Vida Loca': 'https://en.wikipedia.org/wiki/Mi_Vida_Loca',\n",
              " 'Midnight movie': 'https://en.wikipedia.org/wiki/Midnight_movie',\n",
              " 'Military science fiction': 'https://en.wikipedia.org/wiki/Military_science_fiction',\n",
              " 'Minimalist film': 'https://en.wikipedia.org/wiki/Minimalist_film',\n",
              " 'Mo lei tau': 'https://en.wikipedia.org/wiki/Mo_lei_tau',\n",
              " 'Mockbuster': 'https://en.wikipedia.org/wiki/Mockbuster',\n",
              " 'Mockumentary': 'https://en.wikipedia.org/wiki/Mockumentary',\n",
              " 'Modernist film': 'https://en.wikipedia.org/wiki/Modernist_film',\n",
              " 'Mona Lisa (1986 film)': 'https://en.wikipedia.org/wiki/Mona_Lisa_(1986_film)',\n",
              " 'Mondo film': 'https://en.wikipedia.org/wiki/Mondo_film',\n",
              " 'Monster movie': 'https://en.wikipedia.org/wiki/Monster_movie',\n",
              " 'Mother India': 'https://en.wikipedia.org/wiki/Mother_India',\n",
              " 'Mountain film': 'https://en.wikipedia.org/wiki/Mountain_film',\n",
              " 'Mumbai': 'https://en.wikipedia.org/wiki/Mumbai',\n",
              " 'Mumbai underworld': 'https://en.wikipedia.org/wiki/Mumbai_underworld',\n",
              " 'Mumbai underworld film': 'https://en.wikipedia.org/wiki/Mumbai_underworld_film',\n",
              " 'Mumblecore': 'https://en.wikipedia.org/wiki/Mumblecore',\n",
              " 'Musical film': 'https://en.wikipedia.org/wiki/Musical_film',\n",
              " 'Musical short': 'https://en.wikipedia.org/wiki/Musical_short',\n",
              " 'Musicarello': 'https://en.wikipedia.org/wiki/Musicarello',\n",
              " 'Muslim social': 'https://en.wikipedia.org/wiki/Muslim_social',\n",
              " 'My Family (film)': 'https://en.wikipedia.org/wiki/My_Family_(film)',\n",
              " 'Mystery film': 'https://en.wikipedia.org/wiki/Mystery_film',\n",
              " 'Mythopoeia': 'https://en.wikipedia.org/wiki/Mythopoeia',\n",
              " 'Napoli violenta': 'https://en.wikipedia.org/wiki/Napoli_violenta',\n",
              " 'Nature documentary': 'https://en.wikipedia.org/wiki/Nature_documentary',\n",
              " 'Nayakan': 'https://en.wikipedia.org/wiki/Nayakan',\n",
              " 'Nazi exploitation': 'https://en.wikipedia.org/wiki/Nazi_exploitation',\n",
              " 'Neo noir': 'https://en.wikipedia.org/wiki/Neo_noir',\n",
              " 'Neo-noir': 'https://en.wikipedia.org/wiki/Neo-noir',\n",
              " 'Neorealism (art)': 'https://en.wikipedia.org/wiki/Neorealism_(art)',\n",
              " 'New French Extremity': 'https://en.wikipedia.org/wiki/New_French_Extremity',\n",
              " 'New Generation (Malayalam film movement)': 'https://en.wikipedia.org/wiki/New_Generation_(Malayalam_film_movement)',\n",
              " 'New German Cinema': 'https://en.wikipedia.org/wiki/New_German_Cinema',\n",
              " 'New Hollywood': 'https://en.wikipedia.org/wiki/New_Hollywood',\n",
              " 'New Jack City': 'https://en.wikipedia.org/wiki/New_Jack_City',\n",
              " 'New Nigerian Cinema': 'https://en.wikipedia.org/wiki/New_Nigerian_Cinema',\n",
              " 'New Objectivity (filmmaking)': 'https://en.wikipedia.org/wiki/New_Objectivity_(filmmaking)',\n",
              " 'New Queer Cinema': 'https://en.wikipedia.org/wiki/New_Queer_Cinema',\n",
              " 'New Wave science fiction': 'https://en.wikipedia.org/wiki/New_Wave_science_fiction',\n",
              " 'No Wave Cinema': 'https://en.wikipedia.org/wiki/No_Wave_Cinema',\n",
              " 'No-budget film': 'https://en.wikipedia.org/wiki/No-budget_film',\n",
              " None: 'https://en.wikipedia.org/wiki/Gangster_film',\n",
              " 'Northern (genre)': 'https://en.wikipedia.org/wiki/Northern_(genre)',\n",
              " 'Nuevo Cine Mexicano': 'https://en.wikipedia.org/wiki/Nuevo_Cine_Mexicano',\n",
              " 'Nunsploitation': 'https://en.wikipedia.org/wiki/Nunsploitation',\n",
              " 'OCLC (identifier)': 'https://en.wikipedia.org/wiki/OCLC_(identifier)',\n",
              " 'Occult detective fiction': 'https://en.wikipedia.org/wiki/Occult_detective_fiction',\n",
              " 'Om (1995 film)': 'https://en.wikipedia.org/wiki/Om_(1995_film)',\n",
              " 'Once Upon a Time in Mumbaai': 'https://en.wikipedia.org/wiki/Once_Upon_a_Time_in_Mumbaai',\n",
              " 'Once Upon ay Time in Mumbai Dobaara!': 'https://en.wikipedia.org/wiki/Once_Upon_ay_Time_in_Mumbai_Dobaara!',\n",
              " 'One Hundred Days in Palermo': 'https://en.wikipedia.org/wiki/One_Hundred_Days_in_Palermo',\n",
              " 'One Hundred Steps': 'https://en.wikipedia.org/wiki/One_Hundred_Steps',\n",
              " 'One-shot film': 'https://en.wikipedia.org/wiki/One-shot_film',\n",
              " 'Opera film': 'https://en.wikipedia.org/wiki/Opera_film',\n",
              " 'Operetta film': 'https://en.wikipedia.org/wiki/Operetta_film',\n",
              " 'Ostern': 'https://en.wikipedia.org/wiki/Ostern',\n",
              " 'Outlaw biker film': 'https://en.wikipedia.org/wiki/Outlaw_biker_film',\n",
              " 'Ozploitation': 'https://en.wikipedia.org/wiki/Ozploitation',\n",
              " 'Pan-India films': 'https://en.wikipedia.org/wiki/Pan-India_films',\n",
              " 'Paracinema': 'https://en.wikipedia.org/wiki/Paracinema',\n",
              " 'Parallel cinema': 'https://en.wikipedia.org/wiki/Parallel_cinema',\n",
              " 'Parallel universe (fiction)': 'https://en.wikipedia.org/wiki/Parallel_universe_(fiction)#Films',\n",
              " 'Paranormal romance': 'https://en.wikipedia.org/wiki/Paranormal_romance',\n",
              " 'Parinda': 'https://en.wikipedia.org/wiki/Parinda',\n",
              " 'Parody film': 'https://en.wikipedia.org/wiki/Parody_film',\n",
              " 'Participatory cinema': 'https://en.wikipedia.org/wiki/Participatory_cinema',\n",
              " 'Partisan film': 'https://en.wikipedia.org/wiki/Partisan_film',\n",
              " 'Persian Film': 'https://en.wikipedia.org/wiki/Persian_Film',\n",
              " 'Pink film': 'https://en.wikipedia.org/wiki/Pink_film',\n",
              " 'Pirates in popular culture': 'https://en.wikipedia.org/wiki/Pirates_in_popular_culture#Films',\n",
              " 'Planetary romance': 'https://en.wikipedia.org/wiki/Planetary_romance',\n",
              " 'Poetic realism': 'https://en.wikipedia.org/wiki/Poetic_realism',\n",
              " 'Poetry film': 'https://en.wikipedia.org/wiki/Poetry_film',\n",
              " 'Polish Film School': 'https://en.wikipedia.org/wiki/Polish_Film_School',\n",
              " 'Political thriller': 'https://en.wikipedia.org/wiki/Political_thriller',\n",
              " 'Poliziotteschi': 'https://en.wikipedia.org/wiki/Poliziotteschi',\n",
              " 'Pop culture fiction': 'https://en.wikipedia.org/wiki/Pop_culture_fiction',\n",
              " 'Pornochanchada': 'https://en.wikipedia.org/wiki/Pornochanchada',\n",
              " 'Pornographic film': 'https://en.wikipedia.org/wiki/Pornographic_film',\n",
              " 'Portal:Film': 'https://en.wikipedia.org/wiki/Portal:Film',\n",
              " 'Postmodernist film': 'https://en.wikipedia.org/wiki/Postmodernist_film',\n",
              " 'Praška filmska škola': 'https://en.wikipedia.org/wiki/Pra%C5%A1ka_filmska_%C5%A1kola',\n",
              " 'Prison film': 'https://en.wikipedia.org/wiki/Prison_film',\n",
              " 'Propaganda film': 'https://en.wikipedia.org/wiki/Propaganda_film',\n",
              " 'Prussian film': 'https://en.wikipedia.org/wiki/Prussian_film',\n",
              " 'Pseudo-documentary': 'https://en.wikipedia.org/wiki/Pseudo-documentary',\n",
              " 'Psychedelic film': 'https://en.wikipedia.org/wiki/Psychedelic_film',\n",
              " 'Psycho-biddy': 'https://en.wikipedia.org/wiki/Psycho-biddy',\n",
              " 'Psychological horror': 'https://en.wikipedia.org/wiki/Psychological_horror',\n",
              " 'Psychological thriller': 'https://en.wikipedia.org/wiki/Psychological_thriller',\n",
              " 'Pudhupettai': 'https://en.wikipedia.org/wiki/Pudhupettai',\n",
              " 'Pulp noir': 'https://en.wikipedia.org/wiki/Pulp_noir',\n",
              " 'Pure Film Movement': 'https://en.wikipedia.org/wiki/Pure_Film_Movement',\n",
              " 'Race film': 'https://en.wikipedia.org/wiki/Race_film',\n",
              " 'Rajeev Ravi': 'https://en.wikipedia.org/wiki/Rajeev_Ravi',\n",
              " 'Rape and revenge film': 'https://en.wikipedia.org/wiki/Rape_and_revenge_film',\n",
              " 'Reality film': 'https://en.wikipedia.org/wiki/Reality_film',\n",
              " 'Recent changes in pages linked from this page [k]': 'https://en.wikipedia.org/wiki/Special:RecentChangesLinked/Gangster_film',\n",
              " 'Red Moon (2001 film)': 'https://en.wikipedia.org/wiki/Red_Moon_(2001_film)',\n",
              " 'Remodernist film': 'https://en.wikipedia.org/wiki/Remodernist_film',\n",
              " 'Reverse motion': 'https://en.wikipedia.org/wiki/Reverse_motion',\n",
              " 'Revisionist Western': 'https://en.wikipedia.org/wiki/Revisionist_Western',\n",
              " 'Road movie': 'https://en.wikipedia.org/wiki/Road_movie',\n",
              " 'RocknRolla': 'https://en.wikipedia.org/wiki/RocknRolla',\n",
              " 'Romance film': 'https://en.wikipedia.org/wiki/Romance_film',\n",
              " 'Romanian New Wave': 'https://en.wikipedia.org/wiki/Romanian_New_Wave',\n",
              " 'Romantic comedy': 'https://en.wikipedia.org/wiki/Romantic_comedy',\n",
              " 'Romantic fantasy': 'https://en.wikipedia.org/wiki/Romantic_fantasy',\n",
              " 'Romantic thriller': 'https://en.wikipedia.org/wiki/Romantic_thriller',\n",
              " 'Romanzo Criminale': 'https://en.wikipedia.org/wiki/Romanzo_Criminale',\n",
              " 'Rotten Tomatoes': 'https://en.wikipedia.org/wiki/Rotten_Tomatoes',\n",
              " 'Rumberas film': 'https://en.wikipedia.org/wiki/Rumberas_film',\n",
              " 'Sacred Silence': 'https://en.wikipedia.org/wiki/Sacred_Silence',\n",
              " 'Salaam Bombay!': 'https://en.wikipedia.org/wiki/Salaam_Bombay!',\n",
              " 'Salvatore Giuliano (film)': 'https://en.wikipedia.org/wiki/Salvatore_Giuliano_(film)',\n",
              " 'Samurai cinema': 'https://en.wikipedia.org/wiki/Samurai_cinema',\n",
              " 'Satanic film': 'https://en.wikipedia.org/wiki/Satanic_film',\n",
              " 'Satire (film and television)': 'https://en.wikipedia.org/wiki/Satire_(film_and_television)',\n",
              " 'Satya (1998 film)': 'https://en.wikipedia.org/wiki/Satya_(1998_film)',\n",
              " 'Sceneggiata': 'https://en.wikipedia.org/wiki/Sceneggiata',\n",
              " 'Science fantasy': 'https://en.wikipedia.org/wiki/Science_fantasy',\n",
              " 'Science fiction comedy': 'https://en.wikipedia.org/wiki/Science_fiction_comedy',\n",
              " 'Science fiction film': 'https://en.wikipedia.org/wiki/Science_fiction_film',\n",
              " 'Screwball comedy film': 'https://en.wikipedia.org/wiki/Screwball_comedy_film',\n",
              " 'Secret File': 'https://en.wikipedia.org/wiki/Secret_File',\n",
              " 'Seinen manga': 'https://en.wikipedia.org/wiki/Seinen_manga',\n",
              " 'Selvaraghavan': 'https://en.wikipedia.org/wiki/Selvaraghavan',\n",
              " 'Semidocumentary': 'https://en.wikipedia.org/wiki/Semidocumentary',\n",
              " 'Serial film': 'https://en.wikipedia.org/wiki/Serial_film',\n",
              " 'Sex comedy': 'https://en.wikipedia.org/wiki/Sex_comedy',\n",
              " 'Sex in film': 'https://en.wikipedia.org/wiki/Sex_in_film',\n",
              " 'Sex report film': 'https://en.wikipedia.org/wiki/Sex_report_film',\n",
              " 'Sexploitation film': 'https://en.wikipedia.org/wiki/Sexploitation_film',\n",
              " 'Sexy Beast': 'https://en.wikipedia.org/wiki/Sexy_Beast',\n",
              " 'Sgarro alla camorra': 'https://en.wikipedia.org/wiki/Sgarro_alla_camorra',\n",
              " 'Shaft (1971 film)': 'https://en.wikipedia.org/wiki/Shaft_(1971_film)',\n",
              " 'Shinpa': 'https://en.wikipedia.org/wiki/Shinpa',\n",
              " 'Sholay': 'https://en.wikipedia.org/wiki/Sholay',\n",
              " 'Shomin-geki': 'https://en.wikipedia.org/wiki/Shomin-geki',\n",
              " 'Short film': 'https://en.wikipedia.org/wiki/Short_film',\n",
              " 'Shotacon': 'https://en.wikipedia.org/wiki/Shotacon',\n",
              " 'Shōjo manga': 'https://en.wikipedia.org/wiki/Sh%C5%8Djo_manga',\n",
              " 'Shōnen manga': 'https://en.wikipedia.org/wiki/Sh%C5%8Dnen_manga',\n",
              " 'Silent comedy': 'https://en.wikipedia.org/wiki/Silent_comedy',\n",
              " 'Silent film': 'https://en.wikipedia.org/wiki/Silent_film',\n",
              " 'Slapstick film': 'https://en.wikipedia.org/wiki/Slapstick_film',\n",
              " 'Slasher film': 'https://en.wikipedia.org/wiki/Slasher_film',\n",
              " 'Slice of life': 'https://en.wikipedia.org/wiki/Slice_of_life#Cinema',\n",
              " 'Slow cinema': 'https://en.wikipedia.org/wiki/Slow_cinema',\n",
              " 'Slum': 'https://en.wikipedia.org/wiki/Slum',\n",
              " 'Slumdog Millionaire': 'https://en.wikipedia.org/wiki/Slumdog_Millionaire',\n",
              " 'Snatch (film)': 'https://en.wikipedia.org/wiki/Snatch_(film)',\n",
              " 'Snuff film': 'https://en.wikipedia.org/wiki/Snuff_film',\n",
              " 'Social guidance film': 'https://en.wikipedia.org/wiki/Social_guidance_film',\n",
              " 'Social realism': 'https://en.wikipedia.org/wiki/Social_realism',\n",
              " 'Socialist realism': 'https://en.wikipedia.org/wiki/Socialist_realism',\n",
              " 'Softcore pornography': 'https://en.wikipedia.org/wiki/Softcore_pornography',\n",
              " 'Sound film': 'https://en.wikipedia.org/wiki/Sound_film',\n",
              " 'South Seas genre': 'https://en.wikipedia.org/wiki/South_Seas_genre',\n",
              " 'Southern Gothic': 'https://en.wikipedia.org/wiki/Southern_Gothic#Film_and_television',\n",
              " 'Soviet Parallel Cinema': 'https://en.wikipedia.org/wiki/Soviet_Parallel_Cinema',\n",
              " 'Space Western': 'https://en.wikipedia.org/wiki/Space_Western',\n",
              " 'Space opera': 'https://en.wikipedia.org/wiki/Space_opera',\n",
              " 'Spaghetti Western': 'https://en.wikipedia.org/wiki/Spaghetti_Western',\n",
              " 'Special:BookSources/978-0-415-28132-4': 'https://en.wikipedia.org/wiki/Special:BookSources/978-0-415-28132-4',\n",
              " 'Special:BookSources/978-0-7864-3136-6': 'https://en.wikipedia.org/wiki/Special:BookSources/978-0-7864-3136-6',\n",
              " 'Special:BookSources/978-0-8108-7541-8': 'https://en.wikipedia.org/wiki/Special:BookSources/978-0-8108-7541-8',\n",
              " 'Special:BookSources/978-1-4051-6370-5': 'https://en.wikipedia.org/wiki/Special:BookSources/978-1-4051-6370-5',\n",
              " 'Special:BookSources/978-1-84885-040-8': 'https://en.wikipedia.org/wiki/Special:BookSources/978-1-84885-040-8',\n",
              " 'Special:BookSources/9780190264079': 'https://en.wikipedia.org/wiki/Special:BookSources/9780190264079',\n",
              " 'Splatter film': 'https://en.wikipedia.org/wiki/Splatter_film',\n",
              " 'Sports film': 'https://en.wikipedia.org/wiki/Sports_film',\n",
              " 'Spy film': 'https://en.wikipedia.org/wiki/Spy_film',\n",
              " 'Stag film': 'https://en.wikipedia.org/wiki/Stag_film',\n",
              " 'Steampunk': 'https://en.wikipedia.org/wiki/Steampunk',\n",
              " 'Stoner film': 'https://en.wikipedia.org/wiki/Stoner_film',\n",
              " 'Stop motion': 'https://en.wikipedia.org/wiki/Stop_motion',\n",
              " 'Stormy Monday (film)': 'https://en.wikipedia.org/wiki/Stormy_Monday_(film)',\n",
              " 'Structural film': 'https://en.wikipedia.org/wiki/Structural_film',\n",
              " 'Submarine films': 'https://en.wikipedia.org/wiki/Submarine_films',\n",
              " 'Subramaniapuram': 'https://en.wikipedia.org/wiki/Subramaniapuram',\n",
              " 'Suburban Gothic': 'https://en.wikipedia.org/wiki/Suburban_Gothic',\n",
              " 'Suburra (film)': 'https://en.wikipedia.org/wiki/Suburra_(film)',\n",
              " 'Superhero film': 'https://en.wikipedia.org/wiki/Superhero_film',\n",
              " 'Surf film': 'https://en.wikipedia.org/wiki/Surf_film',\n",
              " 'Surrealist cinema': 'https://en.wikipedia.org/wiki/Surrealist_cinema',\n",
              " 'Survival film': 'https://en.wikipedia.org/wiki/Survival_film',\n",
              " 'Swashbuckler film': 'https://en.wikipedia.org/wiki/Swashbuckler_film',\n",
              " 'Sword and sorcery': 'https://en.wikipedia.org/wiki/Sword_and_sorcery',\n",
              " 'Sword-and-sandal': 'https://en.wikipedia.org/wiki/Sword-and-sandal',\n",
              " 'Tatanka (film)': 'https://en.wikipedia.org/wiki/Tatanka_(film)',\n",
              " 'Tech noir': 'https://en.wikipedia.org/wiki/Tech_noir',\n",
              " 'Techno-thriller': 'https://en.wikipedia.org/wiki/Techno-thriller',\n",
              " 'Teen film': 'https://en.wikipedia.org/wiki/Teen_film',\n",
              " 'Telefoni Bianchi': 'https://en.wikipedia.org/wiki/Telefoni_Bianchi',\n",
              " 'Template talk:Film genres': 'https://en.wikipedia.org/wiki/Template_talk:Film_genres',\n",
              " 'Template:Exploitation film': 'https://en.wikipedia.org/wiki/Template:Exploitation_film',\n",
              " 'Template:Film genres': 'https://en.wikipedia.org/wiki/Template:Film_genres',\n",
              " 'Tentacle erotica': 'https://en.wikipedia.org/wiki/Tentacle_erotica',\n",
              " 'The Bankers of God: The Calvi Affair': 'https://en.wikipedia.org/wiki/The_Bankers_of_God:_The_Calvi_Affair',\n",
              " 'The Big Family': 'https://en.wikipedia.org/wiki/The_Big_Family',\n",
              " 'The Business (film)': 'https://en.wikipedia.org/wiki/The_Business_(film)',\n",
              " 'The City Stands Trial': 'https://en.wikipedia.org/wiki/The_City_Stands_Trial',\n",
              " 'The Consequences of Love': 'https://en.wikipedia.org/wiki/The_Consequences_of_Love',\n",
              " 'The Day of the Owl (film)': 'https://en.wikipedia.org/wiki/The_Day_of_the_Owl_(film)',\n",
              " 'The Fall of the Krays': 'https://en.wikipedia.org/wiki/The_Fall_of_the_Krays',\n",
              " 'The Freshman (1990 film)': 'https://en.wikipedia.org/wiki/The_Freshman_(1990_film)',\n",
              " 'The Immortal (2019 film)': 'https://en.wikipedia.org/wiki/The_Immortal_(2019_film)',\n",
              " 'The Italian Connection': 'https://en.wikipedia.org/wiki/The_Italian_Connection',\n",
              " 'The Killer (1989 film)': 'https://en.wikipedia.org/wiki/The_Killer_(1989_film)',\n",
              " 'The Krays (film)': 'https://en.wikipedia.org/wiki/The_Krays_(film)',\n",
              " 'The Legendary Giulia and Other Miracles': 'https://en.wikipedia.org/wiki/The_Legendary_Giulia_and_Other_Miracles',\n",
              " 'The Long Good Friday': 'https://en.wikipedia.org/wiki/The_Long_Good_Friday',\n",
              " 'The Mafia Kills Only in Summer (film)': 'https://en.wikipedia.org/wiki/The_Mafia_Kills_Only_in_Summer_(film)',\n",
              " 'The Man of Glass': 'https://en.wikipedia.org/wiki/The_Man_of_Glass',\n",
              " 'The Mattei Affair': 'https://en.wikipedia.org/wiki/The_Mattei_Affair',\n",
              " 'The New Godfathers': 'https://en.wikipedia.org/wiki/The_New_Godfathers',\n",
              " 'The Palermo Connection': 'https://en.wikipedia.org/wiki/The_Palermo_Connection',\n",
              " 'The Payoff (1978 film)': 'https://en.wikipedia.org/wiki/The_Payoff_(1978_film)',\n",
              " 'The Repenter': 'https://en.wikipedia.org/wiki/The_Repenter',\n",
              " 'The Rise of the Krays': 'https://en.wikipedia.org/wiki/The_Rise_of_the_Krays',\n",
              " 'The Sicilian (film)': 'https://en.wikipedia.org/wiki/The_Sicilian_(film)',\n",
              " 'The Sicilian Girl': 'https://en.wikipedia.org/wiki/The_Sicilian_Girl',\n",
              " 'The Wee Man': 'https://en.wikipedia.org/wiki/The_Wee_Man',\n",
              " 'The hub for editors': 'https://en.wikipedia.org/wiki/Wikipedia:Community_portal',\n",
              " 'Third Cinema': 'https://en.wikipedia.org/wiki/Third_Cinema',\n",
              " 'Thriller (genre)': 'https://en.wikipedia.org/wiki/Thriller_(genre)',\n",
              " 'Thriller film': 'https://en.wikipedia.org/wiki/Thriller_film',\n",
              " 'To Be Number One (film)': 'https://en.wikipedia.org/wiki/To_Be_Number_One_(film)',\n",
              " 'Tokusatsu': 'https://en.wikipedia.org/wiki/Tokusatsu',\n",
              " 'Toronto New Wave': 'https://en.wikipedia.org/wiki/Toronto_New_Wave',\n",
              " 'Traditional animation': 'https://en.wikipedia.org/wiki/Traditional_animation',\n",
              " 'Transgressive art': 'https://en.wikipedia.org/wiki/Transgressive_art',\n",
              " 'Travel documentary': 'https://en.wikipedia.org/wiki/Travel_documentary',\n",
              " 'Trial film': 'https://en.wikipedia.org/wiki/Trial_film',\n",
              " 'Trick film': 'https://en.wikipedia.org/wiki/Trick_film',\n",
              " 'Trümmerfilm': 'https://en.wikipedia.org/wiki/Tr%C3%BCmmerfilm',\n",
              " 'Turksploitation': 'https://en.wikipedia.org/wiki/Turksploitation',\n",
              " 'Turri il bandito': 'https://en.wikipedia.org/wiki/Turri_il_bandito',\n",
              " 'Ugramm': 'https://en.wikipedia.org/wiki/Ugramm',\n",
              " 'Underground film': 'https://en.wikipedia.org/wiki/Underground_film',\n",
              " 'Upload files [u]': 'https://en.wikipedia.org/wiki/Wikipedia:File_Upload_Wizard',\n",
              " 'Urban Gothic': 'https://en.wikipedia.org/wiki/Urban_Gothic#Film',\n",
              " 'Vada Chennai': 'https://en.wikipedia.org/wiki/Vada_Chennai',\n",
              " 'Vampire films': 'https://en.wikipedia.org/wiki/Vampire_films',\n",
              " 'Vento del sud': 'https://en.wikipedia.org/wiki/Vento_del_sud',\n",
              " 'Vetrimaran': 'https://en.wikipedia.org/wiki/Vetrimaran',\n",
              " 'Video nasty': 'https://en.wikipedia.org/wiki/Video_nasty',\n",
              " 'View the content page [c]': 'https://en.wikipedia.org/wiki/Gangster_film',\n",
              " 'Vigilante film': 'https://en.wikipedia.org/wiki/Vigilante_film',\n",
              " 'Vikram Vedha': 'https://en.wikipedia.org/wiki/Vikram_Vedha',\n",
              " 'Visit a randomly selected article [x]': 'https://en.wikipedia.org/wiki/Special:Random',\n",
              " 'Visit the main page [z]': 'https://en.wikipedia.org/wiki/Main_Page',\n",
              " 'Vulgar auteurism': 'https://en.wikipedia.org/wiki/Vulgar_auteurism',\n",
              " 'Walk Proud': 'https://en.wikipedia.org/wiki/Walk_Proud',\n",
              " 'War film': 'https://en.wikipedia.org/wiki/War_film',\n",
              " 'We Still Kill the Old Way': 'https://en.wikipedia.org/wiki/We_Still_Kill_the_Old_Way',\n",
              " 'We Still Kill the Old Way (2014 film)': 'https://en.wikipedia.org/wiki/We_Still_Kill_the_Old_Way_(2014_film)',\n",
              " 'Weapons of Death': 'https://en.wikipedia.org/wiki/Weapons_of_Death',\n",
              " 'Weird West': 'https://en.wikipedia.org/wiki/Weird_West',\n",
              " 'Werewolf fiction': 'https://en.wikipedia.org/wiki/Werewolf_fiction#Films',\n",
              " 'Western (genre)': 'https://en.wikipedia.org/wiki/Western_(genre)',\n",
              " \"Where's Picone?\": 'https://en.wikipedia.org/wiki/Where%27s_Picone%3F',\n",
              " 'Whodunit': 'https://en.wikipedia.org/wiki/Whodunit',\n",
              " 'Wikipedia:About': 'https://en.wikipedia.org/wiki/Wikipedia:About',\n",
              " 'Wikipedia:General disclaimer': 'https://en.wikipedia.org/wiki/Wikipedia:General_disclaimer',\n",
              " \"Woman's film\": 'https://en.wikipedia.org/wiki/Woman%27s_film',\n",
              " 'Women in prison film': 'https://en.wikipedia.org/wiki/Women_in_prison_film',\n",
              " 'Wuxia': 'https://en.wikipedia.org/wiki/Wuxia#Films',\n",
              " 'Yakuza film': 'https://en.wikipedia.org/wiki/Yakuza_film',\n",
              " 'Yaoi': 'https://en.wikipedia.org/wiki/Yaoi',\n",
              " 'Yugoslav Black Wave': 'https://en.wikipedia.org/wiki/Yugoslav_Black_Wave',\n",
              " 'Yuri (genre)': 'https://en.wikipedia.org/wiki/Yuri_(genre)',\n",
              " 'Z movie': 'https://en.wikipedia.org/wiki/Z_movie',\n",
              " 'Zanjeer (1973 film)': 'https://en.wikipedia.org/wiki/Zanjeer_(1973_film)',\n",
              " 'Zombie comedy': 'https://en.wikipedia.org/wiki/Zombie_comedy',\n",
              " 'Zoot Suit (film)': 'https://en.wikipedia.org/wiki/Zoot_Suit_(film)'}"
            ]
          },
          "metadata": {
            "tags": []
          },
          "execution_count": 6
        }
      ]
    },
    {
      "cell_type": "markdown",
      "metadata": {
        "id": "jJjhJj-Wgzlk"
      },
      "source": [
        "The dictionary movie_doc contains our movies' titles and links to their wikipedia websites. But it also contains some of the garbage, for eg. the first 5 elements of the dictionary are no links to any movies. \n",
        "<br>\n",
        "In this project, we only need to extract the info-box of gangster movies, so we will visit every page via their specific links, and if they do not contain information of our choice, we will discard that entry from our movies_doc dictionary."
      ]
    },
    {
      "cell_type": "code",
      "metadata": {
        "colab": {
          "base_uri": "https://localhost:8080/"
        },
        "id": "83GXlOfSgzMK",
        "outputId": "9546ec03-a2dc-4af4-e287-04d24018f14c"
      },
      "source": [
        "len(movies_doc)"
      ],
      "execution_count": 7,
      "outputs": [
        {
          "output_type": "execute_result",
          "data": {
            "text/plain": [
              "611"
            ]
          },
          "metadata": {
            "tags": []
          },
          "execution_count": 7
        }
      ]
    },
    {
      "cell_type": "code",
      "metadata": {
        "id": "bBpXSwhvClUd"
      },
      "source": [
        "def get_content_value(row_data):\n",
        "    if row_data.find('li'):\n",
        "        return [li.get_text(\" \", strip=True).replace(\"\\xa0\", \"\") for li in row_data.find_all(\"li\")]\n",
        "    else:\n",
        "        return row_data.get_text(\" \", strip=True).replace(\"\\xa0\", \"\")\n",
        "\n",
        "\n",
        "def get_info_box(url):\n",
        "    \"\"\" this function will extract the infobox-vevent from the url \"\"\"\n",
        "\n",
        "    r = requests.get(url)\n",
        "    soup = BeautifulSoup(r.content, \"html.parser\")\n",
        "\n",
        "    info_box = soup.find(class_=\"infobox vevent\")\n",
        "    info_rows = info_box.find_all(\"tr\")\n",
        "\n",
        "    movie_info = {}\n",
        "\n",
        "    for idx, row in enumerate(info_rows):\n",
        "        if idx == 0:\n",
        "            movie_info[\"title\"] = row.find(\"th\").get_text(\" \", strip=True)\n",
        "        elif idx == 1:\n",
        "            continue\n",
        "        else:\n",
        "            content_key = row.find(\"th\").get_text(\" \", strip=True)\n",
        "            content_val = get_content_value(row.find(\"td\"))\n",
        "            movie_info[content_key] = content_val\n",
        "    \n",
        "    return movie_info"
      ],
      "execution_count": 13,
      "outputs": []
    },
    {
      "cell_type": "code",
      "metadata": {
        "id": "gCTG2IgIjXlC",
        "colab": {
          "base_uri": "https://localhost:8080/"
        },
        "outputId": "18cd92b8-3b90-4ef9-9bbf-9c5c5241c827"
      },
      "source": [
        "movie_info_list = []\n",
        "for idx, v in tqdm(enumerate(movies_doc.values())):\n",
        "\n",
        "    # put program to sleep, in order to not exploit wikipedia against its rules, as defined in its robot.txt file\n",
        "    # https://en.wikipedia.org/robots.txt <- link for robot.txt file for wiki\n",
        "    if idx%10==0:\n",
        "        time.sleep(10.0)\n",
        "\n",
        "    try:\n",
        "        movie_info_list.append(get_info_box(v))\n",
        "    except Exception as e:\n",
        "        print(e, v)    "
      ],
      "execution_count": 16,
      "outputs": [
        {
          "output_type": "stream",
          "text": [
            "\n",
            "0it [00:00, ?it/s]\u001b[A\n",
            "1it [00:10, 10.17s/it]\u001b[A\n",
            "2it [00:10,  7.16s/it]\u001b[A\n",
            "4it [00:10,  5.04s/it]\u001b[A\n",
            "5it [00:10,  3.57s/it]\u001b[A\n",
            "7it [00:10,  2.52s/it]\u001b[A\n",
            "9it [00:10,  1.78s/it]\u001b[A\n",
            "11it [00:21,  2.77s/it]\u001b[A\n",
            "13it [00:21,  1.96s/it]\u001b[A\n",
            "16it [00:21,  1.38s/it]\u001b[A\n",
            "19it [00:21,  1.02it/s]\u001b[A\n",
            "21it [00:31,  2.21s/it]\u001b[A\n",
            "24it [00:31,  1.56s/it]\u001b[A"
          ],
          "name": "stderr"
        },
        {
          "output_type": "stream",
          "text": [
            "'NoneType' object has no attribute 'get_text' https://en.wikipedia.org/wiki/Caliber_9\n"
          ],
          "name": "stdout"
        },
        {
          "output_type": "stream",
          "text": [
            "\n",
            "25it [00:31,  1.14s/it]\u001b[A\n",
            "28it [00:31,  1.23it/s]\u001b[A"
          ],
          "name": "stderr"
        },
        {
          "output_type": "stream",
          "text": [
            "'NoneType' object has no attribute 'find' https://en.wikipedia.org/wiki/Il_Capo_dei_Capi\n"
          ],
          "name": "stdout"
        },
        {
          "output_type": "stream",
          "text": [
            "\n",
            "30it [00:32,  1.71it/s]\u001b[A\n",
            "32it [00:42,  1.93s/it]\u001b[A\n",
            "33it [00:42,  1.38s/it]\u001b[A\n",
            "36it [00:42,  1.02it/s]\u001b[A\n",
            "38it [00:42,  1.42it/s]\u001b[A"
          ],
          "name": "stderr"
        },
        {
          "output_type": "stream",
          "text": [
            "'NoneType' object has no attribute 'get_text' https://en.wikipedia.org/wiki/Fort_Apache_Napoli\n"
          ],
          "name": "stdout"
        },
        {
          "output_type": "stream",
          "text": [
            "\n",
            "40it [00:42,  1.95it/s]\u001b[A\n",
            "42it [00:52,  1.87s/it]\u001b[A\n",
            "43it [00:52,  1.35s/it]\u001b[A\n",
            "45it [00:53,  1.04it/s]\u001b[A\n",
            "48it [00:53,  1.45it/s]\u001b[A"
          ],
          "name": "stderr"
        },
        {
          "output_type": "stream",
          "text": [
            "'NoneType' object has no attribute 'get_text' https://en.wikipedia.org/wiki/The_Italian_Connection\n",
            "'NoneType' object has no attribute 'get_text' https://en.wikipedia.org/wiki/The_Legendary_Giulia_and_Other_Miracles\n",
            "'NoneType' object has no attribute 'get_text' https://en.wikipedia.org/wiki/The_Mafia_Kills_Only_in_Summer_(film)\n"
          ],
          "name": "stdout"
        },
        {
          "output_type": "stream",
          "text": [
            "\n",
            "51it [01:03,  1.50s/it]\u001b[A\n",
            "53it [01:03,  1.06s/it]\u001b[A\n",
            "55it [01:03,  1.31it/s]\u001b[A\n",
            "58it [01:03,  1.83it/s]\u001b[A\n",
            "60it [01:03,  2.45it/s]\u001b[A"
          ],
          "name": "stderr"
        },
        {
          "output_type": "stream",
          "text": [
            "'NoneType' object has no attribute 'find' https://en.wikipedia.org/wiki/La_piovra\n"
          ],
          "name": "stdout"
        },
        {
          "output_type": "stream",
          "text": [
            "\n",
            "62it [01:13,  1.80s/it]\u001b[A\n",
            "63it [01:14,  1.30s/it]\u001b[A\n",
            "66it [01:14,  1.08it/s]\u001b[A\n",
            "69it [01:14,  1.51it/s]\u001b[A\n",
            "71it [01:24,  1.98s/it]\u001b[A\n",
            "73it [01:24,  1.40s/it]\u001b[A\n",
            "75it [01:24,  1.00it/s]\u001b[A"
          ],
          "name": "stderr"
        },
        {
          "output_type": "stream",
          "text": [
            "'NoneType' object has no attribute 'get_text' https://en.wikipedia.org/wiki/The_Immortal_(2019_film)\n"
          ],
          "name": "stdout"
        },
        {
          "output_type": "stream",
          "text": [
            "\n",
            "78it [01:24,  1.40it/s]\u001b[A\n",
            "80it [01:25,  1.89it/s]\u001b[A"
          ],
          "name": "stderr"
        },
        {
          "output_type": "stream",
          "text": [
            "'NoneType' object has no attribute 'find_all' https://en.wikipedia.org/wiki/Kray_Twins#In_popular_culture\n"
          ],
          "name": "stdout"
        },
        {
          "output_type": "stream",
          "text": [
            "\n",
            "82it [01:35,  1.89s/it]\u001b[A\n",
            "83it [01:35,  1.38s/it]\u001b[A"
          ],
          "name": "stderr"
        },
        {
          "output_type": "stream",
          "text": [
            "'NoneType' object has no attribute 'find_all' https://en.wikipedia.org/wiki/The_Rise_of_the_Krays\n"
          ],
          "name": "stdout"
        },
        {
          "output_type": "stream",
          "text": [
            "\n",
            "85it [01:35,  1.00it/s]\u001b[A\n",
            "87it [01:35,  1.39it/s]\u001b[A\n",
            "89it [01:35,  1.92it/s]\u001b[A\n",
            "91it [01:46,  1.89s/it]\u001b[A\n",
            "93it [01:46,  1.34s/it]\u001b[A\n",
            "95it [01:46,  1.03it/s]\u001b[A\n",
            "97it [01:46,  1.43it/s]\u001b[A\n",
            "99it [01:46,  1.97it/s]\u001b[A"
          ],
          "name": "stderr"
        },
        {
          "output_type": "stream",
          "text": [
            "'NoneType' object has no attribute 'find_all' https://en.wikipedia.org/wiki/A_Very_British_Gangster\n"
          ],
          "name": "stdout"
        },
        {
          "output_type": "stream",
          "text": [
            "\n",
            "101it [01:56,  1.89s/it]\u001b[A\n",
            "103it [01:56,  1.34s/it]\u001b[A\n",
            "105it [01:57,  1.05it/s]\u001b[A\n",
            "107it [01:57,  1.46it/s]\u001b[A\n",
            "109it [01:57,  1.83it/s]\u001b[A"
          ],
          "name": "stderr"
        },
        {
          "output_type": "stream",
          "text": [
            "'NoneType' object has no attribute 'find_all' https://en.wikipedia.org/wiki/Dacoit_film\n",
            "'NoneType' object has no attribute 'find_all' https://en.wikipedia.org/wiki/Dacoit\n"
          ],
          "name": "stdout"
        },
        {
          "output_type": "stream",
          "text": [
            "\n",
            "111it [02:07,  1.94s/it]\u001b[A\n",
            "112it [02:08,  1.46s/it]\u001b[A"
          ],
          "name": "stderr"
        },
        {
          "output_type": "stream",
          "text": [
            "'NoneType' object has no attribute 'get_text' https://en.wikipedia.org/wiki/Gunga_Jumna\n"
          ],
          "name": "stdout"
        },
        {
          "output_type": "stream",
          "text": [
            "\n",
            "113it [02:08,  1.09s/it]\u001b[A"
          ],
          "name": "stderr"
        },
        {
          "output_type": "stream",
          "text": [
            "'NoneType' object has no attribute 'get_text' https://en.wikipedia.org/wiki/Bandit_Queen\n"
          ],
          "name": "stdout"
        },
        {
          "output_type": "stream",
          "text": [
            "\n",
            "115it [02:09,  1.18it/s]\u001b[A\n",
            "116it [02:09,  1.56it/s]\u001b[A"
          ],
          "name": "stderr"
        },
        {
          "output_type": "stream",
          "text": [
            "'NoneType' object has no attribute 'find_all' https://en.wikipedia.org/wiki/Mumbai_underworld_film\n",
            "'NoneType' object has no attribute 'find_all' https://en.wikipedia.org/wiki/Mumbai_underworld\n"
          ],
          "name": "stdout"
        },
        {
          "output_type": "stream",
          "text": [
            "\n",
            "117it [02:09,  1.83it/s]\u001b[A"
          ],
          "name": "stderr"
        },
        {
          "output_type": "stream",
          "text": [
            "'NoneType' object has no attribute 'find_all' https://en.wikipedia.org/wiki/Slum\n"
          ],
          "name": "stdout"
        },
        {
          "output_type": "stream",
          "text": [
            "\n",
            "118it [02:10,  1.65it/s]\u001b[A\n",
            "120it [02:10,  2.22it/s]\u001b[A"
          ],
          "name": "stderr"
        },
        {
          "output_type": "stream",
          "text": [
            "'NoneType' object has no attribute 'find_all' https://en.wikipedia.org/wiki/Mumbai\n",
            "'NoneType' object has no attribute 'find_all' https://en.wikipedia.org/wiki/Haji_Mastan\n",
            "'NoneType' object has no attribute 'find_all' https://en.wikipedia.org/wiki/Dawood_Ibrahim\n"
          ],
          "name": "stdout"
        },
        {
          "output_type": "stream",
          "text": [
            "\n",
            "121it [02:20,  3.34s/it]\u001b[A"
          ],
          "name": "stderr"
        },
        {
          "output_type": "stream",
          "text": [
            "'NoneType' object has no attribute 'find_all' https://en.wikipedia.org/wiki/D-Company\n"
          ],
          "name": "stdout"
        },
        {
          "output_type": "stream",
          "text": [
            "\n",
            "123it [02:20,  2.37s/it]\u001b[A\n",
            "124it [02:21,  1.80s/it]\u001b[A\n",
            "125it [02:21,  1.30s/it]\u001b[A"
          ],
          "name": "stderr"
        },
        {
          "output_type": "stream",
          "text": [
            "'NoneType' object has no attribute 'find' https://en.wikipedia.org/wiki/Don_(franchise)\n"
          ],
          "name": "stdout"
        },
        {
          "output_type": "stream",
          "text": [
            "\n",
            "126it [02:21,  1.03it/s]\u001b[A\n",
            "128it [02:21,  1.41it/s]\u001b[A\n",
            "129it [02:22,  1.74it/s]\u001b[A\n",
            "130it [02:22,  1.83it/s]\u001b[A\n",
            "131it [02:32,  3.44s/it]\u001b[A\n",
            "132it [02:32,  2.44s/it]\u001b[A\n",
            "133it [02:32,  1.74s/it]\u001b[A\n",
            "134it [02:33,  1.33s/it]\u001b[A\n",
            "135it [02:33,  1.03it/s]\u001b[A\n",
            "136it [02:33,  1.35it/s]\u001b[A\n",
            "137it [02:33,  1.75it/s]\u001b[A"
          ],
          "name": "stderr"
        },
        {
          "output_type": "stream",
          "text": [
            "'NoneType' object has no attribute 'find_all' https://en.wikipedia.org/wiki/Mafia_Raj\n"
          ],
          "name": "stdout"
        },
        {
          "output_type": "stream",
          "text": [
            "\n",
            "139it [02:34,  2.13it/s]\u001b[A"
          ],
          "name": "stderr"
        },
        {
          "output_type": "stream",
          "text": [
            "'NoneType' object has no attribute 'find_all' https://en.wikipedia.org/wiki/Neo_noir\n"
          ],
          "name": "stdout"
        },
        {
          "output_type": "stream",
          "text": [
            "\n",
            "141it [02:44,  1.85s/it]\u001b[A\n",
            "142it [02:44,  1.37s/it]\u001b[A\n",
            "144it [02:44,  1.02it/s]\u001b[A"
          ],
          "name": "stderr"
        },
        {
          "output_type": "stream",
          "text": [
            "'NoneType' object has no attribute 'find_all' https://en.wikipedia.org/wiki/Selvaraghavan\n",
            "'NoneType' object has no attribute 'find_all' https://en.wikipedia.org/wiki/Rajeev_Ravi\n"
          ],
          "name": "stdout"
        },
        {
          "output_type": "stream",
          "text": [
            "\n",
            "145it [02:45,  1.36it/s]\u001b[A\n",
            "146it [02:45,  1.80it/s]\u001b[A"
          ],
          "name": "stderr"
        },
        {
          "output_type": "stream",
          "text": [
            "'NoneType' object has no attribute 'get_text' https://en.wikipedia.org/wiki/Vikram_Vedha\n"
          ],
          "name": "stdout"
        },
        {
          "output_type": "stream",
          "text": [
            "\n",
            "147it [02:45,  2.04it/s]\u001b[A\n",
            "149it [02:45,  2.74it/s]\u001b[A"
          ],
          "name": "stderr"
        },
        {
          "output_type": "stream",
          "text": [
            "'NoneType' object has no attribute 'find_all' https://en.wikipedia.org/wiki/Vetrimaran\n"
          ],
          "name": "stdout"
        },
        {
          "output_type": "stream",
          "text": [
            "\n",
            "150it [02:46,  2.78it/s]\u001b[A"
          ],
          "name": "stderr"
        },
        {
          "output_type": "stream",
          "text": [
            "'NoneType' object has no attribute 'get_text' https://en.wikipedia.org/wiki/Kannada\n"
          ],
          "name": "stdout"
        },
        {
          "output_type": "stream",
          "text": [
            "\n",
            "151it [02:56,  3.29s/it]\u001b[A\n",
            "152it [02:56,  2.35s/it]\u001b[A"
          ],
          "name": "stderr"
        },
        {
          "output_type": "stream",
          "text": [
            "'NoneType' object has no attribute 'find_all' https://en.wikipedia.org/wiki/Gun_fu\n",
            "'NoneType' object has no attribute 'find_all' https://en.wikipedia.org/wiki/Heroic_bloodshed\n"
          ],
          "name": "stdout"
        },
        {
          "output_type": "stream",
          "text": [
            "\n",
            "154it [02:56,  1.66s/it]\u001b[A"
          ],
          "name": "stderr"
        },
        {
          "output_type": "stream",
          "text": [
            "'NoneType' object has no attribute 'get_text' https://en.wikipedia.org/wiki/A_Better_Tomorrow\n"
          ],
          "name": "stdout"
        },
        {
          "output_type": "stream",
          "text": [
            "\n",
            "155it [02:56,  1.26s/it]\u001b[A\n",
            "156it [02:56,  1.08it/s]\u001b[A"
          ],
          "name": "stderr"
        },
        {
          "output_type": "stream",
          "text": [
            "'NoneType' object has no attribute 'get_text' https://en.wikipedia.org/wiki/The_Killer_(1989_film)\n",
            "'NoneType' object has no attribute 'get_text' https://en.wikipedia.org/wiki/To_Be_Number_One_(film)\n"
          ],
          "name": "stdout"
        },
        {
          "output_type": "stream",
          "text": [
            "\n",
            "157it [02:57,  1.44it/s]\u001b[A\n",
            "159it [02:57,  1.98it/s]\u001b[A"
          ],
          "name": "stderr"
        },
        {
          "output_type": "stream",
          "text": [
            "'NoneType' object has no attribute 'get_text' https://en.wikipedia.org/wiki/Infernal_Affairs\n"
          ],
          "name": "stdout"
        },
        {
          "output_type": "stream",
          "text": [
            "\n",
            "161it [03:07,  1.87s/it]\u001b[A\n",
            "163it [03:07,  1.35s/it]\u001b[A"
          ],
          "name": "stderr"
        },
        {
          "output_type": "stream",
          "text": [
            "'NoneType' object has no attribute 'find_all' https://en.wikipedia.org/wiki/Gangster_film\n"
          ],
          "name": "stdout"
        },
        {
          "output_type": "stream",
          "text": [
            "\n",
            "164it [03:07,  1.02s/it]\u001b[A"
          ],
          "name": "stderr"
        },
        {
          "output_type": "stream",
          "text": [
            "'NoneType' object has no attribute 'find_all' https://en.wikipedia.org/wiki/Portal:Film\n"
          ],
          "name": "stdout"
        },
        {
          "output_type": "stream",
          "text": [
            "\n",
            "165it [03:08,  1.27it/s]\u001b[A\n",
            "166it [03:08,  1.71it/s]\u001b[A"
          ],
          "name": "stderr"
        },
        {
          "output_type": "stream",
          "text": [
            "'NoneType' object has no attribute 'find_all' https://en.wikipedia.org/wiki/Doi_(identifier)\n",
            "'NoneType' object has no attribute 'find_all' https://en.wikipedia.org/wiki/JSTOR_(identifier)\n",
            "'NoneType' object has no attribute 'find_all' https://en.wikipedia.org/wiki/I.B._Tauris\n"
          ],
          "name": "stdout"
        },
        {
          "output_type": "stream",
          "text": [
            "\n",
            "168it [03:08,  2.20it/s]\u001b[A"
          ],
          "name": "stderr"
        },
        {
          "output_type": "stream",
          "text": [
            "'NoneType' object has no attribute 'find_all' https://en.wikipedia.org/wiki/ISBN_(identifier)\n"
          ],
          "name": "stdout"
        },
        {
          "output_type": "stream",
          "text": [
            "\n",
            "169it [03:09,  1.57it/s]\u001b[A"
          ],
          "name": "stderr"
        },
        {
          "output_type": "stream",
          "text": [
            "'NoneType' object has no attribute 'find_all' https://en.wikipedia.org/wiki/Special:BookSources/978-1-84885-040-8\n"
          ],
          "name": "stdout"
        },
        {
          "output_type": "stream",
          "text": [
            "\n",
            "170it [03:10,  1.36it/s]\u001b[A"
          ],
          "name": "stderr"
        },
        {
          "output_type": "stream",
          "text": [
            "'NoneType' object has no attribute 'find_all' https://en.wikipedia.org/wiki/Special:BookSources/9780190264079\n"
          ],
          "name": "stdout"
        },
        {
          "output_type": "stream",
          "text": [
            "\n",
            "171it [03:21,  3.78s/it]\u001b[A"
          ],
          "name": "stderr"
        },
        {
          "output_type": "stream",
          "text": [
            "'NoneType' object has no attribute 'find_all' https://en.wikipedia.org/wiki/Special:BookSources/978-0-7864-3136-6\n"
          ],
          "name": "stdout"
        },
        {
          "output_type": "stream",
          "text": [
            "\n",
            "172it [03:22,  2.90s/it]\u001b[A\n",
            "173it [03:22,  2.08s/it]\u001b[A"
          ],
          "name": "stderr"
        },
        {
          "output_type": "stream",
          "text": [
            "'NoneType' object has no attribute 'find_all' https://en.wikipedia.org/wiki/Special:BookSources/978-0-415-28132-4\n",
            "'NoneType' object has no attribute 'find_all' https://en.wikipedia.org/wiki/Rotten_Tomatoes\n"
          ],
          "name": "stdout"
        },
        {
          "output_type": "stream",
          "text": [
            "\n",
            "174it [03:22,  1.55s/it]\u001b[A"
          ],
          "name": "stderr"
        },
        {
          "output_type": "stream",
          "text": [
            "'NoneType' object has no attribute 'find_all' https://en.wikipedia.org/wiki/Fandango_(company)\n",
            "'NoneType' object has no attribute 'find_all' https://en.wikipedia.org/wiki/IndieWire\n"
          ],
          "name": "stdout"
        },
        {
          "output_type": "stream",
          "text": [
            "\n",
            "176it [03:22,  1.13s/it]\u001b[A"
          ],
          "name": "stderr"
        },
        {
          "output_type": "stream",
          "text": [
            "'NoneType' object has no attribute 'find_all' https://en.wikipedia.org/wiki/OCLC_(identifier)\n",
            "'NoneType' object has no attribute 'find_all' https://en.wikipedia.org/wiki/Category:CS1_maint:_multiple_names:_authors_list\n"
          ],
          "name": "stdout"
        },
        {
          "output_type": "stream",
          "text": [
            "\n",
            "178it [03:23,  1.07it/s]\u001b[A\n",
            "179it [03:24,  1.42it/s]\u001b[A"
          ],
          "name": "stderr"
        },
        {
          "output_type": "stream",
          "text": [
            "'NoneType' object has no attribute 'find_all' https://en.wikipedia.org/wiki/Special:BookSources/978-0-8108-7541-8\n",
            "'NoneType' object has no attribute 'find_all' https://en.wikipedia.org/wiki/Mark_Kermode\n",
            "'NoneType' object has no attribute 'find_all' https://en.wikipedia.org/wiki/Guardian_Unlimited\n"
          ],
          "name": "stdout"
        },
        {
          "output_type": "stream",
          "text": [
            "\n",
            "181it [03:35,  2.13s/it]\u001b[A"
          ],
          "name": "stderr"
        },
        {
          "output_type": "stream",
          "text": [
            "'NoneType' object has no attribute 'find_all' https://en.wikipedia.org/wiki/Special:BookSources/978-1-4051-6370-5\n"
          ],
          "name": "stdout"
        },
        {
          "output_type": "stream",
          "text": [
            "\n",
            "182it [03:35,  1.61s/it]\u001b[A"
          ],
          "name": "stderr"
        },
        {
          "output_type": "stream",
          "text": [
            "'NoneType' object has no attribute 'find_all' https://en.wikipedia.org/wiki/Template:Film_genres\n",
            "'NoneType' object has no attribute 'find_all' https://en.wikipedia.org/wiki/Template_talk:Film_genres\n"
          ],
          "name": "stdout"
        },
        {
          "output_type": "stream",
          "text": [
            "\n",
            "184it [03:35,  1.16s/it]\u001b[A\n",
            "185it [03:35,  1.17it/s]\u001b[A"
          ],
          "name": "stderr"
        },
        {
          "output_type": "stream",
          "text": [
            "'NoneType' object has no attribute 'find_all' https://en.wikipedia.org/wiki/Action_film\n",
            "'NoneType' object has no attribute 'find_all' https://en.wikipedia.org/wiki/Arthouse_action_film\n"
          ],
          "name": "stdout"
        },
        {
          "output_type": "stream",
          "text": [
            "\n",
            "186it [03:36,  1.51it/s]\u001b[A\n",
            "187it [03:36,  2.01it/s]\u001b[A"
          ],
          "name": "stderr"
        },
        {
          "output_type": "stream",
          "text": [
            "'NoneType' object has no attribute 'find_all' https://en.wikipedia.org/wiki/Hong_Kong_action_cinema\n",
            "'NoneType' object has no attribute 'find_all' https://en.wikipedia.org/wiki/Adventure_film\n"
          ],
          "name": "stdout"
        },
        {
          "output_type": "stream",
          "text": [
            "\n",
            "188it [03:36,  2.35it/s]\u001b[A"
          ],
          "name": "stderr"
        },
        {
          "output_type": "stream",
          "text": [
            "'NoneType' object has no attribute 'find_all' https://en.wikipedia.org/wiki/Survival_film\n"
          ],
          "name": "stdout"
        },
        {
          "output_type": "stream",
          "text": [
            "\n",
            "189it [03:36,  2.76it/s]\u001b[A\n",
            "190it [03:36,  3.40it/s]\u001b[A"
          ],
          "name": "stderr"
        },
        {
          "output_type": "stream",
          "text": [
            "'NoneType' object has no attribute 'find_all' https://en.wikipedia.org/wiki/Art_film\n",
            "'NoneType' object has no attribute 'find_all' https://en.wikipedia.org/wiki/Biographical_film\n"
          ],
          "name": "stdout"
        },
        {
          "output_type": "stream",
          "text": [
            "\n",
            "191it [03:46,  3.25s/it]\u001b[A\n",
            "192it [03:47,  2.33s/it]\u001b[A"
          ],
          "name": "stderr"
        },
        {
          "output_type": "stream",
          "text": [
            "'NoneType' object has no attribute 'find_all' https://en.wikipedia.org/wiki/Christian_film_industry\n",
            "'NoneType' object has no attribute 'find_all' https://en.wikipedia.org/wiki/Comedy_film\n"
          ],
          "name": "stdout"
        },
        {
          "output_type": "stream",
          "text": [
            "\n",
            "193it [03:47,  1.69s/it]\u001b[A"
          ],
          "name": "stderr"
        },
        {
          "output_type": "stream",
          "text": [
            "'NoneType' object has no attribute 'find_all' https://en.wikipedia.org/wiki/Black_comedy\n"
          ],
          "name": "stdout"
        },
        {
          "output_type": "stream",
          "text": [
            "\n",
            "194it [03:47,  1.26s/it]\u001b[A\n",
            "195it [03:47,  1.08it/s]\u001b[A"
          ],
          "name": "stderr"
        },
        {
          "output_type": "stream",
          "text": [
            "'NoneType' object has no attribute 'find_all' https://en.wikipedia.org/wiki/Commedia_all%27italiana\n",
            "'NoneType' object has no attribute 'find_all' https://en.wikipedia.org/wiki/Commedia_sexy_all%27italiana\n"
          ],
          "name": "stdout"
        },
        {
          "output_type": "stream",
          "text": [
            "\n",
            "196it [03:47,  1.46it/s]\u001b[A\n",
            "197it [03:47,  1.94it/s]\u001b[A"
          ],
          "name": "stderr"
        },
        {
          "output_type": "stream",
          "text": [
            "'NoneType' object has no attribute 'find_all' https://en.wikipedia.org/wiki/Bromantic_comedy\n",
            "'NoneType' object has no attribute 'find_all' https://en.wikipedia.org/wiki/Comedy-drama\n"
          ],
          "name": "stdout"
        },
        {
          "output_type": "stream",
          "text": [
            "\n",
            "198it [03:48,  2.52it/s]\u001b[A\n",
            "199it [03:48,  3.17it/s]\u001b[A"
          ],
          "name": "stderr"
        },
        {
          "output_type": "stream",
          "text": [
            "'NoneType' object has no attribute 'find_all' https://en.wikipedia.org/wiki/Gross_out\n",
            "'NoneType' object has no attribute 'find_all' https://en.wikipedia.org/wiki/Comedy_horror\n"
          ],
          "name": "stdout"
        },
        {
          "output_type": "stream",
          "text": [
            "\n",
            "200it [03:48,  3.21it/s]\u001b[A"
          ],
          "name": "stderr"
        },
        {
          "output_type": "stream",
          "text": [
            "'NoneType' object has no attribute 'find_all' https://en.wikipedia.org/wiki/Parody_film\n"
          ],
          "name": "stdout"
        },
        {
          "output_type": "stream",
          "text": [
            "\n",
            "201it [03:58,  3.26s/it]\u001b[A\n",
            "202it [03:58,  2.32s/it]\u001b[A"
          ],
          "name": "stderr"
        },
        {
          "output_type": "stream",
          "text": [
            "'NoneType' object has no attribute 'find_all' https://en.wikipedia.org/wiki/Mo_lei_tau\n",
            "'NoneType' object has no attribute 'find_all' https://en.wikipedia.org/wiki/Thriller_(genre)\n"
          ],
          "name": "stdout"
        },
        {
          "output_type": "stream",
          "text": [
            "\n",
            "203it [03:58,  1.66s/it]\u001b[A\n",
            "204it [03:58,  1.20s/it]\u001b[A"
          ],
          "name": "stderr"
        },
        {
          "output_type": "stream",
          "text": [
            "'NoneType' object has no attribute 'find_all' https://en.wikipedia.org/wiki/Comedy_of_remarriage\n",
            "'NoneType' object has no attribute 'find_all' https://en.wikipedia.org/wiki/Romantic_comedy\n"
          ],
          "name": "stdout"
        },
        {
          "output_type": "stream",
          "text": [
            "\n",
            "205it [03:59,  1.03it/s]\u001b[A"
          ],
          "name": "stderr"
        },
        {
          "output_type": "stream",
          "text": [
            "'NoneType' object has no attribute 'find_all' https://en.wikipedia.org/wiki/Sex_comedy\n"
          ],
          "name": "stdout"
        },
        {
          "output_type": "stream",
          "text": [
            "\n",
            "206it [03:59,  1.27it/s]\u001b[A"
          ],
          "name": "stderr"
        },
        {
          "output_type": "stream",
          "text": [
            "'NoneType' object has no attribute 'find_all' https://en.wikipedia.org/wiki/Screwball_comedy_film\n"
          ],
          "name": "stdout"
        },
        {
          "output_type": "stream",
          "text": [
            "\n",
            "207it [03:59,  1.62it/s]\u001b[A"
          ],
          "name": "stderr"
        },
        {
          "output_type": "stream",
          "text": [
            "'NoneType' object has no attribute 'find_all' https://en.wikipedia.org/wiki/Silent_comedy\n"
          ],
          "name": "stdout"
        },
        {
          "output_type": "stream",
          "text": [
            "\n",
            "208it [04:00,  2.01it/s]\u001b[A"
          ],
          "name": "stderr"
        },
        {
          "output_type": "stream",
          "text": [
            "'NoneType' object has no attribute 'find_all' https://en.wikipedia.org/wiki/Slapstick_film\n"
          ],
          "name": "stdout"
        },
        {
          "output_type": "stream",
          "text": [
            "\n",
            "209it [04:00,  2.26it/s]\u001b[A\n",
            "210it [04:00,  2.85it/s]\u001b[A"
          ],
          "name": "stderr"
        },
        {
          "output_type": "stream",
          "text": [
            "'NoneType' object has no attribute 'find_all' https://en.wikipedia.org/wiki/Cyberpunk\n",
            "'NoneType' object has no attribute 'find_all' https://en.wikipedia.org/wiki/Japanese_cyberpunk\n"
          ],
          "name": "stdout"
        },
        {
          "output_type": "stream",
          "text": [
            "\n",
            "211it [04:10,  3.34s/it]\u001b[A\n",
            "212it [04:11,  2.38s/it]\u001b[A"
          ],
          "name": "stderr"
        },
        {
          "output_type": "stream",
          "text": [
            "'NoneType' object has no attribute 'find_all' https://en.wikipedia.org/wiki/Documentary_film\n",
            "'NoneType' object has no attribute 'find_all' https://en.wikipedia.org/wiki/Animated_documentary\n"
          ],
          "name": "stdout"
        },
        {
          "output_type": "stream",
          "text": [
            "\n",
            "213it [04:11,  1.70s/it]\u001b[A\n",
            "214it [04:11,  1.24s/it]\u001b[A"
          ],
          "name": "stderr"
        },
        {
          "output_type": "stream",
          "text": [
            "'NoneType' object has no attribute 'find_all' https://en.wikipedia.org/wiki/Docudrama\n",
            "'NoneType' object has no attribute 'find_all' https://en.wikipedia.org/wiki/Mockumentary\n"
          ],
          "name": "stdout"
        },
        {
          "output_type": "stream",
          "text": [
            "\n",
            "215it [04:11,  1.09it/s]\u001b[A\n",
            "216it [04:11,  1.48it/s]\u001b[A"
          ],
          "name": "stderr"
        },
        {
          "output_type": "stream",
          "text": [
            "'NoneType' object has no attribute 'find_all' https://en.wikipedia.org/wiki/Mondo_film\n",
            "'NoneType' object has no attribute 'find_all' https://en.wikipedia.org/wiki/Pseudo-documentary\n"
          ],
          "name": "stdout"
        },
        {
          "output_type": "stream",
          "text": [
            "\n",
            "217it [04:11,  1.87it/s]\u001b[A\n",
            "218it [04:11,  2.44it/s]\u001b[A"
          ],
          "name": "stderr"
        },
        {
          "output_type": "stream",
          "text": [
            "'NoneType' object has no attribute 'find_all' https://en.wikipedia.org/wiki/Semidocumentary\n",
            "'NoneType' object has no attribute 'find_all' https://en.wikipedia.org/wiki/Travel_documentary\n"
          ],
          "name": "stdout"
        },
        {
          "output_type": "stream",
          "text": [
            "\n",
            "219it [04:12,  2.99it/s]\u001b[A"
          ],
          "name": "stderr"
        },
        {
          "output_type": "stream",
          "text": [
            "'NoneType' object has no attribute 'find_all' https://en.wikipedia.org/wiki/Drama_(film_and_television)\n",
            "'NoneType' object has no attribute 'find_all' https://en.wikipedia.org/wiki/Calligrafismo\n"
          ],
          "name": "stdout"
        },
        {
          "output_type": "stream",
          "text": [
            "\n",
            "221it [04:22,  1.76s/it]\u001b[A\n",
            "222it [04:22,  1.28s/it]\u001b[A"
          ],
          "name": "stderr"
        },
        {
          "output_type": "stream",
          "text": [
            "'NoneType' object has no attribute 'find_all' https://en.wikipedia.org/wiki/Historical_drama\n",
            "'NoneType' object has no attribute 'find_all' https://en.wikipedia.org/wiki/Legal_drama\n"
          ],
          "name": "stdout"
        },
        {
          "output_type": "stream",
          "text": [
            "\n",
            "223it [04:22,  1.06it/s]\u001b[A"
          ],
          "name": "stderr"
        },
        {
          "output_type": "stream",
          "text": [
            "'NoneType' object has no attribute 'find_all' https://en.wikipedia.org/wiki/Melodrama#Film\n"
          ],
          "name": "stdout"
        },
        {
          "output_type": "stream",
          "text": [
            "\n",
            "224it [04:23,  1.28it/s]\u001b[A"
          ],
          "name": "stderr"
        },
        {
          "output_type": "stream",
          "text": [
            "'NoneType' object has no attribute 'find_all' https://en.wikipedia.org/wiki/Korean_melodrama\n"
          ],
          "name": "stdout"
        },
        {
          "output_type": "stream",
          "text": [
            "\n",
            "225it [04:23,  1.48it/s]\u001b[A"
          ],
          "name": "stderr"
        },
        {
          "output_type": "stream",
          "text": [
            "'NoneType' object has no attribute 'find_all' https://en.wikipedia.org/wiki/Sex_in_film\n"
          ],
          "name": "stdout"
        },
        {
          "output_type": "stream",
          "text": [
            "\n",
            "226it [04:23,  1.85it/s]\u001b[A\n",
            "227it [04:23,  2.40it/s]\u001b[A"
          ],
          "name": "stderr"
        },
        {
          "output_type": "stream",
          "text": [
            "'NoneType' object has no attribute 'find_all' https://en.wikipedia.org/wiki/Pink_film\n",
            "'NoneType' object has no attribute 'find_all' https://en.wikipedia.org/wiki/Sexploitation_film\n"
          ],
          "name": "stdout"
        },
        {
          "output_type": "stream",
          "text": [
            "\n",
            "228it [04:23,  2.95it/s]\u001b[A\n",
            "229it [04:24,  3.62it/s]\u001b[A"
          ],
          "name": "stderr"
        },
        {
          "output_type": "stream",
          "text": [
            "'NoneType' object has no attribute 'find_all' https://en.wikipedia.org/wiki/Erotic_thriller\n",
            "'NoneType' object has no attribute 'find_all' https://en.wikipedia.org/wiki/Educational_film\n"
          ],
          "name": "stdout"
        },
        {
          "output_type": "stream",
          "text": [
            "\n",
            "230it [04:24,  4.44it/s]\u001b[A"
          ],
          "name": "stderr"
        },
        {
          "output_type": "stream",
          "text": [
            "'NoneType' object has no attribute 'find_all' https://en.wikipedia.org/wiki/Social_guidance_film\n"
          ],
          "name": "stdout"
        },
        {
          "output_type": "stream",
          "text": [
            "\n",
            "231it [04:34,  3.23s/it]\u001b[A"
          ],
          "name": "stderr"
        },
        {
          "output_type": "stream",
          "text": [
            "'NoneType' object has no attribute 'find_all' https://en.wikipedia.org/wiki/Epic_film\n"
          ],
          "name": "stdout"
        },
        {
          "output_type": "stream",
          "text": [
            "\n",
            "232it [04:34,  2.36s/it]\u001b[A\n",
            "233it [04:34,  1.70s/it]\u001b[A"
          ],
          "name": "stderr"
        },
        {
          "output_type": "stream",
          "text": [
            "'NoneType' object has no attribute 'find_all' https://en.wikipedia.org/wiki/Sword-and-sandal\n",
            "'NoneType' object has no attribute 'find_all' https://en.wikipedia.org/wiki/Experimental_film\n"
          ],
          "name": "stdout"
        },
        {
          "output_type": "stream",
          "text": [
            "\n",
            "234it [04:35,  1.26s/it]\u001b[A"
          ],
          "name": "stderr"
        },
        {
          "output_type": "stream",
          "text": [
            "'NoneType' object has no attribute 'find_all' https://en.wikipedia.org/wiki/Exploitation_film\n",
            "'NoneType' object has no attribute 'find_all' https://en.wikipedia.org/wiki/Template:Exploitation_film\n"
          ],
          "name": "stdout"
        },
        {
          "output_type": "stream",
          "text": [
            "\n",
            "236it [04:35,  1.07it/s]\u001b[A\n",
            "237it [04:35,  1.43it/s]\u001b[A"
          ],
          "name": "stderr"
        },
        {
          "output_type": "stream",
          "text": [
            "'NoneType' object has no attribute 'find_all' https://en.wikipedia.org/wiki/Fantasy_film\n",
            "'NoneType' object has no attribute 'find_all' https://en.wikipedia.org/wiki/Fantasy_comedy\n"
          ],
          "name": "stdout"
        },
        {
          "output_type": "stream",
          "text": [
            "\n",
            "238it [04:35,  1.84it/s]\u001b[A"
          ],
          "name": "stderr"
        },
        {
          "output_type": "stream",
          "text": [
            "'NoneType' object has no attribute 'find_all' https://en.wikipedia.org/wiki/Contemporary_fantasy\n"
          ],
          "name": "stdout"
        },
        {
          "output_type": "stream",
          "text": [
            "\n",
            "239it [04:36,  2.11it/s]\u001b[A"
          ],
          "name": "stderr"
        },
        {
          "output_type": "stream",
          "text": [
            "'NoneType' object has no attribute 'find_all' https://en.wikipedia.org/wiki/Fairy_tale#Film\n"
          ],
          "name": "stdout"
        },
        {
          "output_type": "stream",
          "text": [
            "\n",
            "240it [04:36,  2.35it/s]\u001b[A"
          ],
          "name": "stderr"
        },
        {
          "output_type": "stream",
          "text": [
            "'NoneType' object has no attribute 'find_all' https://en.wikipedia.org/wiki/Fantastique\n"
          ],
          "name": "stdout"
        },
        {
          "output_type": "stream",
          "text": [
            "\n",
            "241it [04:46,  3.34s/it]\u001b[A\n",
            "242it [04:46,  2.39s/it]\u001b[A"
          ],
          "name": "stderr"
        },
        {
          "output_type": "stream",
          "text": [
            "'NoneType' object has no attribute 'find_all' https://en.wikipedia.org/wiki/High_fantasy\n",
            "'NoneType' object has no attribute 'find_all' https://en.wikipedia.org/wiki/Historical_fantasy\n"
          ],
          "name": "stdout"
        },
        {
          "output_type": "stream",
          "text": [
            "\n",
            "243it [04:47,  1.76s/it]\u001b[A"
          ],
          "name": "stderr"
        },
        {
          "output_type": "stream",
          "text": [
            "'NoneType' object has no attribute 'find_all' https://en.wikipedia.org/wiki/Magic_realism\n"
          ],
          "name": "stdout"
        },
        {
          "output_type": "stream",
          "text": [
            "\n",
            "244it [04:47,  1.31s/it]\u001b[A"
          ],
          "name": "stderr"
        },
        {
          "output_type": "stream",
          "text": [
            "'NoneType' object has no attribute 'find_all' https://en.wikipedia.org/wiki/Science_fantasy\n"
          ],
          "name": "stdout"
        },
        {
          "output_type": "stream",
          "text": [
            "\n",
            "245it [04:47,  1.00s/it]\u001b[A\n",
            "246it [04:47,  1.35it/s]\u001b[A"
          ],
          "name": "stderr"
        },
        {
          "output_type": "stream",
          "text": [
            "'NoneType' object has no attribute 'get_text' https://en.wikipedia.org/wiki/Film_noir\n",
            "'NoneType' object has no attribute 'find_all' https://en.wikipedia.org/wiki/Neo-noir\n"
          ],
          "name": "stdout"
        },
        {
          "output_type": "stream",
          "text": [
            "\n",
            "248it [04:47,  1.81it/s]\u001b[A"
          ],
          "name": "stderr"
        },
        {
          "output_type": "stream",
          "text": [
            "'NoneType' object has no attribute 'find_all' https://en.wikipedia.org/wiki/Pulp_noir\n",
            "'NoneType' object has no attribute 'find_all' https://en.wikipedia.org/wiki/Tech_noir\n"
          ],
          "name": "stdout"
        },
        {
          "output_type": "stream",
          "text": [
            "\n",
            "249it [04:48,  2.16it/s]\u001b[A\n",
            "250it [04:48,  2.72it/s]\u001b[A"
          ],
          "name": "stderr"
        },
        {
          "output_type": "stream",
          "text": [
            "'NoneType' object has no attribute 'find_all' https://en.wikipedia.org/wiki/Gothic_film\n",
            "'NoneType' object has no attribute 'find_all' https://en.wikipedia.org/wiki/Gothic_romance_film\n"
          ],
          "name": "stdout"
        },
        {
          "output_type": "stream",
          "text": [
            "\n",
            "251it [04:58,  3.31s/it]\u001b[A\n",
            "252it [04:58,  2.36s/it]\u001b[A"
          ],
          "name": "stderr"
        },
        {
          "output_type": "stream",
          "text": [
            "'NoneType' object has no attribute 'find_all' https://en.wikipedia.org/wiki/Southern_Gothic#Film_and_television\n",
            "'NoneType' object has no attribute 'find_all' https://en.wikipedia.org/wiki/Gothic_science_fiction\n"
          ],
          "name": "stdout"
        },
        {
          "output_type": "stream",
          "text": [
            "\n",
            "253it [04:58,  1.70s/it]\u001b[A\n",
            "254it [04:59,  1.23s/it]\u001b[A"
          ],
          "name": "stderr"
        },
        {
          "output_type": "stream",
          "text": [
            "'NoneType' object has no attribute 'find_all' https://en.wikipedia.org/wiki/Suburban_Gothic\n",
            "'NoneType' object has no attribute 'find_all' https://en.wikipedia.org/wiki/Urban_Gothic#Film\n"
          ],
          "name": "stdout"
        },
        {
          "output_type": "stream",
          "text": [
            "\n",
            "255it [04:59,  1.02s/it]\u001b[A\n",
            "256it [04:59,  1.34it/s]\u001b[A"
          ],
          "name": "stderr"
        },
        {
          "output_type": "stream",
          "text": [
            "'NoneType' object has no attribute 'find_all' https://en.wikipedia.org/wiki/Horror_film\n",
            "'NoneType' object has no attribute 'find_all' https://en.wikipedia.org/wiki/Art_horror\n"
          ],
          "name": "stdout"
        },
        {
          "output_type": "stream",
          "text": [
            "\n",
            "257it [04:59,  1.73it/s]\u001b[A"
          ],
          "name": "stderr"
        },
        {
          "output_type": "stream",
          "text": [
            "'NoneType' object has no attribute 'find_all' https://en.wikipedia.org/wiki/List_of_body_horror_media\n"
          ],
          "name": "stdout"
        },
        {
          "output_type": "stream",
          "text": [
            "\n",
            "258it [05:00,  1.98it/s]\u001b[A"
          ],
          "name": "stderr"
        },
        {
          "output_type": "stream",
          "text": [
            "'NoneType' object has no attribute 'find_all' https://en.wikipedia.org/wiki/Cannibal_film\n"
          ],
          "name": "stdout"
        },
        {
          "output_type": "stream",
          "text": [
            "\n",
            "259it [05:00,  2.40it/s]\u001b[A"
          ],
          "name": "stderr"
        },
        {
          "output_type": "stream",
          "text": [
            "'NoneType' object has no attribute 'find_all' https://en.wikipedia.org/wiki/Chinese_horror_film\n"
          ],
          "name": "stdout"
        },
        {
          "output_type": "stream",
          "text": [
            "\n",
            "260it [05:00,  2.72it/s]\u001b[A"
          ],
          "name": "stderr"
        },
        {
          "output_type": "stream",
          "text": [
            "'NoneType' object has no attribute 'find_all' https://en.wikipedia.org/wiki/List_of_eco-horror_films\n"
          ],
          "name": "stdout"
        },
        {
          "output_type": "stream",
          "text": [
            "\n",
            "261it [05:10,  3.32s/it]\u001b[A"
          ],
          "name": "stderr"
        },
        {
          "output_type": "stream",
          "text": [
            "'NoneType' object has no attribute 'find_all' https://en.wikipedia.org/wiki/Found_footage_(film_technique)\n",
            "'NoneType' object has no attribute 'find_all' https://en.wikipedia.org/wiki/German_underground_horror\n"
          ],
          "name": "stdout"
        },
        {
          "output_type": "stream",
          "text": [
            "\n",
            "263it [05:11,  2.38s/it]\u001b[A"
          ],
          "name": "stderr"
        },
        {
          "output_type": "stream",
          "text": [
            "'NoneType' object has no attribute 'find_all' https://en.wikipedia.org/wiki/List_of_ghost_films\n"
          ],
          "name": "stdout"
        },
        {
          "output_type": "stream",
          "text": [
            "\n",
            "264it [05:11,  1.78s/it]\u001b[A"
          ],
          "name": "stderr"
        },
        {
          "output_type": "stream",
          "text": [
            "'NoneType' object has no attribute 'find_all' https://en.wikipedia.org/wiki/Giallo\n"
          ],
          "name": "stdout"
        },
        {
          "output_type": "stream",
          "text": [
            "\n",
            "265it [05:11,  1.33s/it]\u001b[A\n",
            "266it [05:12,  1.01it/s]\u001b[A"
          ],
          "name": "stderr"
        },
        {
          "output_type": "stream",
          "text": [
            "'NoneType' object has no attribute 'find_all' https://en.wikipedia.org/wiki/Holiday_horror\n",
            "'NoneType' object has no attribute 'find_all' https://en.wikipedia.org/wiki/Japanese_horror\n"
          ],
          "name": "stdout"
        },
        {
          "output_type": "stream",
          "text": [
            "\n",
            "267it [05:12,  1.36it/s]\u001b[A"
          ],
          "name": "stderr"
        },
        {
          "output_type": "stream",
          "text": [
            "'NoneType' object has no attribute 'find_all' https://en.wikipedia.org/wiki/Korean_horror\n"
          ],
          "name": "stdout"
        },
        {
          "output_type": "stream",
          "text": [
            "\n",
            "268it [05:12,  1.60it/s]\u001b[A\n",
            "269it [05:12,  2.04it/s]\u001b[A"
          ],
          "name": "stderr"
        },
        {
          "output_type": "stream",
          "text": [
            "'NoneType' object has no attribute 'find_all' https://en.wikipedia.org/wiki/Lovecraftian_horror\n"
          ],
          "name": "stdout"
        },
        {
          "output_type": "stream",
          "text": [
            "\n",
            "270it [05:12,  2.42it/s]\u001b[A"
          ],
          "name": "stderr"
        },
        {
          "output_type": "stream",
          "text": [
            "'NoneType' object has no attribute 'find_all' https://en.wikipedia.org/wiki/List_of_natural_horror_films\n"
          ],
          "name": "stdout"
        },
        {
          "output_type": "stream",
          "text": [
            "\n",
            "271it [05:23,  3.34s/it]\u001b[A\n",
            "272it [05:23,  2.40s/it]\u001b[A\n",
            "273it [05:23,  1.73s/it]\u001b[A"
          ],
          "name": "stderr"
        },
        {
          "output_type": "stream",
          "text": [
            "'NoneType' object has no attribute 'find_all' https://en.wikipedia.org/wiki/Psycho-biddy\n",
            "'NoneType' object has no attribute 'find_all' https://en.wikipedia.org/wiki/Psychological_horror\n",
            "'NoneType' object has no attribute 'find_all' https://en.wikipedia.org/wiki/Category:Religious_horror_films\n"
          ],
          "name": "stdout"
        },
        {
          "output_type": "stream",
          "text": [
            "\n",
            "275it [05:23,  1.25s/it]\u001b[A"
          ],
          "name": "stderr"
        },
        {
          "output_type": "stream",
          "text": [
            "'NoneType' object has no attribute 'find_all' https://en.wikipedia.org/wiki/List_of_science_fiction_horror_films\n"
          ],
          "name": "stdout"
        },
        {
          "output_type": "stream",
          "text": [
            "\n",
            "276it [05:24,  1.03it/s]\u001b[A"
          ],
          "name": "stderr"
        },
        {
          "output_type": "stream",
          "text": [
            "'NoneType' object has no attribute 'find_all' https://en.wikipedia.org/wiki/Slasher_film\n"
          ],
          "name": "stdout"
        },
        {
          "output_type": "stream",
          "text": [
            "\n",
            "277it [05:24,  1.33it/s]\u001b[A"
          ],
          "name": "stderr"
        },
        {
          "output_type": "stream",
          "text": [
            "'NoneType' object has no attribute 'find_all' https://en.wikipedia.org/wiki/Splatter_film\n"
          ],
          "name": "stdout"
        },
        {
          "output_type": "stream",
          "text": [
            "\n",
            "278it [05:24,  1.64it/s]\u001b[A\n",
            "279it [05:24,  2.14it/s]\u001b[A"
          ],
          "name": "stderr"
        },
        {
          "output_type": "stream",
          "text": [
            "'NoneType' object has no attribute 'find_all' https://en.wikipedia.org/wiki/Satanic_film\n",
            "'NoneType' object has no attribute 'find_all' https://en.wikipedia.org/wiki/Maximalist_film\n"
          ],
          "name": "stdout"
        },
        {
          "output_type": "stream",
          "text": [
            "\n",
            "280it [05:24,  2.72it/s]\u001b[A"
          ],
          "name": "stderr"
        },
        {
          "output_type": "stream",
          "text": [
            "'NoneType' object has no attribute 'find_all' https://en.wikipedia.org/wiki/Minimalist_film\n"
          ],
          "name": "stdout"
        },
        {
          "output_type": "stream",
          "text": [
            "\n",
            "281it [05:35,  3.35s/it]\u001b[A"
          ],
          "name": "stderr"
        },
        {
          "output_type": "stream",
          "text": [
            "'NoneType' object has no attribute 'find_all' https://en.wikipedia.org/wiki/Musical_film\n"
          ],
          "name": "stdout"
        },
        {
          "output_type": "stream",
          "text": [
            "\n",
            "282it [05:35,  2.46s/it]\u001b[A\n",
            "283it [05:35,  1.78s/it]\u001b[A"
          ],
          "name": "stderr"
        },
        {
          "output_type": "stream",
          "text": [
            "'NoneType' object has no attribute 'find_all' https://en.wikipedia.org/wiki/Backstage_musical\n",
            "'NoneType' object has no attribute 'find_all' https://en.wikipedia.org/wiki/Jukebox_musical\n"
          ],
          "name": "stdout"
        },
        {
          "output_type": "stream",
          "text": [
            "\n",
            "284it [05:36,  1.34s/it]\u001b[A\n",
            "285it [05:36,  1.03it/s]\u001b[A"
          ],
          "name": "stderr"
        },
        {
          "output_type": "stream",
          "text": [
            "'NoneType' object has no attribute 'find_all' https://en.wikipedia.org/wiki/Musicarello\n",
            "'NoneType' object has no attribute 'find_all' https://en.wikipedia.org/wiki/Operetta_film\n"
          ],
          "name": "stdout"
        },
        {
          "output_type": "stream",
          "text": [
            "\n",
            "286it [05:36,  1.30it/s]\u001b[A\n"
          ],
          "name": "stderr"
        },
        {
          "output_type": "stream",
          "text": [
            "'NoneType' object has no attribute 'find_all' https://en.wikipedia.org/wiki/Sceneggiata\n",
            "'NoneType' object has no attribute 'find_all' https://en.wikipedia.org/wiki/Mystery_film\n"
          ],
          "name": "stdout"
        },
        {
          "output_type": "stream",
          "text": [
            "287it [05:36,  1.67it/s]\u001b[A\n",
            "288it [05:37,  1.96it/s]\u001b[A\n",
            "289it [05:37,  2.41it/s]\u001b[A"
          ],
          "name": "stderr"
        },
        {
          "output_type": "stream",
          "text": [
            "'NoneType' object has no attribute 'find_all' https://en.wikipedia.org/wiki/Detective_fiction\n",
            "'NoneType' object has no attribute 'find_all' https://en.wikipedia.org/wiki/Occult_detective_fiction\n"
          ],
          "name": "stdout"
        },
        {
          "output_type": "stream",
          "text": [
            "\n",
            "290it [05:37,  3.10it/s]\u001b[A"
          ],
          "name": "stderr"
        },
        {
          "output_type": "stream",
          "text": [
            "'NoneType' object has no attribute 'find_all' https://en.wikipedia.org/wiki/Whodunit\n"
          ],
          "name": "stdout"
        },
        {
          "output_type": "stream",
          "text": [
            "\n",
            "291it [05:47,  3.27s/it]\u001b[A"
          ],
          "name": "stderr"
        },
        {
          "output_type": "stream",
          "text": [
            "'NoneType' object has no attribute 'find_all' https://en.wikipedia.org/wiki/Pop_culture_fiction\n"
          ],
          "name": "stdout"
        },
        {
          "output_type": "stream",
          "text": [
            "\n",
            "292it [05:47,  2.35s/it]\u001b[A"
          ],
          "name": "stderr"
        },
        {
          "output_type": "stream",
          "text": [
            "'NoneType' object has no attribute 'find_all' https://en.wikipedia.org/wiki/Pornographic_film\n",
            "'NoneType' object has no attribute 'find_all' https://en.wikipedia.org/wiki/Hardcore_pornography\n"
          ],
          "name": "stdout"
        },
        {
          "output_type": "stream",
          "text": [
            "\n",
            "294it [05:47,  1.69s/it]\u001b[A\n",
            "295it [05:48,  1.22s/it]\u001b[A"
          ],
          "name": "stderr"
        },
        {
          "output_type": "stream",
          "text": [
            "'NoneType' object has no attribute 'find_all' https://en.wikipedia.org/wiki/Softcore_pornography\n",
            "'NoneType' object has no attribute 'find_all' https://en.wikipedia.org/wiki/Propaganda_film\n"
          ],
          "name": "stdout"
        },
        {
          "output_type": "stream",
          "text": [
            "\n",
            "296it [05:48,  1.12it/s]\u001b[A\n",
            "297it [05:48,  1.49it/s]\u001b[A"
          ],
          "name": "stderr"
        },
        {
          "output_type": "stream",
          "text": [
            "'NoneType' object has no attribute 'find_all' https://en.wikipedia.org/wiki/Reality_film\n",
            "'NoneType' object has no attribute 'find_all' https://en.wikipedia.org/wiki/Romance_film\n"
          ],
          "name": "stdout"
        },
        {
          "output_type": "stream",
          "text": [
            "\n",
            "298it [05:48,  1.74it/s]\u001b[A\n",
            "299it [05:48,  2.29it/s]\u001b[A"
          ],
          "name": "stderr"
        },
        {
          "output_type": "stream",
          "text": [
            "'NoneType' object has no attribute 'find_all' https://en.wikipedia.org/wiki/Romantic_fantasy\n",
            "'NoneType' object has no attribute 'find_all' https://en.wikipedia.org/wiki/Paranormal_romance\n"
          ],
          "name": "stdout"
        },
        {
          "output_type": "stream",
          "text": [
            "\n",
            "300it [05:49,  2.56it/s]\u001b[A"
          ],
          "name": "stderr"
        },
        {
          "output_type": "stream",
          "text": [
            "'NoneType' object has no attribute 'find_all' https://en.wikipedia.org/wiki/Romantic_thriller\n"
          ],
          "name": "stdout"
        },
        {
          "output_type": "stream",
          "text": [
            "\n",
            "301it [05:59,  3.38s/it]\u001b[A\n",
            "302it [05:59,  2.40s/it]\u001b[A"
          ],
          "name": "stderr"
        },
        {
          "output_type": "stream",
          "text": [
            "'NoneType' object has no attribute 'find_all' https://en.wikipedia.org/wiki/Science_fiction_film\n",
            "'NoneType' object has no attribute 'find_all' https://en.wikipedia.org/wiki/Arthouse_science_fiction_film\n"
          ],
          "name": "stdout"
        },
        {
          "output_type": "stream",
          "text": [
            "\n",
            "303it [05:59,  1.79s/it]\u001b[A\n",
            "304it [06:00,  1.30s/it]\u001b[A"
          ],
          "name": "stderr"
        },
        {
          "output_type": "stream",
          "text": [
            "'NoneType' object has no attribute 'find_all' https://en.wikipedia.org/wiki/Science_fiction_comedy\n",
            "'NoneType' object has no attribute 'find_all' https://en.wikipedia.org/wiki/Military_science_fiction\n"
          ],
          "name": "stdout"
        },
        {
          "output_type": "stream",
          "text": [
            "\n",
            "305it [06:00,  1.02it/s]\u001b[A"
          ],
          "name": "stderr"
        },
        {
          "output_type": "stream",
          "text": [
            "'NoneType' object has no attribute 'find_all' https://en.wikipedia.org/wiki/New_Wave_science_fiction\n"
          ],
          "name": "stdout"
        },
        {
          "output_type": "stream",
          "text": [
            "\n",
            "306it [06:00,  1.28it/s]\u001b[A\n",
            "307it [06:00,  1.66it/s]\u001b[A"
          ],
          "name": "stderr"
        },
        {
          "output_type": "stream",
          "text": [
            "'NoneType' object has no attribute 'find_all' https://en.wikipedia.org/wiki/Parallel_universe_(fiction)#Films\n",
            "'NoneType' object has no attribute 'find_all' https://en.wikipedia.org/wiki/Planetary_romance\n"
          ],
          "name": "stdout"
        },
        {
          "output_type": "stream",
          "text": [
            "\n",
            "308it [06:00,  2.14it/s]\u001b[A"
          ],
          "name": "stderr"
        },
        {
          "output_type": "stream",
          "text": [
            "'NoneType' object has no attribute 'find_all' https://en.wikipedia.org/wiki/Space_opera\n"
          ],
          "name": "stdout"
        },
        {
          "output_type": "stream",
          "text": [
            "\n",
            "309it [06:01,  2.16it/s]\u001b[A"
          ],
          "name": "stderr"
        },
        {
          "output_type": "stream",
          "text": [
            "'NoneType' object has no attribute 'find_all' https://en.wikipedia.org/wiki/Steampunk\n"
          ],
          "name": "stdout"
        },
        {
          "output_type": "stream",
          "text": [
            "\n",
            "310it [06:01,  2.49it/s]\u001b[A"
          ],
          "name": "stderr"
        },
        {
          "output_type": "stream",
          "text": [
            "'NoneType' object has no attribute 'find_all' https://en.wikipedia.org/wiki/Tokusatsu\n"
          ],
          "name": "stdout"
        },
        {
          "output_type": "stream",
          "text": [
            "\n",
            "311it [06:11,  3.32s/it]\u001b[A\n",
            "312it [06:11,  2.36s/it]\u001b[A"
          ],
          "name": "stderr"
        },
        {
          "output_type": "stream",
          "text": [
            "'NoneType' object has no attribute 'find_all' https://en.wikipedia.org/wiki/Space_Western\n",
            "'NoneType' object has no attribute 'find_all' https://en.wikipedia.org/wiki/Slice_of_life#Cinema\n"
          ],
          "name": "stdout"
        },
        {
          "output_type": "stream",
          "text": [
            "\n",
            "313it [06:12,  1.71s/it]\u001b[A\n",
            "314it [06:12,  1.25s/it]\u001b[A"
          ],
          "name": "stderr"
        },
        {
          "output_type": "stream",
          "text": [
            "'NoneType' object has no attribute 'find_all' https://en.wikipedia.org/wiki/Slow_cinema\n",
            "'NoneType' object has no attribute 'find_all' https://en.wikipedia.org/wiki/Thriller_film\n"
          ],
          "name": "stdout"
        },
        {
          "output_type": "stream",
          "text": [
            "\n",
            "315it [06:12,  1.10it/s]\u001b[A"
          ],
          "name": "stderr"
        },
        {
          "output_type": "stream",
          "text": [
            "'NoneType' object has no attribute 'find_all' https://en.wikipedia.org/wiki/Comedy_thriller\n"
          ],
          "name": "stdout"
        },
        {
          "output_type": "stream",
          "text": [
            "\n",
            "316it [06:12,  1.30it/s]\u001b[A"
          ],
          "name": "stderr"
        },
        {
          "output_type": "stream",
          "text": [
            "'NoneType' object has no attribute 'find_all' https://en.wikipedia.org/wiki/Conspiracy_fiction#Film_and_television\n",
            "'NoneType' object has no attribute 'find_all' https://en.wikipedia.org/wiki/Financial_thriller\n"
          ],
          "name": "stdout"
        },
        {
          "output_type": "stream",
          "text": [
            "\n",
            "318it [06:13,  1.73it/s]\u001b[A\n",
            "319it [06:13,  2.27it/s]\u001b[A"
          ],
          "name": "stderr"
        },
        {
          "output_type": "stream",
          "text": [
            "'NoneType' object has no attribute 'find_all' https://en.wikipedia.org/wiki/Legal_thriller\n",
            "'NoneType' object has no attribute 'find_all' https://en.wikipedia.org/wiki/Political_thriller\n"
          ],
          "name": "stdout"
        },
        {
          "output_type": "stream",
          "text": [
            "\n",
            "320it [06:13,  2.76it/s]\u001b[A"
          ],
          "name": "stderr"
        },
        {
          "output_type": "stream",
          "text": [
            "'NoneType' object has no attribute 'find_all' https://en.wikipedia.org/wiki/Psychological_thriller\n"
          ],
          "name": "stdout"
        },
        {
          "output_type": "stream",
          "text": [
            "\n",
            "321it [06:23,  3.30s/it]\u001b[A"
          ],
          "name": "stderr"
        },
        {
          "output_type": "stream",
          "text": [
            "'NoneType' object has no attribute 'find_all' https://en.wikipedia.org/wiki/Techno-thriller\n"
          ],
          "name": "stdout"
        },
        {
          "output_type": "stream",
          "text": [
            "\n",
            "322it [06:23,  2.40s/it]\u001b[A"
          ],
          "name": "stderr"
        },
        {
          "output_type": "stream",
          "text": [
            "'NoneType' object has no attribute 'find_all' https://en.wikipedia.org/wiki/Transgressive_art\n"
          ],
          "name": "stdout"
        },
        {
          "output_type": "stream",
          "text": [
            "\n",
            "323it [06:24,  1.82s/it]\u001b[A\n",
            "325it [06:24,  1.30s/it]\u001b[A"
          ],
          "name": "stderr"
        },
        {
          "output_type": "stream",
          "text": [
            "'NoneType' object has no attribute 'find_all' https://en.wikipedia.org/wiki/Cinema_of_Transgression\n",
            "'NoneType' object has no attribute 'find_all' https://en.wikipedia.org/wiki/Extreme_cinema\n",
            "'NoneType' object has no attribute 'find_all' https://en.wikipedia.org/wiki/Trick_film\n"
          ],
          "name": "stdout"
        },
        {
          "output_type": "stream",
          "text": [
            "\n",
            "326it [06:24,  1.01it/s]\u001b[A"
          ],
          "name": "stderr"
        },
        {
          "output_type": "stream",
          "text": [
            "'NoneType' object has no attribute 'find_all' https://en.wikipedia.org/wiki/List_of_films_about_animals\n"
          ],
          "name": "stdout"
        },
        {
          "output_type": "stream",
          "text": [
            "\n",
            "327it [06:25,  1.32it/s]\u001b[A\n",
            "328it [06:25,  1.77it/s]\u001b[A"
          ],
          "name": "stderr"
        },
        {
          "output_type": "stream",
          "text": [
            "'NoneType' object has no attribute 'find_all' https://en.wikipedia.org/wiki/Beach_party_film\n",
            "'NoneType' object has no attribute 'find_all' https://en.wikipedia.org/wiki/Body_swap\n"
          ],
          "name": "stdout"
        },
        {
          "output_type": "stream",
          "text": [
            "\n",
            "329it [06:25,  1.82it/s]\u001b[A\n",
            "330it [06:25,  2.41it/s]\u001b[A"
          ],
          "name": "stderr"
        },
        {
          "output_type": "stream",
          "text": [
            "'NoneType' object has no attribute 'find_all' https://en.wikipedia.org/wiki/Buddy_film\n",
            "'NoneType' object has no attribute 'find_all' https://en.wikipedia.org/wiki/Buddy_cop_film\n"
          ],
          "name": "stdout"
        },
        {
          "output_type": "stream",
          "text": [
            "\n",
            "331it [06:35,  3.32s/it]\u001b[A\n",
            "332it [06:35,  2.37s/it]\u001b[A"
          ],
          "name": "stderr"
        },
        {
          "output_type": "stream",
          "text": [
            "'NoneType' object has no attribute 'find_all' https://en.wikipedia.org/wiki/Female_buddy_film\n",
            "'NoneType' object has no attribute 'find_all' https://en.wikipedia.org/wiki/Chicano_films\n"
          ],
          "name": "stdout"
        },
        {
          "output_type": "stream",
          "text": [
            "\n",
            "333it [06:36,  1.69s/it]\u001b[A\n",
            "334it [06:36,  1.23s/it]\u001b[A"
          ],
          "name": "stderr"
        },
        {
          "output_type": "stream",
          "text": [
            "'NoneType' object has no attribute 'find_all' https://en.wikipedia.org/wiki/Colonial_cinema\n",
            "'NoneType' object has no attribute 'find_all' https://en.wikipedia.org/wiki/Coming-of-age_story\n"
          ],
          "name": "stdout"
        },
        {
          "output_type": "stream",
          "text": [
            "\n",
            "335it [06:36,  1.11it/s]\u001b[A"
          ],
          "name": "stderr"
        },
        {
          "output_type": "stream",
          "text": [
            "'NoneType' object has no attribute 'find_all' https://en.wikipedia.org/wiki/Concert_film\n"
          ],
          "name": "stdout"
        },
        {
          "output_type": "stream",
          "text": [
            "\n",
            "336it [06:36,  1.43it/s]\u001b[A\n",
            "337it [06:36,  1.85it/s]\u001b[A"
          ],
          "name": "stderr"
        },
        {
          "output_type": "stream",
          "text": [
            "'NoneType' object has no attribute 'find_all' https://en.wikipedia.org/wiki/Crime_film\n",
            "'NoneType' object has no attribute 'find_all' https://en.wikipedia.org/wiki/Gentleman_thief\n"
          ],
          "name": "stdout"
        },
        {
          "output_type": "stream",
          "text": [
            "\n",
            "338it [06:37,  2.05it/s]\u001b[A\n",
            "339it [06:37,  2.62it/s]\u001b[A"
          ],
          "name": "stderr"
        },
        {
          "output_type": "stream",
          "text": [
            "'NoneType' object has no attribute 'find_all' https://en.wikipedia.org/wiki/Gokud%C5%8D\n",
            "'NoneType' object has no attribute 'find_all' https://en.wikipedia.org/wiki/Gong%27an_fiction\n"
          ],
          "name": "stdout"
        },
        {
          "output_type": "stream",
          "text": [
            "\n",
            "340it [06:37,  3.16it/s]\u001b[A"
          ],
          "name": "stderr"
        },
        {
          "output_type": "stream",
          "text": [
            "'NoneType' object has no attribute 'find_all' https://en.wikipedia.org/wiki/Heist_film\n"
          ],
          "name": "stdout"
        },
        {
          "output_type": "stream",
          "text": [
            "\n",
            "341it [06:47,  3.25s/it]\u001b[A\n",
            "342it [06:47,  2.32s/it]\u001b[A"
          ],
          "name": "stderr"
        },
        {
          "output_type": "stream",
          "text": [
            "'NoneType' object has no attribute 'find_all' https://en.wikipedia.org/wiki/Hood_film\n",
            "'NoneType' object has no attribute 'find_all' https://en.wikipedia.org/wiki/Mafia_film\n"
          ],
          "name": "stdout"
        },
        {
          "output_type": "stream",
          "text": [
            "\n",
            "343it [06:47,  1.69s/it]\u001b[A\n",
            "344it [06:48,  1.22s/it]\u001b[A"
          ],
          "name": "stderr"
        },
        {
          "output_type": "stream",
          "text": [
            "'NoneType' object has no attribute 'find_all' https://en.wikipedia.org/wiki/Mafia_comedy\n"
          ],
          "name": "stdout"
        },
        {
          "output_type": "stream",
          "text": [
            "\n",
            "345it [06:48,  1.11it/s]\u001b[A\n",
            "346it [06:48,  1.48it/s]\u001b[A"
          ],
          "name": "stderr"
        },
        {
          "output_type": "stream",
          "text": [
            "'NoneType' object has no attribute 'find_all' https://en.wikipedia.org/wiki/Yakuza_film\n",
            "'NoneType' object has no attribute 'find_all' https://en.wikipedia.org/wiki/Dance_in_film\n"
          ],
          "name": "stdout"
        },
        {
          "output_type": "stream",
          "text": [
            "\n",
            "347it [06:48,  1.88it/s]\u001b[A\n",
            "348it [06:48,  2.35it/s]\u001b[A"
          ],
          "name": "stderr"
        },
        {
          "output_type": "stream",
          "text": [
            "'NoneType' object has no attribute 'find_all' https://en.wikipedia.org/wiki/Disaster_film\n",
            "'NoneType' object has no attribute 'find_all' https://en.wikipedia.org/wiki/List_of_apocalyptic_films\n"
          ],
          "name": "stdout"
        },
        {
          "output_type": "stream",
          "text": [
            "\n",
            "349it [06:49,  2.53it/s]\u001b[A\n",
            "350it [06:49,  3.16it/s]\u001b[A"
          ],
          "name": "stderr"
        },
        {
          "output_type": "stream",
          "text": [
            "'NoneType' object has no attribute 'find_all' https://en.wikipedia.org/wiki/List_of_drug_films\n",
            "'NoneType' object has no attribute 'find_all' https://en.wikipedia.org/wiki/Psychedelic_film\n"
          ],
          "name": "stdout"
        },
        {
          "output_type": "stream",
          "text": [
            "\n",
            "351it [06:59,  3.28s/it]\u001b[A"
          ],
          "name": "stderr"
        },
        {
          "output_type": "stream",
          "text": [
            "'NoneType' object has no attribute 'find_all' https://en.wikipedia.org/wiki/Stoner_film\n"
          ],
          "name": "stdout"
        },
        {
          "output_type": "stream",
          "text": [
            "\n",
            "352it [06:59,  2.44s/it]\u001b[A"
          ],
          "name": "stderr"
        },
        {
          "output_type": "stream",
          "text": [
            "'NoneType' object has no attribute 'find_all' https://en.wikipedia.org/wiki/List_of_dystopian_films\n"
          ],
          "name": "stdout"
        },
        {
          "output_type": "stream",
          "text": [
            "\n",
            "353it [07:00,  1.82s/it]\u001b[A\n",
            "354it [07:00,  1.33s/it]\u001b[A"
          ],
          "name": "stderr"
        },
        {
          "output_type": "stream",
          "text": [
            "'NoneType' object has no attribute 'find_all' https://en.wikipedia.org/wiki/Ecchi\n",
            "'NoneType' object has no attribute 'find_all' https://en.wikipedia.org/wiki/Economics_film\n"
          ],
          "name": "stdout"
        },
        {
          "output_type": "stream",
          "text": [
            "\n",
            "355it [07:00,  1.03it/s]\u001b[A\n",
            "356it [07:00,  1.36it/s]\u001b[A"
          ],
          "name": "stderr"
        },
        {
          "output_type": "stream",
          "text": [
            "'NoneType' object has no attribute 'find_all' https://en.wikipedia.org/wiki/Ethnographic_film\n",
            "'NoneType' object has no attribute 'find_all' https://en.wikipedia.org/wiki/Blaxploitation\n"
          ],
          "name": "stdout"
        },
        {
          "output_type": "stream",
          "text": [
            "\n",
            "357it [07:01,  1.67it/s]\u001b[A"
          ],
          "name": "stderr"
        },
        {
          "output_type": "stream",
          "text": [
            "'NoneType' object has no attribute 'find_all' https://en.wikipedia.org/wiki/Mexploitation\n"
          ],
          "name": "stdout"
        },
        {
          "output_type": "stream",
          "text": [
            "\n",
            "358it [07:01,  2.04it/s]\u001b[A"
          ],
          "name": "stderr"
        },
        {
          "output_type": "stream",
          "text": [
            "'NoneType' object has no attribute 'find_all' https://en.wikipedia.org/wiki/Turksploitation\n"
          ],
          "name": "stdout"
        },
        {
          "output_type": "stream",
          "text": [
            "\n",
            "359it [07:01,  1.93it/s]\u001b[A"
          ],
          "name": "stderr"
        },
        {
          "output_type": "stream",
          "text": [
            "'NoneType' object has no attribute 'find_all' https://en.wikipedia.org/wiki/List_of_films_featuring_extraterrestrials\n"
          ],
          "name": "stdout"
        },
        {
          "output_type": "stream",
          "text": [
            "\n",
            "360it [07:02,  2.26it/s]\u001b[A"
          ],
          "name": "stderr"
        },
        {
          "output_type": "stream",
          "text": [
            "'NoneType' object has no attribute 'find_all' https://en.wikipedia.org/wiki/List_of_films_about_food_and_drink\n"
          ],
          "name": "stdout"
        },
        {
          "output_type": "stream",
          "text": [
            "\n",
            "361it [07:12,  3.40s/it]\u001b[A\n",
            "362it [07:12,  2.42s/it]\u001b[A"
          ],
          "name": "stderr"
        },
        {
          "output_type": "stream",
          "text": [
            "'NoneType' object has no attribute 'find_all' https://en.wikipedia.org/wiki/Funny_animal\n",
            "'NoneType' object has no attribute 'find_all' https://en.wikipedia.org/wiki/Gendai-geki\n"
          ],
          "name": "stdout"
        },
        {
          "output_type": "stream",
          "text": [
            "\n",
            "363it [07:12,  1.73s/it]\u001b[A\n",
            "364it [07:12,  1.25s/it]\u001b[A"
          ],
          "name": "stderr"
        },
        {
          "output_type": "stream",
          "text": [
            "'NoneType' object has no attribute 'find_all' https://en.wikipedia.org/wiki/Goona-goona_epic\n",
            "'NoneType' object has no attribute 'find_all' https://en.wikipedia.org/wiki/Girls_with_guns\n"
          ],
          "name": "stdout"
        },
        {
          "output_type": "stream",
          "text": [
            "\n",
            "365it [07:12,  1.09it/s]\u001b[A"
          ],
          "name": "stderr"
        },
        {
          "output_type": "stream",
          "text": [
            "'NoneType' object has no attribute 'find_all' https://en.wikipedia.org/wiki/Harem_(genre)\n"
          ],
          "name": "stdout"
        },
        {
          "output_type": "stream",
          "text": [
            "\n",
            "366it [07:13,  1.38it/s]\u001b[A"
          ],
          "name": "stderr"
        },
        {
          "output_type": "stream",
          "text": [
            "'NoneType' object has no attribute 'find_all' https://en.wikipedia.org/wiki/Hentai\n"
          ],
          "name": "stdout"
        },
        {
          "output_type": "stream",
          "text": [
            "\n",
            "367it [07:13,  1.64it/s]\u001b[A\n",
            "368it [07:13,  2.09it/s]\u001b[A"
          ],
          "name": "stderr"
        },
        {
          "output_type": "stream",
          "text": [
            "'NoneType' object has no attribute 'find_all' https://en.wikipedia.org/wiki/Lolicon\n",
            "'NoneType' object has no attribute 'find_all' https://en.wikipedia.org/wiki/Shotacon\n"
          ],
          "name": "stdout"
        },
        {
          "output_type": "stream",
          "text": [
            "\n",
            "369it [07:13,  2.63it/s]\u001b[A\n",
            "370it [07:13,  3.36it/s]\u001b[A"
          ],
          "name": "stderr"
        },
        {
          "output_type": "stream",
          "text": [
            "'NoneType' object has no attribute 'find_all' https://en.wikipedia.org/wiki/Tentacle_erotica\n",
            "'NoneType' object has no attribute 'find_all' https://en.wikipedia.org/wiki/Heimatfilm\n"
          ],
          "name": "stdout"
        },
        {
          "output_type": "stream",
          "text": [
            "\n",
            "371it [07:24,  3.27s/it]\u001b[A"
          ],
          "name": "stderr"
        },
        {
          "output_type": "stream",
          "text": [
            "'NoneType' object has no attribute 'find_all' https://en.wikipedia.org/wiki/Isekai\n"
          ],
          "name": "stdout"
        },
        {
          "output_type": "stream",
          "text": [
            "\n",
            "372it [07:24,  2.38s/it]\u001b[A\n",
            "373it [07:24,  1.72s/it]\u001b[A"
          ],
          "name": "stderr"
        },
        {
          "output_type": "stream",
          "text": [
            "'NoneType' object has no attribute 'find_all' https://en.wikipedia.org/wiki/Jidaigeki\n",
            "'NoneType' object has no attribute 'find_all' https://en.wikipedia.org/wiki/Samurai_cinema\n"
          ],
          "name": "stdout"
        },
        {
          "output_type": "stream",
          "text": [
            "\n",
            "374it [07:25,  1.41s/it]\u001b[A"
          ],
          "name": "stderr"
        },
        {
          "output_type": "stream",
          "text": [
            "'NoneType' object has no attribute 'find_all' https://en.wikipedia.org/wiki/List_of_LGBT-related_films\n"
          ],
          "name": "stdout"
        },
        {
          "output_type": "stream",
          "text": [
            "\n",
            "375it [07:25,  1.13s/it]\u001b[A"
          ],
          "name": "stderr"
        },
        {
          "output_type": "stream",
          "text": [
            "'NoneType' object has no attribute 'find_all' https://en.wikipedia.org/wiki/Yaoi\n"
          ],
          "name": "stdout"
        },
        {
          "output_type": "stream",
          "text": [
            "\n",
            "376it [07:26,  1.09it/s]\u001b[A\n",
            "377it [07:26,  1.49it/s]\u001b[A"
          ],
          "name": "stderr"
        },
        {
          "output_type": "stream",
          "text": [
            "'NoneType' object has no attribute 'find_all' https://en.wikipedia.org/wiki/Yuri_(genre)\n",
            "'NoneType' object has no attribute 'find_all' https://en.wikipedia.org/wiki/Luchador_films\n"
          ],
          "name": "stdout"
        },
        {
          "output_type": "stream",
          "text": [
            "\n",
            "378it [07:26,  1.79it/s]\u001b[A\n",
            "379it [07:26,  2.30it/s]\u001b[A"
          ],
          "name": "stderr"
        },
        {
          "output_type": "stream",
          "text": [
            "'NoneType' object has no attribute 'find_all' https://en.wikipedia.org/wiki/Magical_girl\n",
            "'NoneType' object has no attribute 'find_all' https://en.wikipedia.org/wiki/Martial_arts_film\n"
          ],
          "name": "stdout"
        },
        {
          "output_type": "stream",
          "text": [
            "\n",
            "380it [07:27,  2.57it/s]\u001b[A"
          ],
          "name": "stderr"
        },
        {
          "output_type": "stream",
          "text": [
            "'NoneType' object has no attribute 'find_all' https://en.wikipedia.org/wiki/Bruceploitation\n"
          ],
          "name": "stdout"
        },
        {
          "output_type": "stream",
          "text": [
            "\n",
            "381it [07:37,  3.34s/it]\u001b[A\n",
            "382it [07:37,  2.38s/it]\u001b[A"
          ],
          "name": "stderr"
        },
        {
          "output_type": "stream",
          "text": [
            "'NoneType' object has no attribute 'find_all' https://en.wikipedia.org/wiki/Chopsocky\n",
            "'NoneType' object has no attribute 'find_all' https://en.wikipedia.org/wiki/Kung_fu_film\n"
          ],
          "name": "stdout"
        },
        {
          "output_type": "stream",
          "text": [
            "\n",
            "383it [07:37,  1.77s/it]\u001b[A"
          ],
          "name": "stderr"
        },
        {
          "output_type": "stream",
          "text": [
            "'NoneType' object has no attribute 'find_all' https://en.wikipedia.org/wiki/List_of_ninja_films\n"
          ],
          "name": "stdout"
        },
        {
          "output_type": "stream",
          "text": [
            "\n",
            "384it [07:38,  1.32s/it]\u001b[A"
          ],
          "name": "stderr"
        },
        {
          "output_type": "stream",
          "text": [
            "'NoneType' object has no attribute 'find_all' https://en.wikipedia.org/wiki/Wuxia#Films\n"
          ],
          "name": "stdout"
        },
        {
          "output_type": "stream",
          "text": [
            "\n",
            "385it [07:38,  1.01s/it]\u001b[A"
          ],
          "name": "stderr"
        },
        {
          "output_type": "stream",
          "text": [
            "'NoneType' object has no attribute 'find_all' https://en.wikipedia.org/wiki/Mecha\n"
          ],
          "name": "stdout"
        },
        {
          "output_type": "stream",
          "text": [
            "\n",
            "386it [07:38,  1.31it/s]\u001b[A"
          ],
          "name": "stderr"
        },
        {
          "output_type": "stream",
          "text": [
            "'NoneType' object has no attribute 'find_all' https://en.wikipedia.org/wiki/Mecha_anime_and_manga\n",
            "'NoneType' object has no attribute 'find_all' https://en.wikipedia.org/wiki/Monster_movie\n"
          ],
          "name": "stdout"
        },
        {
          "output_type": "stream",
          "text": [
            "\n",
            "388it [07:38,  1.69it/s]\u001b[A"
          ],
          "name": "stderr"
        },
        {
          "output_type": "stream",
          "text": [
            "'NoneType' object has no attribute 'find_all' https://en.wikipedia.org/wiki/List_of_films_featuring_giant_monsters\n"
          ],
          "name": "stdout"
        },
        {
          "output_type": "stream",
          "text": [
            "\n",
            "389it [07:39,  2.09it/s]\u001b[A"
          ],
          "name": "stderr"
        },
        {
          "output_type": "stream",
          "text": [
            "'NoneType' object has no attribute 'find_all' https://en.wikipedia.org/wiki/Jiangshi_fiction#Hong_Kong_cinema\n"
          ],
          "name": "stdout"
        },
        {
          "output_type": "stream",
          "text": [
            "\n",
            "390it [07:39,  2.24it/s]\u001b[A"
          ],
          "name": "stderr"
        },
        {
          "output_type": "stream",
          "text": [
            "'NoneType' object has no attribute 'find_all' https://en.wikipedia.org/wiki/Kaiju\n"
          ],
          "name": "stdout"
        },
        {
          "output_type": "stream",
          "text": [
            "\n",
            "391it [07:49,  3.36s/it]\u001b[A\n",
            "392it [07:49,  2.40s/it]\u001b[A"
          ],
          "name": "stderr"
        },
        {
          "output_type": "stream",
          "text": [
            "'NoneType' object has no attribute 'find_all' https://en.wikipedia.org/wiki/List_of_mummy_films\n",
            "'NoneType' object has no attribute 'find_all' https://en.wikipedia.org/wiki/Vampire_films\n"
          ],
          "name": "stdout"
        },
        {
          "output_type": "stream",
          "text": [
            "\n",
            "393it [07:50,  1.76s/it]\u001b[A"
          ],
          "name": "stderr"
        },
        {
          "output_type": "stream",
          "text": [
            "'NoneType' object has no attribute 'find_all' https://en.wikipedia.org/wiki/Werewolf_fiction#Films\n"
          ],
          "name": "stdout"
        },
        {
          "output_type": "stream",
          "text": [
            "\n",
            "394it [07:50,  1.43s/it]\u001b[A"
          ],
          "name": "stderr"
        },
        {
          "output_type": "stream",
          "text": [
            "'NoneType' object has no attribute 'find_all' https://en.wikipedia.org/wiki/List_of_zombie_films\n"
          ],
          "name": "stdout"
        },
        {
          "output_type": "stream",
          "text": [
            "\n",
            "395it [07:50,  1.08s/it]\u001b[A\n",
            "396it [07:51,  1.26it/s]\u001b[A"
          ],
          "name": "stderr"
        },
        {
          "output_type": "stream",
          "text": [
            "'NoneType' object has no attribute 'find_all' https://en.wikipedia.org/wiki/Zombie_comedy\n",
            "'NoneType' object has no attribute 'find_all' https://en.wikipedia.org/wiki/Mountain_film\n"
          ],
          "name": "stdout"
        },
        {
          "output_type": "stream",
          "text": [
            "\n",
            "397it [07:51,  1.49it/s]\u001b[A\n",
            "398it [07:51,  1.98it/s]\u001b[A"
          ],
          "name": "stderr"
        },
        {
          "output_type": "stream",
          "text": [
            "'NoneType' object has no attribute 'find_all' https://en.wikipedia.org/wiki/Cinema_da_Boca_do_Lixo\n",
            "'NoneType' object has no attribute 'find_all' https://en.wikipedia.org/wiki/Muslim_social\n"
          ],
          "name": "stdout"
        },
        {
          "output_type": "stream",
          "text": [
            "\n",
            "399it [07:52,  2.10it/s]\u001b[A\n",
            "400it [07:52,  2.56it/s]\u001b[A"
          ],
          "name": "stderr"
        },
        {
          "output_type": "stream",
          "text": [
            "'NoneType' object has no attribute 'find_all' https://en.wikipedia.org/wiki/Nature_documentary\n",
            "'NoneType' object has no attribute 'find_all' https://en.wikipedia.org/wiki/List_of_environmental_films\n"
          ],
          "name": "stdout"
        },
        {
          "output_type": "stream",
          "text": [
            "\n",
            "401it [08:02,  3.31s/it]\u001b[A"
          ],
          "name": "stderr"
        },
        {
          "output_type": "stream",
          "text": [
            "'NoneType' object has no attribute 'find_all' https://en.wikipedia.org/wiki/Opera_film\n"
          ],
          "name": "stdout"
        },
        {
          "output_type": "stream",
          "text": [
            "\n",
            "402it [08:02,  2.39s/it]\u001b[A\n",
            "403it [08:02,  1.72s/it]\u001b[A"
          ],
          "name": "stderr"
        },
        {
          "output_type": "stream",
          "text": [
            "'NoneType' object has no attribute 'find_all' https://en.wikipedia.org/wiki/Outlaw_biker_film\n",
            "'NoneType' object has no attribute 'find_all' https://en.wikipedia.org/wiki/Ozploitation\n"
          ],
          "name": "stdout"
        },
        {
          "output_type": "stream",
          "text": [
            "\n",
            "404it [08:02,  1.24s/it]\u001b[A"
          ],
          "name": "stderr"
        },
        {
          "output_type": "stream",
          "text": [
            "'NoneType' object has no attribute 'find_all' https://en.wikipedia.org/wiki/Partisan_film\n",
            "'NoneType' object has no attribute 'find_all'"
          ],
          "name": "stdout"
        },
        {
          "output_type": "stream",
          "text": [
            "\n",
            "405it [08:03,  1.07it/s]\u001b[A\n",
            "406it [08:03,  1.45it/s]\u001b[A"
          ],
          "name": "stderr"
        },
        {
          "output_type": "stream",
          "text": [
            " https://en.wikipedia.org/wiki/Pirates_in_popular_culture#Films\n",
            "'NoneType' object has no attribute 'find_all' https://en.wikipedia.org/wiki/Prison_film\n"
          ],
          "name": "stdout"
        },
        {
          "output_type": "stream",
          "text": [
            "\n",
            "407it [08:03,  1.90it/s]\u001b[A"
          ],
          "name": "stderr"
        },
        {
          "output_type": "stream",
          "text": [
            "'NoneType' object has no attribute 'find_all' https://en.wikipedia.org/wiki/Women_in_prison_film\n"
          ],
          "name": "stdout"
        },
        {
          "output_type": "stream",
          "text": [
            "\n",
            "408it [08:03,  2.31it/s]\u001b[A\n",
            "409it [08:03,  2.93it/s]\u001b[A"
          ],
          "name": "stderr"
        },
        {
          "output_type": "stream",
          "text": [
            "'NoneType' object has no attribute 'find_all' https://en.wikipedia.org/wiki/Race_film\n",
            "'NoneType' object has no attribute 'find_all' https://en.wikipedia.org/wiki/Rape_and_revenge_film\n"
          ],
          "name": "stdout"
        },
        {
          "output_type": "stream",
          "text": [
            "\n",
            "410it [08:03,  3.17it/s]\u001b[A"
          ],
          "name": "stderr"
        },
        {
          "output_type": "stream",
          "text": [
            "'NoneType' object has no attribute 'find_all' https://en.wikipedia.org/wiki/Road_movie\n"
          ],
          "name": "stdout"
        },
        {
          "output_type": "stream",
          "text": [
            "\n",
            "411it [08:14,  3.25s/it]\u001b[A\n",
            "412it [08:14,  2.32s/it]\u001b[A"
          ],
          "name": "stderr"
        },
        {
          "output_type": "stream",
          "text": [
            "'NoneType' object has no attribute 'find_all' https://en.wikipedia.org/wiki/Tr%C3%BCmmerfilm\n",
            "'NoneType' object has no attribute 'find_all' https://en.wikipedia.org/wiki/Rumberas_film\n"
          ],
          "name": "stdout"
        },
        {
          "output_type": "stream",
          "text": [
            "\n",
            "413it [08:14,  1.72s/it]\u001b[A\n",
            "414it [08:14,  1.24s/it]\u001b[A"
          ],
          "name": "stderr"
        },
        {
          "output_type": "stream",
          "text": [
            "'NoneType' object has no attribute 'find_all' https://en.wikipedia.org/wiki/Bavarian_porn\n",
            "'NoneType' object has no attribute 'find_all' https://en.wikipedia.org/wiki/Mexican_sex_comedy\n"
          ],
          "name": "stdout"
        },
        {
          "output_type": "stream",
          "text": [
            "\n",
            "415it [08:14,  1.06it/s]\u001b[A\n",
            "416it [08:14,  1.44it/s]\u001b[A"
          ],
          "name": "stderr"
        },
        {
          "output_type": "stream",
          "text": [
            "'NoneType' object has no attribute 'find_all' https://en.wikipedia.org/wiki/Nazi_exploitation\n",
            "'NoneType' object has no attribute 'find_all' https://en.wikipedia.org/wiki/Pornochanchada\n"
          ],
          "name": "stdout"
        },
        {
          "output_type": "stream",
          "text": [
            "\n",
            "417it [08:15,  1.90it/s]\u001b[A\n",
            "418it [08:15,  2.50it/s]\u001b[A"
          ],
          "name": "stderr"
        },
        {
          "output_type": "stream",
          "text": [
            "'NoneType' object has no attribute 'find_all' https://en.wikipedia.org/wiki/Nunsploitation\n",
            "'NoneType' object has no attribute 'find_all' https://en.wikipedia.org/wiki/Sex_report_film\n"
          ],
          "name": "stdout"
        },
        {
          "output_type": "stream",
          "text": [
            "\n",
            "419it [08:15,  3.18it/s]\u001b[A"
          ],
          "name": "stderr"
        },
        {
          "output_type": "stream",
          "text": [
            "'NoneType' object has no attribute 'find_all' https://en.wikipedia.org/wiki/Shomin-geki\n"
          ],
          "name": "stdout"
        },
        {
          "output_type": "stream",
          "text": [
            "\n",
            "420it [08:15,  3.51it/s]\u001b[A"
          ],
          "name": "stderr"
        },
        {
          "output_type": "stream",
          "text": [
            "'NoneType' object has no attribute 'find_all' https://en.wikipedia.org/wiki/List_of_films_featuring_slavery\n"
          ],
          "name": "stdout"
        },
        {
          "output_type": "stream",
          "text": [
            "\n",
            "421it [08:25,  3.24s/it]\u001b[A"
          ],
          "name": "stderr"
        },
        {
          "output_type": "stream",
          "text": [
            "'NoneType' object has no attribute 'find_all' https://en.wikipedia.org/wiki/Snuff_film\n"
          ],
          "name": "stdout"
        },
        {
          "output_type": "stream",
          "text": [
            "\n",
            "422it [08:25,  2.36s/it]\u001b[A\n",
            "423it [08:26,  1.69s/it]\u001b[A"
          ],
          "name": "stderr"
        },
        {
          "output_type": "stream",
          "text": [
            "'NoneType' object has no attribute 'find_all' https://en.wikipedia.org/wiki/South_Seas_genre\n",
            "'NoneType' object has no attribute 'find_all' https://en.wikipedia.org/wiki/Sports_film\n"
          ],
          "name": "stdout"
        },
        {
          "output_type": "stream",
          "text": [
            "\n",
            "424it [08:26,  1.23s/it]\u001b[A\n",
            "425it [08:26,  1.11it/s]\u001b[A"
          ],
          "name": "stderr"
        },
        {
          "output_type": "stream",
          "text": [
            "'NoneType' object has no attribute 'find_all' https://en.wikipedia.org/wiki/Spy_film\n",
            "'NoneType' object has no attribute 'find_all' https://en.wikipedia.org/wiki/Eurospy_film\n"
          ],
          "name": "stdout"
        },
        {
          "output_type": "stream",
          "text": [
            "\n",
            "426it [08:26,  1.44it/s]\u001b[A\n",
            "427it [08:26,  1.90it/s]\u001b[A"
          ],
          "name": "stderr"
        },
        {
          "output_type": "stream",
          "text": [
            "'NoneType' object has no attribute 'find_all' https://en.wikipedia.org/wiki/Superhero_film\n",
            "'NoneType' object has no attribute 'find_all' https://en.wikipedia.org/wiki/Surf_film\n"
          ],
          "name": "stdout"
        },
        {
          "output_type": "stream",
          "text": [
            "\n",
            "428it [08:26,  2.28it/s]\u001b[A\n",
            "429it [08:27,  2.79it/s]\u001b[A"
          ],
          "name": "stderr"
        },
        {
          "output_type": "stream",
          "text": [
            "'NoneType' object has no attribute 'find_all' https://en.wikipedia.org/wiki/Swashbuckler_film\n",
            "'NoneType' object has no attribute 'find_all' https://en.wikipedia.org/wiki/Sword_and_sorcery\n"
          ],
          "name": "stdout"
        },
        {
          "output_type": "stream",
          "text": [
            "\n",
            "430it [08:27,  3.36it/s]\u001b[A"
          ],
          "name": "stderr"
        },
        {
          "output_type": "stream",
          "text": [
            "'NoneType' object has no attribute 'find_all' https://en.wikipedia.org/wiki/Trial_film\n"
          ],
          "name": "stdout"
        },
        {
          "output_type": "stream",
          "text": [
            "\n",
            "431it [08:37,  3.27s/it]\u001b[A"
          ],
          "name": "stderr"
        },
        {
          "output_type": "stream",
          "text": [
            "'NoneType' object has no attribute 'find_all' https://en.wikipedia.org/wiki/Vigilante_film\n"
          ],
          "name": "stdout"
        },
        {
          "output_type": "stream",
          "text": [
            "\n",
            "432it [08:37,  2.42s/it]\u001b[A"
          ],
          "name": "stderr"
        },
        {
          "output_type": "stream",
          "text": [
            "'NoneType' object has no attribute 'find_all' https://en.wikipedia.org/wiki/War_film\n"
          ],
          "name": "stdout"
        },
        {
          "output_type": "stream",
          "text": [
            "\n",
            "433it [08:38,  1.78s/it]\u001b[A"
          ],
          "name": "stderr"
        },
        {
          "output_type": "stream",
          "text": [
            "'NoneType' object has no attribute 'find_all' https://en.wikipedia.org/wiki/List_of_anti-war_films\n"
          ],
          "name": "stdout"
        },
        {
          "output_type": "stream",
          "text": [
            "\n",
            "434it [08:38,  1.32s/it]\u001b[A\n",
            "435it [08:38,  1.02it/s]\u001b[A"
          ],
          "name": "stderr"
        },
        {
          "output_type": "stream",
          "text": [
            "'NoneType' object has no attribute 'find_all' https://en.wikipedia.org/wiki/Euro_War\n",
            "'NoneType' object has no attribute 'find_all' https://en.wikipedia.org/wiki/Submarine_films\n"
          ],
          "name": "stdout"
        },
        {
          "output_type": "stream",
          "text": [
            "\n",
            "436it [08:39,  1.22it/s]\u001b[A\n",
            "437it [08:39,  1.65it/s]\u001b[A"
          ],
          "name": "stderr"
        },
        {
          "output_type": "stream",
          "text": [
            "'NoneType' object has no attribute 'find_all' https://en.wikipedia.org/wiki/Western_(genre)\n",
            "'NoneType' object has no attribute 'find_all' https://en.wikipedia.org/wiki/Acid_Western\n"
          ],
          "name": "stdout"
        },
        {
          "output_type": "stream",
          "text": [
            "\n",
            "438it [08:39,  2.19it/s]\u001b[A\n",
            "439it [08:39,  2.79it/s]\u001b[A"
          ],
          "name": "stderr"
        },
        {
          "output_type": "stream",
          "text": [
            "'NoneType' object has no attribute 'find_all' https://en.wikipedia.org/wiki/Florida_Western\n",
            "'NoneType' object has no attribute 'find_all' https://en.wikipedia.org/wiki/Meat_pie_Western\n"
          ],
          "name": "stdout"
        },
        {
          "output_type": "stream",
          "text": [
            "\n",
            "440it [08:39,  3.10it/s]\u001b[A"
          ],
          "name": "stderr"
        },
        {
          "output_type": "stream",
          "text": [
            "'NoneType' object has no attribute 'find_all' https://en.wikipedia.org/wiki/Northern_(genre)\n"
          ],
          "name": "stdout"
        },
        {
          "output_type": "stream",
          "text": [
            "\n",
            "441it [08:49,  3.30s/it]\u001b[A\n",
            "442it [08:50,  2.36s/it]\u001b[A"
          ],
          "name": "stderr"
        },
        {
          "output_type": "stream",
          "text": [
            "'NoneType' object has no attribute 'find_all' https://en.wikipedia.org/wiki/Ostern\n",
            "'NoneType' object has no attribute 'find_all' https://en.wikipedia.org/wiki/Revisionist_Western\n"
          ],
          "name": "stdout"
        },
        {
          "output_type": "stream",
          "text": [
            "\n",
            "443it [08:50,  1.74s/it]\u001b[A"
          ],
          "name": "stderr"
        },
        {
          "output_type": "stream",
          "text": [
            "'NoneType' object has no attribute 'find_all' https://en.wikipedia.org/wiki/Spaghetti_Western\n"
          ],
          "name": "stdout"
        },
        {
          "output_type": "stream",
          "text": [
            "\n",
            "444it [08:50,  1.28s/it]\u001b[A\n",
            "445it [08:50,  1.05it/s]\u001b[A"
          ],
          "name": "stderr"
        },
        {
          "output_type": "stream",
          "text": [
            "'NoneType' object has no attribute 'find_all' https://en.wikipedia.org/wiki/Weird_West\n",
            "'NoneType' object has no attribute 'find_all' https://en.wikipedia.org/wiki/Absolute_film\n"
          ],
          "name": "stdout"
        },
        {
          "output_type": "stream",
          "text": [
            "\n",
            "446it [08:50,  1.38it/s]\u001b[A\n",
            "447it [08:51,  1.79it/s]\u001b[A"
          ],
          "name": "stderr"
        },
        {
          "output_type": "stream",
          "text": [
            "'NoneType' object has no attribute 'find_all' https://en.wikipedia.org/wiki/New_Objectivity_(filmmaking)\n"
          ],
          "name": "stdout"
        },
        {
          "output_type": "stream",
          "text": [
            "\n",
            "448it [08:51,  2.12it/s]\u001b[A\n",
            "449it [08:51,  2.61it/s]\u001b[A"
          ],
          "name": "stderr"
        },
        {
          "output_type": "stream",
          "text": [
            "'NoneType' object has no attribute 'find_all' https://en.wikipedia.org/wiki/Australian_New_Wave\n",
            "'NoneType' object has no attribute 'find_all' https://en.wikipedia.org/wiki/Auteur\n"
          ],
          "name": "stdout"
        },
        {
          "output_type": "stream",
          "text": [
            "\n",
            "450it [08:51,  3.12it/s]\u001b[A"
          ],
          "name": "stderr"
        },
        {
          "output_type": "stream",
          "text": [
            "'NoneType' object has no attribute 'find_all' https://en.wikipedia.org/wiki/Berlin_School_(filmmaking)\n"
          ],
          "name": "stdout"
        },
        {
          "output_type": "stream",
          "text": [
            "\n",
            "451it [09:01,  3.26s/it]\u001b[A\n",
            "452it [09:02,  2.31s/it]\u001b[A"
          ],
          "name": "stderr"
        },
        {
          "output_type": "stream",
          "text": [
            "'NoneType' object has no attribute 'find_all' https://en.wikipedia.org/wiki/Bourekas_film\n",
            "'NoneType' object has no attribute 'find_all' https://en.wikipedia.org/wiki/Brighton_School_(filmmaking)\n"
          ],
          "name": "stdout"
        },
        {
          "output_type": "stream",
          "text": [
            "\n",
            "453it [09:02,  1.67s/it]\u001b[A\n",
            "454it [09:02,  1.21s/it]\u001b[A"
          ],
          "name": "stderr"
        },
        {
          "output_type": "stream",
          "text": [
            "'NoneType' object has no attribute 'find_all' https://en.wikipedia.org/wiki/British_New_Wave\n",
            "'NoneType' object has no attribute 'find_all' https://en.wikipedia.org/wiki/Kitchen_sink_realism\n"
          ],
          "name": "stdout"
        },
        {
          "output_type": "stream",
          "text": [
            "\n",
            "455it [09:02,  1.14it/s]\u001b[A"
          ],
          "name": "stderr"
        },
        {
          "output_type": "stream",
          "text": [
            "'NoneType' object has no attribute 'find_all' https://en.wikipedia.org/wiki/Budapest_school\n"
          ],
          "name": "stdout"
        },
        {
          "output_type": "stream",
          "text": [
            "\n",
            "456it [09:02,  1.47it/s]\u001b[A\n",
            "457it [09:02,  1.85it/s]\u001b[A\n",
            "458it [09:03,  2.01it/s]\u001b[A"
          ],
          "name": "stderr"
        },
        {
          "output_type": "stream",
          "text": [
            "'NoneType' object has no attribute 'find_all' https://en.wikipedia.org/wiki/Cin%C3%A9ma_pur\n",
            "'NoneType' object has no attribute 'get_text' https://en.wikipedia.org/wiki/Czechoslovak_New_Wave\n"
          ],
          "name": "stdout"
        },
        {
          "output_type": "stream",
          "text": [
            "\n",
            "460it [09:03,  2.57it/s]\u001b[A"
          ],
          "name": "stderr"
        },
        {
          "output_type": "stream",
          "text": [
            "'NoneType' object has no attribute 'find_all' https://en.wikipedia.org/wiki/Documentary_Film_Movement\n"
          ],
          "name": "stdout"
        },
        {
          "output_type": "stream",
          "text": [
            "\n",
            "461it [09:13,  3.31s/it]\u001b[A\n",
            "462it [09:13,  2.42s/it]\u001b[A\n",
            "463it [09:14,  1.73s/it]\u001b[A"
          ],
          "name": "stderr"
        },
        {
          "output_type": "stream",
          "text": [
            "'NoneType' object has no attribute 'find_all' https://en.wikipedia.org/wiki/Erra_Cinema\n",
            "'NoneType' object has no attribute 'find_all' https://en.wikipedia.org/wiki/European_art_cinema\n"
          ],
          "name": "stdout"
        },
        {
          "output_type": "stream",
          "text": [
            "\n",
            "464it [09:14,  1.27s/it]\u001b[A\n",
            "465it [09:14,  1.07it/s]\u001b[A"
          ],
          "name": "stderr"
        },
        {
          "output_type": "stream",
          "text": [
            "'NoneType' object has no attribute 'find_all' https://en.wikipedia.org/wiki/Film_gris\n",
            "'NoneType' object has no attribute 'find_all' https://en.wikipedia.org/wiki/Free_Cinema\n"
          ],
          "name": "stdout"
        },
        {
          "output_type": "stream",
          "text": [
            "\n",
            "466it [09:14,  1.42it/s]\u001b[A\n",
            "467it [09:14,  1.89it/s]\u001b[A\n",
            "468it [09:14,  2.36it/s]\u001b[A"
          ],
          "name": "stderr"
        },
        {
          "output_type": "stream",
          "text": [
            "'NoneType' object has no attribute 'get_text' https://en.wikipedia.org/wiki/German_Expressionism\n",
            "'NoneType' object has no attribute 'find_all' https://en.wikipedia.org/wiki/Golden_Age_of_Nigerian_Cinema\n"
          ],
          "name": "stdout"
        },
        {
          "output_type": "stream",
          "text": [
            "\n",
            "469it [09:15,  3.02it/s]\u001b[A\n",
            "470it [09:15,  3.73it/s]\u001b[A"
          ],
          "name": "stderr"
        },
        {
          "output_type": "stream",
          "text": [
            "'NoneType' object has no attribute 'find_all' https://en.wikipedia.org/wiki/Grupo_Cine_Liberaci%C3%B3n\n",
            "'NoneType' object has no attribute 'find_all' https://en.wikipedia.org/wiki/Hollywood_on_the_Tiber\n"
          ],
          "name": "stdout"
        },
        {
          "output_type": "stream",
          "text": [
            "\n",
            "471it [09:25,  3.27s/it]\u001b[A\n",
            "472it [09:25,  2.32s/it]\u001b[A\n",
            "473it [09:25,  1.66s/it]\u001b[A\n",
            "474it [09:25,  1.20s/it]\u001b[A"
          ],
          "name": "stderr"
        },
        {
          "output_type": "stream",
          "text": [
            "'NoneType' object has no attribute 'find_all' https://en.wikipedia.org/wiki/Italian_futurism_in_cinema\n",
            "'NoneType' object has no attribute 'get_text' https://en.wikipedia.org/wiki/Italian_neorealism\n"
          ],
          "name": "stdout"
        },
        {
          "output_type": "stream",
          "text": [
            "\n",
            "475it [09:25,  1.13it/s]\u001b[A\n",
            "476it [09:26,  1.38it/s]\u001b[A\n",
            "477it [09:26,  1.84it/s]\u001b[A"
          ],
          "name": "stderr"
        },
        {
          "output_type": "stream",
          "text": [
            "'NoneType' object has no attribute 'find_all' https://en.wikipedia.org/wiki/Kammerspielfilm\n"
          ],
          "name": "stdout"
        },
        {
          "output_type": "stream",
          "text": [
            "\n",
            "478it [09:26,  2.14it/s]\u001b[A\n",
            "479it [09:26,  2.59it/s]"
          ],
          "name": "stderr"
        },
        {
          "output_type": "stream",
          "text": [
            "'NoneType' object has no attribute 'find_all' https://en.wikipedia.org/wiki/Lettrism\n",
            "'NoneType' object has no attribute 'find_all' https://en.wikipedia.org/wiki/Modernist_film\n"
          ],
          "name": "stdout"
        },
        {
          "output_type": "stream",
          "text": [
            "\u001b[A\n",
            "480it [09:27,  2.71it/s]\u001b[A"
          ],
          "name": "stderr"
        },
        {
          "output_type": "stream",
          "text": [
            "'NoneType' object has no attribute 'find_all' https://en.wikipedia.org/wiki/Neorealism_(art)\n"
          ],
          "name": "stdout"
        },
        {
          "output_type": "stream",
          "text": [
            "\n",
            "481it [09:37,  3.29s/it]\u001b[A\n",
            "482it [09:37,  2.41s/it]\u001b[A"
          ],
          "name": "stderr"
        },
        {
          "output_type": "stream",
          "text": [
            "'NoneType' object has no attribute 'find_all' https://en.wikipedia.org/wiki/New_Generation_(Malayalam_film_movement)\n"
          ],
          "name": "stdout"
        },
        {
          "output_type": "stream",
          "text": [
            "\n",
            "483it [09:38,  1.84s/it]\u001b[A\n",
            "484it [09:38,  1.36s/it]\u001b[A\n",
            "485it [09:38,  1.01it/s]\u001b[A"
          ],
          "name": "stderr"
        },
        {
          "output_type": "stream",
          "text": [
            "'NoneType' object has no attribute 'find_all' https://en.wikipedia.org/wiki/New_Nigerian_Cinema\n",
            "'NoneType' object has no attribute 'find_all' https://en.wikipedia.org/wiki/New_Queer_Cinema\n"
          ],
          "name": "stdout"
        },
        {
          "output_type": "stream",
          "text": [
            "\n",
            "486it [09:38,  1.37it/s]\u001b[A\n",
            "487it [09:39,  1.64it/s]\u001b[A\n",
            "488it [09:39,  2.04it/s]\u001b[A\n",
            "489it [09:39,  2.51it/s]\u001b[A\n",
            "490it [09:39,  2.66it/s]\u001b[A"
          ],
          "name": "stderr"
        },
        {
          "output_type": "stream",
          "text": [
            "'NoneType' object has no attribute 'find_all' https://en.wikipedia.org/wiki/Persian_Film\n"
          ],
          "name": "stdout"
        },
        {
          "output_type": "stream",
          "text": [
            "\n",
            "491it [09:49,  3.29s/it]\u001b[A\n",
            "492it [09:49,  2.34s/it]\u001b[A\n",
            "493it [09:50,  1.67s/it]\u001b[A"
          ],
          "name": "stderr"
        },
        {
          "output_type": "stream",
          "text": [
            "'NoneType' object has no attribute 'find_all' https://en.wikipedia.org/wiki/Polish_Film_School\n",
            "'NoneType' object has no attribute 'find_all' https://en.wikipedia.org/wiki/Pra%C5%A1ka_filmska_%C5%A1kola\n"
          ],
          "name": "stdout"
        },
        {
          "output_type": "stream",
          "text": [
            "\n",
            "494it [09:50,  1.21s/it]\u001b[A\n",
            "495it [09:50,  1.14it/s]\u001b[A"
          ],
          "name": "stderr"
        },
        {
          "output_type": "stream",
          "text": [
            "'NoneType' object has no attribute 'find_all' https://en.wikipedia.org/wiki/Prussian_film\n",
            "'NoneType' object has no attribute 'find_all' https://en.wikipedia.org/wiki/Pure_Film_Movement\n"
          ],
          "name": "stdout"
        },
        {
          "output_type": "stream",
          "text": [
            "\n",
            "496it [09:50,  1.46it/s]\u001b[A\n",
            "497it [09:50,  1.92it/s]\u001b[A"
          ],
          "name": "stderr"
        },
        {
          "output_type": "stream",
          "text": [
            "'NoneType' object has no attribute 'get_text' https://en.wikipedia.org/wiki/Remodernist_film\n"
          ],
          "name": "stdout"
        },
        {
          "output_type": "stream",
          "text": [
            "\n",
            "498it [09:50,  2.29it/s]\u001b[A"
          ],
          "name": "stderr"
        },
        {
          "output_type": "stream",
          "text": [
            "'NoneType' object has no attribute 'find_all' https://en.wikipedia.org/wiki/Socialist_realism\n"
          ],
          "name": "stdout"
        },
        {
          "output_type": "stream",
          "text": [
            "\n",
            "499it [09:51,  2.65it/s]\u001b[A"
          ],
          "name": "stderr"
        },
        {
          "output_type": "stream",
          "text": [
            "'NoneType' object has no attribute 'find_all' https://en.wikipedia.org/wiki/Social_realism\n"
          ],
          "name": "stdout"
        },
        {
          "output_type": "stream",
          "text": [
            "\n",
            "500it [09:51,  2.75it/s]\u001b[A"
          ],
          "name": "stderr"
        },
        {
          "output_type": "stream",
          "text": [
            "'NoneType' object has no attribute 'find_all' https://en.wikipedia.org/wiki/Soviet_Parallel_Cinema\n"
          ],
          "name": "stdout"
        },
        {
          "output_type": "stream",
          "text": [
            "\n",
            "501it [10:01,  3.31s/it]\u001b[A"
          ],
          "name": "stderr"
        },
        {
          "output_type": "stream",
          "text": [
            "'NoneType' object has no attribute 'find_all' https://en.wikipedia.org/wiki/Structural_film\n"
          ],
          "name": "stdout"
        },
        {
          "output_type": "stream",
          "text": [
            "\n",
            "502it [10:01,  2.39s/it]\u001b[A\n",
            "504it [10:02,  1.70s/it]\u001b[A"
          ],
          "name": "stderr"
        },
        {
          "output_type": "stream",
          "text": [
            "'NoneType' object has no attribute 'find_all' https://en.wikipedia.org/wiki/Surrealist_cinema\n",
            "'NoneType' object has no attribute 'find_all' https://en.wikipedia.org/wiki/Telefoni_Bianchi\n",
            "'NoneType' object has no attribute 'find_all' https://en.wikipedia.org/wiki/Third_Cinema\n"
          ],
          "name": "stdout"
        },
        {
          "output_type": "stream",
          "text": [
            "\n",
            "506it [10:02,  1.22s/it]\u001b[A\n",
            "507it [10:02,  1.13it/s]\u001b[A"
          ],
          "name": "stderr"
        },
        {
          "output_type": "stream",
          "text": [
            "'NoneType' object has no attribute 'find_all' https://en.wikipedia.org/wiki/Vulgar_auteurism\n"
          ],
          "name": "stdout"
        },
        {
          "output_type": "stream",
          "text": [
            "\n",
            "508it [10:02,  1.36it/s]\u001b[A\n",
            "509it [10:02,  1.77it/s]\u001b[A"
          ],
          "name": "stderr"
        },
        {
          "output_type": "stream",
          "text": [
            "'NoneType' object has no attribute 'find_all' https://en.wikipedia.org/wiki/Black_film\n",
            "'NoneType' object has no attribute 'find_all' https://en.wikipedia.org/wiki/Children%27s_film\n",
            "'NoneType' object has no attribute 'find_all' https://en.wikipedia.org/wiki/Children%27s_anime_and_manga\n"
          ],
          "name": "stdout"
        },
        {
          "output_type": "stream",
          "text": [
            "\n",
            "511it [10:13,  1.92s/it]\u001b[A\n",
            "512it [10:13,  1.38s/it]\u001b[A"
          ],
          "name": "stderr"
        },
        {
          "output_type": "stream",
          "text": [
            "'NoneType' object has no attribute 'find_all' https://en.wikipedia.org/wiki/Seinen_manga\n",
            "'NoneType' object has no attribute 'find_all' https://en.wikipedia.org/wiki/Stag_film\n"
          ],
          "name": "stdout"
        },
        {
          "output_type": "stream",
          "text": [
            "\n",
            "513it [10:13,  1.01s/it]\u001b[A\n",
            "514it [10:13,  1.36it/s]\u001b[A"
          ],
          "name": "stderr"
        },
        {
          "output_type": "stream",
          "text": [
            "'NoneType' object has no attribute 'find_all' https://en.wikipedia.org/wiki/Teen_film\n",
            "'NoneType' object has no attribute 'find_all' https://en.wikipedia.org/wiki/Sh%C5%8Dnen_manga\n"
          ],
          "name": "stdout"
        },
        {
          "output_type": "stream",
          "text": [
            "\n",
            "515it [10:13,  1.68it/s]\u001b[A\n",
            "516it [10:13,  2.17it/s]\u001b[A"
          ],
          "name": "stderr"
        },
        {
          "output_type": "stream",
          "text": [
            "'NoneType' object has no attribute 'find_all' https://en.wikipedia.org/wiki/Sh%C5%8Djo_manga\n",
            "'NoneType' object has no attribute 'find_all' https://en.wikipedia.org/wiki/Woman%27s_film\n"
          ],
          "name": "stdout"
        },
        {
          "output_type": "stream",
          "text": [
            "\n",
            "517it [10:14,  2.63it/s]\u001b[A\n",
            "518it [10:14,  3.32it/s]\u001b[A"
          ],
          "name": "stderr"
        },
        {
          "output_type": "stream",
          "text": [
            "'NoneType' object has no attribute 'find_all' https://en.wikipedia.org/wiki/Chick_flick\n",
            "'NoneType' object has no attribute 'find_all' https://en.wikipedia.org/wiki/Josei_manga\n"
          ],
          "name": "stdout"
        },
        {
          "output_type": "stream",
          "text": [
            "\n",
            "519it [10:14,  3.40it/s]\u001b[A\n",
            "520it [10:14,  4.12it/s]\u001b[A"
          ],
          "name": "stderr"
        },
        {
          "output_type": "stream",
          "text": [
            "'NoneType' object has no attribute 'find_all' https://en.wikipedia.org/wiki/3D_film\n",
            "'NoneType' object has no attribute 'find_all' https://en.wikipedia.org/wiki/Actuality_film\n"
          ],
          "name": "stdout"
        },
        {
          "output_type": "stream",
          "text": [
            "\n",
            "521it [10:24,  3.28s/it]\u001b[A"
          ],
          "name": "stderr"
        },
        {
          "output_type": "stream",
          "text": [
            "'NoneType' object has no attribute 'find_all' https://en.wikipedia.org/wiki/Animation\n"
          ],
          "name": "stdout"
        },
        {
          "output_type": "stream",
          "text": [
            "\n",
            "522it [10:25,  2.40s/it]\u001b[A"
          ],
          "name": "stderr"
        },
        {
          "output_type": "stream",
          "text": [
            "'NoneType' object has no attribute 'find_all' https://en.wikipedia.org/wiki/Anime\n"
          ],
          "name": "stdout"
        },
        {
          "output_type": "stream",
          "text": [
            "\n",
            "523it [10:25,  1.79s/it]\u001b[A\n",
            "524it [10:25,  1.30s/it]\u001b[A"
          ],
          "name": "stderr"
        },
        {
          "output_type": "stream",
          "text": [
            "'NoneType' object has no attribute 'find_all' https://en.wikipedia.org/wiki/Animated_cartoon\n",
            "'NoneType' object has no attribute 'find_all' https://en.wikipedia.org/wiki/Arthouse_animation\n"
          ],
          "name": "stdout"
        },
        {
          "output_type": "stream",
          "text": [
            "\n",
            "525it [10:26,  1.02it/s]\u001b[A"
          ],
          "name": "stderr"
        },
        {
          "output_type": "stream",
          "text": [
            "'NoneType' object has no attribute 'find_all' https://en.wikipedia.org/wiki/Computer_animation\n"
          ],
          "name": "stdout"
        },
        {
          "output_type": "stream",
          "text": [
            "\n",
            "526it [10:26,  1.33it/s]\u001b[A"
          ],
          "name": "stderr"
        },
        {
          "output_type": "stream",
          "text": [
            "'NoneType' object has no attribute 'find_all' https://en.wikipedia.org/wiki/Stop_motion\n"
          ],
          "name": "stdout"
        },
        {
          "output_type": "stream",
          "text": [
            "\n",
            "527it [10:26,  1.70it/s]\u001b[A\n",
            "528it [10:26,  2.25it/s]\u001b[A"
          ],
          "name": "stderr"
        },
        {
          "output_type": "stream",
          "text": [
            "'NoneType' object has no attribute 'find_all' https://en.wikipedia.org/wiki/Traditional_animation\n",
            "'NoneType' object has no attribute 'find_all' https://en.wikipedia.org/wiki/Anthology_film\n"
          ],
          "name": "stdout"
        },
        {
          "output_type": "stream",
          "text": [
            "\n",
            "529it [10:27,  2.30it/s]\u001b[A"
          ],
          "name": "stderr"
        },
        {
          "output_type": "stream",
          "text": [
            "'NoneType' object has no attribute 'find_all' https://en.wikipedia.org/wiki/B_movie\n"
          ],
          "name": "stdout"
        },
        {
          "output_type": "stream",
          "text": [
            "\n",
            "530it [10:27,  2.24it/s]\u001b[A"
          ],
          "name": "stderr"
        },
        {
          "output_type": "stream",
          "text": [
            "'NoneType' object has no attribute 'find_all' https://en.wikipedia.org/wiki/Black_and_white\n"
          ],
          "name": "stdout"
        },
        {
          "output_type": "stream",
          "text": [
            "\n",
            "531it [10:37,  3.35s/it]\u001b[A"
          ],
          "name": "stderr"
        },
        {
          "output_type": "stream",
          "text": [
            "'NoneType' object has no attribute 'find_all' https://en.wikipedia.org/wiki/Blockbuster_(entertainment)\n"
          ],
          "name": "stdout"
        },
        {
          "output_type": "stream",
          "text": [
            "\n",
            "532it [10:38,  2.53s/it]\u001b[A\n",
            "533it [10:38,  1.81s/it]\u001b[A"
          ],
          "name": "stderr"
        },
        {
          "output_type": "stream",
          "text": [
            "'NoneType' object has no attribute 'find_all' https://en.wikipedia.org/wiki/Bollywood\n",
            "'NoneType' object has no attribute 'find_all' https://en.wikipedia.org/wiki/Masala_film\n"
          ],
          "name": "stdout"
        },
        {
          "output_type": "stream",
          "text": [
            "\n",
            "534it [10:38,  1.31s/it]\u001b[A\n",
            "535it [10:38,  1.03it/s]\u001b[A"
          ],
          "name": "stderr"
        },
        {
          "output_type": "stream",
          "text": [
            "'NoneType' object has no attribute 'find_all' https://en.wikipedia.org/wiki/Cin%C3%A9ma_v%C3%A9rit%C3%A9\n",
            "'NoneType' object has no attribute 'get_text' https://en.wikipedia.org/wiki/Classical_Hollywood_cinema\n"
          ],
          "name": "stdout"
        },
        {
          "output_type": "stream",
          "text": [
            "\n",
            "536it [10:39,  1.29it/s]\u001b[A"
          ],
          "name": "stderr"
        },
        {
          "output_type": "stream",
          "text": [
            "'NoneType' object has no attribute 'find_all' https://en.wikipedia.org/wiki/Collage_film\n"
          ],
          "name": "stdout"
        },
        {
          "output_type": "stream",
          "text": [
            "\n",
            "537it [10:39,  1.61it/s]\u001b[A\n",
            "538it [10:39,  2.13it/s]\u001b[A"
          ],
          "name": "stderr"
        },
        {
          "output_type": "stream",
          "text": [
            "'NoneType' object has no attribute 'find_all' https://en.wikipedia.org/wiki/Color_motion_picture_film\n",
            "'NoneType' object has no attribute 'find_all' https://en.wikipedia.org/wiki/Compilation_film\n"
          ],
          "name": "stdout"
        },
        {
          "output_type": "stream",
          "text": [
            "\n",
            "539it [10:39,  2.74it/s]\u001b[A\n",
            "540it [10:39,  3.46it/s]\u001b[A"
          ],
          "name": "stderr"
        },
        {
          "output_type": "stream",
          "text": [
            "'NoneType' object has no attribute 'find_all' https://en.wikipedia.org/wiki/Composite_film\n",
            "'NoneType' object has no attribute 'find_all' https://en.wikipedia.org/wiki/Computer_screen_film\n"
          ],
          "name": "stdout"
        },
        {
          "output_type": "stream",
          "text": [
            "\n",
            "541it [10:49,  3.30s/it]\u001b[A\n",
            "542it [10:50,  2.36s/it]\u001b[A"
          ],
          "name": "stderr"
        },
        {
          "output_type": "stream",
          "text": [
            "'NoneType' object has no attribute 'find_all' https://en.wikipedia.org/wiki/Cult_film\n",
            "'NoneType' object has no attribute 'find_all' https://en.wikipedia.org/wiki/Midnight_movie\n"
          ],
          "name": "stdout"
        },
        {
          "output_type": "stream",
          "text": [
            "\n",
            "543it [10:50,  1.71s/it]\u001b[A"
          ],
          "name": "stderr"
        },
        {
          "output_type": "stream",
          "text": [
            "'NoneType' object has no attribute 'find_all' https://en.wikipedia.org/wiki/Database_cinema\n"
          ],
          "name": "stdout"
        },
        {
          "output_type": "stream",
          "text": [
            "\n",
            "544it [10:50,  1.31s/it]\u001b[A\n",
            "545it [10:50,  1.04it/s]\u001b[A"
          ],
          "name": "stderr"
        },
        {
          "output_type": "stream",
          "text": [
            "'NoneType' object has no attribute 'find_all' https://en.wikipedia.org/wiki/Docufiction\n",
            "'NoneType' object has no attribute 'find_all' https://en.wikipedia.org/wiki/Ethnofiction\n"
          ],
          "name": "stdout"
        },
        {
          "output_type": "stream",
          "text": [
            "\n",
            "546it [10:51,  1.25it/s]\u001b[A\n",
            "547it [10:51,  1.65it/s]\u001b[A"
          ],
          "name": "stderr"
        },
        {
          "output_type": "stream",
          "text": [
            "'NoneType' object has no attribute 'find_all' https://en.wikipedia.org/wiki/Abstract_animation\n",
            "'NoneType' object has no attribute 'find_all' https://en.wikipedia.org/wiki/Feature_film\n"
          ],
          "name": "stdout"
        },
        {
          "output_type": "stream",
          "text": [
            "\n",
            "548it [10:51,  1.88it/s]\u001b[A"
          ],
          "name": "stderr"
        },
        {
          "output_type": "stream",
          "text": [
            "'NoneType' object has no attribute 'find_all' https://en.wikipedia.org/wiki/Featurette\n"
          ],
          "name": "stdout"
        },
        {
          "output_type": "stream",
          "text": [
            "\n",
            "549it [10:52,  2.23it/s]\u001b[A"
          ],
          "name": "stderr"
        },
        {
          "output_type": "stream",
          "text": [
            "'NoneType' object has no attribute 'find_all' https://en.wikipedia.org/wiki/Film_%C3%A0_clef\n"
          ],
          "name": "stdout"
        },
        {
          "output_type": "stream",
          "text": [
            "\n",
            "550it [10:52,  2.61it/s]\u001b[A"
          ],
          "name": "stderr"
        },
        {
          "output_type": "stream",
          "text": [
            "'NoneType' object has no attribute 'find_all' https://en.wikipedia.org/wiki/Film-poem\n"
          ],
          "name": "stdout"
        },
        {
          "output_type": "stream",
          "text": [
            "\n",
            "551it [11:02,  3.31s/it]\u001b[A"
          ],
          "name": "stderr"
        },
        {
          "output_type": "stream",
          "text": [
            "'NoneType' object has no attribute 'find_all' https://en.wikipedia.org/wiki/Grindhouse\n"
          ],
          "name": "stdout"
        },
        {
          "output_type": "stream",
          "text": [
            "\n",
            "552it [11:02,  2.44s/it]\u001b[A\n",
            "553it [11:03,  1.77s/it]\u001b[A"
          ],
          "name": "stderr"
        },
        {
          "output_type": "stream",
          "text": [
            "'NoneType' object has no attribute 'find_all' https://en.wikipedia.org/wiki/Hyperlink_cinema\n",
            "'NoneType' object has no attribute 'find_all' https://en.wikipedia.org/wiki/Independent_film\n"
          ],
          "name": "stdout"
        },
        {
          "output_type": "stream",
          "text": [
            "\n",
            "554it [11:03,  1.28s/it]\u001b[A\n",
            "555it [11:03,  1.07it/s]\u001b[A"
          ],
          "name": "stderr"
        },
        {
          "output_type": "stream",
          "text": [
            "'NoneType' object has no attribute 'find_all' https://en.wikipedia.org/wiki/Guerrilla_filmmaking\n",
            "'NoneType' object has no attribute 'find_all' https://en.wikipedia.org/wiki/Interstitial_art\n"
          ],
          "name": "stdout"
        },
        {
          "output_type": "stream",
          "text": [
            "\n",
            "556it [11:03,  1.46it/s]\u001b[A"
          ],
          "name": "stderr"
        },
        {
          "output_type": "stream",
          "text": [
            "'NoneType' object has no attribute 'find_all' https://en.wikipedia.org/wiki/Live_action\n"
          ],
          "name": "stdout"
        },
        {
          "output_type": "stream",
          "text": [
            "\n",
            "557it [11:03,  1.71it/s]\u001b[A"
          ],
          "name": "stderr"
        },
        {
          "output_type": "stream",
          "text": [
            "'NoneType' object has no attribute 'find_all' https://en.wikipedia.org/wiki/List_of_films_with_live_action_and_animation\n"
          ],
          "name": "stdout"
        },
        {
          "output_type": "stream",
          "text": [
            "\n",
            "558it [11:04,  1.93it/s]\u001b[A\n",
            "559it [11:04,  2.42it/s]\u001b[A"
          ],
          "name": "stderr"
        },
        {
          "output_type": "stream",
          "text": [
            "'NoneType' object has no attribute 'find_all' https://en.wikipedia.org/wiki/Lollywood\n",
            "'NoneType' object has no attribute 'find_all' https://en.wikipedia.org/wiki/Low-budget_film\n"
          ],
          "name": "stdout"
        },
        {
          "output_type": "stream",
          "text": [
            "\n",
            "560it [11:04,  2.05it/s]\u001b[A"
          ],
          "name": "stderr"
        },
        {
          "output_type": "stream",
          "text": [
            "'NoneType' object has no attribute 'find_all' https://en.wikipedia.org/wiki/Major_film_studio\n"
          ],
          "name": "stdout"
        },
        {
          "output_type": "stream",
          "text": [
            "\n",
            "561it [11:15,  3.38s/it]\u001b[A"
          ],
          "name": "stderr"
        },
        {
          "output_type": "stream",
          "text": [
            "'NoneType' object has no attribute 'find_all' https://en.wikipedia.org/wiki/Making-of\n"
          ],
          "name": "stdout"
        },
        {
          "output_type": "stream",
          "text": [
            "\n",
            "562it [11:15,  2.47s/it]\u001b[A\n",
            "563it [11:15,  1.76s/it]\u001b[A"
          ],
          "name": "stderr"
        },
        {
          "output_type": "stream",
          "text": [
            "'NoneType' object has no attribute 'find_all' https://en.wikipedia.org/wiki/Message_picture\n",
            "'NoneType' object has no attribute 'find_all' https://en.wikipedia.org/wiki/Metacinema\n"
          ],
          "name": "stdout"
        },
        {
          "output_type": "stream",
          "text": [
            "\n",
            "564it [11:15,  1.29s/it]\u001b[A\n",
            "565it [11:15,  1.07it/s]\u001b[A"
          ],
          "name": "stderr"
        },
        {
          "output_type": "stream",
          "text": [
            "'NoneType' object has no attribute 'find_all' https://en.wikipedia.org/wiki/Mockbuster\n",
            "'NoneType' object has no attribute 'find_all' https://en.wikipedia.org/wiki/Musical_short\n"
          ],
          "name": "stdout"
        },
        {
          "output_type": "stream",
          "text": [
            "\n",
            "566it [11:16,  1.35it/s]\u001b[A\n",
            "567it [11:16,  1.78it/s]\u001b[A"
          ],
          "name": "stderr"
        },
        {
          "output_type": "stream",
          "text": [
            "'NoneType' object has no attribute 'find_all' https://en.wikipedia.org/wiki/Mythopoeia\n",
            "'NoneType' object has no attribute 'find_all' https://en.wikipedia.org/wiki/No-budget_film\n"
          ],
          "name": "stdout"
        },
        {
          "output_type": "stream",
          "text": [
            "\n",
            "568it [11:16,  2.22it/s]\u001b[A\n",
            "569it [11:16,  2.88it/s]\u001b[A"
          ],
          "name": "stderr"
        },
        {
          "output_type": "stream",
          "text": [
            "'NoneType' object has no attribute 'find_all' https://en.wikipedia.org/wiki/One-shot_film\n",
            "'NoneType' object has no attribute 'find_all' https://en.wikipedia.org/wiki/Paracinema\n"
          ],
          "name": "stdout"
        },
        {
          "output_type": "stream",
          "text": [
            "\n",
            "570it [11:16,  2.95it/s]\u001b[A"
          ],
          "name": "stderr"
        },
        {
          "output_type": "stream",
          "text": [
            "'NoneType' object has no attribute 'find_all' https://en.wikipedia.org/wiki/Participatory_cinema\n"
          ],
          "name": "stdout"
        },
        {
          "output_type": "stream",
          "text": [
            "\n",
            "571it [11:27,  3.34s/it]\u001b[A"
          ],
          "name": "stderr"
        },
        {
          "output_type": "stream",
          "text": [
            "'NoneType' object has no attribute 'find_all' https://en.wikipedia.org/wiki/Poetry_film\n"
          ],
          "name": "stdout"
        },
        {
          "output_type": "stream",
          "text": [
            "\n",
            "572it [11:27,  2.41s/it]\u001b[A"
          ],
          "name": "stderr"
        },
        {
          "output_type": "stream",
          "text": [
            "'NoneType' object has no attribute 'find_all' https://en.wikipedia.org/wiki/Postmodernist_film\n"
          ],
          "name": "stdout"
        },
        {
          "output_type": "stream",
          "text": [
            "\n",
            "573it [11:27,  1.75s/it]\u001b[A\n",
            "574it [11:27,  1.27s/it]\u001b[A"
          ],
          "name": "stderr"
        },
        {
          "output_type": "stream",
          "text": [
            "'NoneType' object has no attribute 'find_all' https://en.wikipedia.org/wiki/Reverse_motion\n",
            "'NoneType' object has no attribute 'find_all' https://en.wikipedia.org/wiki/Satire_(film_and_television)\n"
          ],
          "name": "stdout"
        },
        {
          "output_type": "stream",
          "text": [
            "\n",
            "575it [11:27,  1.06it/s]\u001b[A\n",
            "576it [11:28,  1.44it/s]\u001b[A"
          ],
          "name": "stderr"
        },
        {
          "output_type": "stream",
          "text": [
            "'NoneType' object has no attribute 'find_all' https://en.wikipedia.org/wiki/Serial_film\n",
            "'NoneType' object has no attribute 'find_all' https://en.wikipedia.org/wiki/Shinpa\n"
          ],
          "name": "stdout"
        },
        {
          "output_type": "stream",
          "text": [
            "\n",
            "577it [11:28,  1.92it/s]\u001b[A"
          ],
          "name": "stderr"
        },
        {
          "output_type": "stream",
          "text": [
            "'NoneType' object has no attribute 'find_all' https://en.wikipedia.org/wiki/Short_film\n"
          ],
          "name": "stdout"
        },
        {
          "output_type": "stream",
          "text": [
            "\n",
            "578it [11:28,  2.31it/s]\u001b[A"
          ],
          "name": "stderr"
        },
        {
          "output_type": "stream",
          "text": [
            "'NoneType' object has no attribute 'find_all' https://en.wikipedia.org/wiki/Silent_film\n"
          ],
          "name": "stdout"
        },
        {
          "output_type": "stream",
          "text": [
            "\n",
            "579it [11:28,  2.39it/s]\u001b[A\n",
            "580it [11:28,  3.05it/s]\u001b[A"
          ],
          "name": "stderr"
        },
        {
          "output_type": "stream",
          "text": [
            "'NoneType' object has no attribute 'find_all' https://en.wikipedia.org/wiki/Sound_film\n",
            "'NoneType' object has no attribute 'find_all' https://en.wikipedia.org/wiki/Underground_film\n"
          ],
          "name": "stdout"
        },
        {
          "output_type": "stream",
          "text": [
            "\n",
            "581it [11:39,  3.28s/it]\u001b[A\n",
            "582it [11:39,  2.33s/it]\u001b[A"
          ],
          "name": "stderr"
        },
        {
          "output_type": "stream",
          "text": [
            "'NoneType' object has no attribute 'find_all' https://en.wikipedia.org/wiki/Video_nasty\n",
            "'NoneType' object has no attribute 'find_all' https://en.wikipedia.org/wiki/Z_movie\n",
            "'NoneType' object has no attribute 'find_all' https://en.wikipedia.org/wiki/Category:Gangster_films\n"
          ],
          "name": "stdout"
        },
        {
          "output_type": "stream",
          "text": [
            "\n",
            "584it [11:39,  1.66s/it]\u001b[A\n",
            "586it [11:39,  1.18s/it]\u001b[A"
          ],
          "name": "stderr"
        },
        {
          "output_type": "stream",
          "text": [
            "'NoneType' object has no attribute 'find_all' https://en.wikipedia.org/wiki/Category:Film_genres\n",
            "'NoneType' object has no attribute 'find_all' https://en.wikipedia.org/wiki/Category:Articles_with_short_description\n",
            "'NoneType' object has no attribute 'find_all' https://en.wikipedia.org/wiki/Category:Short_description_matches_Wikidata\n"
          ],
          "name": "stdout"
        },
        {
          "output_type": "stream",
          "text": [
            "\n",
            "587it [11:39,  1.04it/s]\u001b[A"
          ],
          "name": "stderr"
        },
        {
          "output_type": "stream",
          "text": [
            "'NoneType' object has no attribute 'find_all' https://en.wikipedia.org/wiki/Category:Articles_containing_Russian-language_text\n"
          ],
          "name": "stdout"
        },
        {
          "output_type": "stream",
          "text": [
            "\n",
            "588it [11:40,  1.33it/s]\u001b[A\n",
            "590it [11:40,  1.81it/s]\u001b[A"
          ],
          "name": "stderr"
        },
        {
          "output_type": "stream",
          "text": [
            "'NoneType' object has no attribute 'find_all' https://en.wikipedia.org/wiki/Category:Commons_category_link_is_on_Wikidata\n",
            "'NoneType' object has no attribute 'find_all' https://en.wikipedia.org/wiki/Category:Wikipedia_articles_with_GND_identifiers\n",
            "'NoneType' object has no attribute 'find_all' https://en.wikipedia.org/wiki/Category:Wikipedia_articles_with_BNF_identifiers\n"
          ],
          "name": "stdout"
        },
        {
          "output_type": "stream",
          "text": [
            "\n",
            "591it [11:50,  3.42s/it]\u001b[A"
          ],
          "name": "stderr"
        },
        {
          "output_type": "stream",
          "text": [
            "'NoneType' object has no attribute 'find_all' https://en.wikipedia.org/wiki/Category:Wikipedia_articles_with_LCCN_identifiers\n"
          ],
          "name": "stdout"
        },
        {
          "output_type": "stream",
          "text": [
            "\n",
            "592it [11:50,  2.47s/it]\u001b[A"
          ],
          "name": "stderr"
        },
        {
          "output_type": "stream",
          "text": [
            "'NoneType' object has no attribute 'find_all' https://en.wikipedia.org/wiki/Special:MyTalk\n"
          ],
          "name": "stdout"
        },
        {
          "output_type": "stream",
          "text": [
            "\n",
            "593it [11:51,  1.84s/it]\u001b[A\n",
            "594it [11:51,  1.34s/it]\u001b[A"
          ],
          "name": "stderr"
        },
        {
          "output_type": "stream",
          "text": [
            "'NoneType' object has no attribute 'find_all' https://en.wikipedia.org/wiki/Special:MyContributions\n",
            "'NoneType' object has no attribute 'find_all' https://en.wikipedia.org/wiki/Gangster_film\n"
          ],
          "name": "stdout"
        },
        {
          "output_type": "stream",
          "text": [
            "\n",
            "595it [11:51,  1.03s/it]\u001b[A\n",
            "597it [11:51,  1.35it/s]\u001b[A"
          ],
          "name": "stderr"
        },
        {
          "output_type": "stream",
          "text": [
            "'NoneType' object has no attribute 'find_all' https://en.wikipedia.org/wiki/Talk:Gangster_film\n",
            "'NoneType' object has no attribute 'find_all' https://en.wikipedia.org/wiki/Main_Page\n",
            "'NoneType' object has no attribute 'find_all' https://en.wikipedia.org/wiki/Wikipedia:Contents\n"
          ],
          "name": "stdout"
        },
        {
          "output_type": "stream",
          "text": [
            "\n",
            "598it [11:52,  1.61it/s]\u001b[A\n",
            "599it [11:52,  2.11it/s]\u001b[A"
          ],
          "name": "stderr"
        },
        {
          "output_type": "stream",
          "text": [
            "'NoneType' object has no attribute 'find_all' https://en.wikipedia.org/wiki/Portal:Current_events\n",
            "'NoneType' object has no attribute 'find_all' https://en.wikipedia.org/wiki/Special:Random\n"
          ],
          "name": "stdout"
        },
        {
          "output_type": "stream",
          "text": [
            "\n",
            "600it [11:52,  2.51it/s]\u001b[A"
          ],
          "name": "stderr"
        },
        {
          "output_type": "stream",
          "text": [
            "'NoneType' object has no attribute 'find_all' https://en.wikipedia.org/wiki/Wikipedia:About\n"
          ],
          "name": "stdout"
        },
        {
          "output_type": "stream",
          "text": [
            "\n",
            "601it [12:02,  3.31s/it]\u001b[A"
          ],
          "name": "stderr"
        },
        {
          "output_type": "stream",
          "text": [
            "'NoneType' object has no attribute 'find_all' https://en.wikipedia.org/wiki/Help:Contents\n",
            "'NoneType' object has no attribute 'find_all' https://en.wikipedia.org/wiki/Help:Introduction\n"
          ],
          "name": "stdout"
        },
        {
          "output_type": "stream",
          "text": [
            "\n",
            "603it [12:02,  2.38s/it]\u001b[A\n",
            "604it [12:03,  1.71s/it]\u001b[A"
          ],
          "name": "stderr"
        },
        {
          "output_type": "stream",
          "text": [
            "'NoneType' object has no attribute 'find_all' https://en.wikipedia.org/wiki/Wikipedia:Community_portal\n",
            "'NoneType' object has no attribute 'find_all' https://en.wikipedia.org/wiki/Special:RecentChanges\n"
          ],
          "name": "stdout"
        },
        {
          "output_type": "stream",
          "text": [
            "\n",
            "605it [12:03,  1.27s/it]\u001b[A"
          ],
          "name": "stderr"
        },
        {
          "output_type": "stream",
          "text": [
            "'NoneType' object has no attribute 'find_all' https://en.wikipedia.org/wiki/Wikipedia:File_Upload_Wizard\n",
            "'NoneType' object has no attribute 'find_all' "
          ],
          "name": "stdout"
        },
        {
          "output_type": "stream",
          "text": [
            "\n",
            "606it [12:03,  1.06it/s]\u001b[A"
          ],
          "name": "stderr"
        },
        {
          "output_type": "stream",
          "text": [
            "https://en.wikipedia.org/wiki/Special:WhatLinksHere/Gangster_film\n"
          ],
          "name": "stdout"
        },
        {
          "output_type": "stream",
          "text": [
            "\n",
            "607it [12:04,  1.13it/s]\u001b[A\n",
            "608it [12:04,  1.53it/s]\u001b[A"
          ],
          "name": "stderr"
        },
        {
          "output_type": "stream",
          "text": [
            "'NoneType' object has no attribute 'find_all' https://en.wikipedia.org/wiki/Special:RecentChangesLinked/Gangster_film\n",
            "'NoneType' object has no attribute 'find_all' https://en.wikipedia.org/wiki/Wikipedia:File_Upload_Wizard\n"
          ],
          "name": "stdout"
        },
        {
          "output_type": "stream",
          "text": [
            "\n",
            "609it [12:04,  1.86it/s]\u001b[A"
          ],
          "name": "stderr"
        },
        {
          "output_type": "stream",
          "text": [
            "'NoneType' object has no attribute 'find_all' https://en.wikipedia.org/wiki/Special:SpecialPages\n"
          ],
          "name": "stdout"
        },
        {
          "output_type": "stream",
          "text": [
            "\n",
            "610it [12:04,  2.28it/s]\u001b[A"
          ],
          "name": "stderr"
        },
        {
          "output_type": "stream",
          "text": [
            "'NoneType' object has no attribute 'find_all' https://en.wikipedia.org/wiki/Wikipedia:About\n"
          ],
          "name": "stdout"
        },
        {
          "output_type": "stream",
          "text": [
            "\n",
            "611it [12:14,  1.20s/it]"
          ],
          "name": "stderr"
        },
        {
          "output_type": "stream",
          "text": [
            "'NoneType' object has no attribute 'find_all' https://en.wikipedia.org/wiki/Wikipedia:General_disclaimer\n"
          ],
          "name": "stdout"
        },
        {
          "output_type": "stream",
          "text": [
            "\n"
          ],
          "name": "stderr"
        }
      ]
    },
    {
      "cell_type": "code",
      "metadata": {
        "colab": {
          "base_uri": "https://localhost:8080/"
        },
        "id": "tWG1xC_UNMhG",
        "outputId": "7a4f86d1-0c8c-46b9-e8c2-31588ab8b27d"
      },
      "source": [
        "len(movie_info_list)"
      ],
      "execution_count": 17,
      "outputs": [
        {
          "output_type": "execute_result",
          "data": {
            "text/plain": [
              "148"
            ]
          },
          "metadata": {
            "tags": []
          },
          "execution_count": 17
        }
      ]
    },
    {
      "cell_type": "code",
      "metadata": {
        "colab": {
          "base_uri": "https://localhost:8080/"
        },
        "id": "OubTFQqeNQLR",
        "outputId": "956eb832-e01f-4450-8f6d-029d504a7bc4"
      },
      "source": [
        "movie_info_list[:10]"
      ],
      "execution_count": 18,
      "outputs": [
        {
          "output_type": "execute_result",
          "data": {
            "text/plain": [
              "[{'Based on': 'The Return of Superfly by Mark Jacobson',\n",
              "  'Box office': '$266.5 million [1]',\n",
              "  'Budget': '$100 million [1]',\n",
              "  'Cinematography': 'Harris Savides',\n",
              "  'Country': 'United States',\n",
              "  'Directed by': 'Ridley Scott',\n",
              "  'Distributed by': 'Universal Pictures',\n",
              "  'Edited by': 'Pietro Scalia',\n",
              "  'Language': 'English',\n",
              "  'Music by': 'Marc Streitenfeld',\n",
              "  'Produced by': ['Ridley Scott', 'Brian Grazer'],\n",
              "  'Production companies': ['Imagine Entertainment',\n",
              "   'Scott Free Productions',\n",
              "   'Relativity Media'],\n",
              "  'Release date': ['October19,2007 ( 2007-10-19 ) ( Apollo Theater )',\n",
              "   'November2,2007 ( 2007-11-02 ) (United States)'],\n",
              "  'Running time': '157 minutes',\n",
              "  'Screenplay by': 'Steven Zaillian',\n",
              "  'Starring': ['Russell Crowe',\n",
              "   'Denzel Washington',\n",
              "   'Chiwetel Ejiofor',\n",
              "   'Cuba Gooding Jr.',\n",
              "   'Josh Brolin',\n",
              "   'Ted Levine',\n",
              "   'Armand Assante',\n",
              "   'John Ortiz',\n",
              "   'John Hawkes',\n",
              "   'RZA'],\n",
              "  'title': 'American Gangster'},\n",
              " {'Based on': 'Shaft by Ernest Tidyman',\n",
              "  'Box office': '$12million (USA) [3]',\n",
              "  'Budget': '$500,000 [2]',\n",
              "  'Cinematography': 'Urs Furrer',\n",
              "  'Country': 'United States',\n",
              "  'Directed by': 'Gordon Parks',\n",
              "  'Distributed by': 'Metro-Goldwyn-Mayer',\n",
              "  'Edited by': 'Hugh A. Robertson',\n",
              "  'Language': 'English',\n",
              "  'Music by': 'Isaac Hayes Johnny Allen',\n",
              "  'Produced by': 'Joel Freeman',\n",
              "  'Production company': 'Shaft Productions',\n",
              "  'Release date': ['June25,1971 ( 1971-06-25 ) (Los Angeles) [1]'],\n",
              "  'Running time': '100 minutes',\n",
              "  'Screenplay by': 'Ernest Tidyman John D. F. Black',\n",
              "  'Starring': 'Richard Roundtree Moses Gunn Charles Cioffi',\n",
              "  'title': 'Shaft'},\n",
              " {'Box office': '$47.6million (US) [1]',\n",
              "  'Budget': '$8million [1]',\n",
              "  'Cinematography': 'Francis Kenny',\n",
              "  'Country': 'United States',\n",
              "  'Directed by': 'Mario Van Peebles',\n",
              "  'Distributed by': 'Warner Bros. Pictures',\n",
              "  'Edited by': 'Steven Kemper',\n",
              "  'Language': 'English',\n",
              "  'Music by': 'Michel Colombier',\n",
              "  'Produced by': ['Doug McHenry', 'George Jackson'],\n",
              "  'Production companies': 'The Jackson/McHenry Company Jacmac Films',\n",
              "  'Release date': ['January17,1991 ( 1991-01-17 ) ( SFF )',\n",
              "   'March8,1991 ( 1991-03-08 ) (United States)'],\n",
              "  'Running time': '100 minutes',\n",
              "  'Screenplay by': ['Thomas Lee Wright', 'Barry Michael Cooper'],\n",
              "  'Starring': ['Wesley Snipes',\n",
              "   'Ice-T',\n",
              "   'Chris Rock',\n",
              "   'Mario Van Peebles',\n",
              "   'Judd Nelson',\n",
              "   'Bill Cobbs'],\n",
              "  'Story by': 'Thomas Lee Wright',\n",
              "  'title': 'New Jack City'},\n",
              " {'Box office': '$57.5 million (North America) [1]',\n",
              "  'Budget': '$6.5 million [1]',\n",
              "  'Cinematography': 'Charles Mills',\n",
              "  'Country': 'United States',\n",
              "  'Directed by': 'John Singleton',\n",
              "  'Distributed by': 'Columbia Pictures',\n",
              "  'Edited by': 'Bruce Cannon',\n",
              "  'Language': 'English',\n",
              "  'Music by': 'Stanley Clarke',\n",
              "  'Produced by': 'Steve Nicolaides',\n",
              "  'Production company': 'Columbia Pictures',\n",
              "  'Release date': ['July2,1991 ( 1991-07-02 ) (Los Angeles)',\n",
              "   'July12,1991 ( 1991-07-12 ) (United States)'],\n",
              "  'Running time': '112 minutes',\n",
              "  'Starring': ['Cuba Gooding Jr.',\n",
              "   'Morris Chestnut',\n",
              "   'Ice Cube',\n",
              "   'Laurence Fishburne',\n",
              "   'Nia Long',\n",
              "   'Angela Bassett'],\n",
              "  'Written by': 'John Singleton',\n",
              "  'title': 'Boyz n the Hood'},\n",
              " {'Box office': '$1.9 million (US rentals) [2] [3]',\n",
              "  'Budget': '$2.5 million [1]',\n",
              "  'Cinematography': 'John Bailey',\n",
              "  'Country': 'United States',\n",
              "  'Directed by': 'Michael Pressman',\n",
              "  'Distributed by': 'Warner Bros.',\n",
              "  'Edited by': 'Richard Halsey',\n",
              "  'Language': 'English',\n",
              "  'Music by': 'Lalo Schifrin',\n",
              "  'Produced by': 'Bill Benenson',\n",
              "  'Release date': ['March23,1979 ( 1979-03-23 )'],\n",
              "  'Running time': '102 minutes',\n",
              "  'Starring': 'Richard Yniguez Danny De La Paz Marta DuBois Carmen Zapata James Victor Victor Millan Daniel Zacapa',\n",
              "  'Written by': 'Desmond Nakano',\n",
              "  'title': 'Boulevard Nights'},\n",
              " {'Cinematography': 'Bobby Byrne',\n",
              "  'Country': 'United States',\n",
              "  'Directed by': 'Robert L. Collins',\n",
              "  'Distributed by': 'Universal Pictures',\n",
              "  'Edited by': 'Douglas Stewart',\n",
              "  'Language': 'English',\n",
              "  'Music by': 'Robby Benson Don Peake',\n",
              "  'Produced by': 'Lawrence Turman',\n",
              "  'Production company': 'Universal Pictures',\n",
              "  'Release date': ['June15,1979 ( 1979-06-15 )'],\n",
              "  'Running time': '102 minutes',\n",
              "  'Starring': 'Robby Benson Sarah Holcomb',\n",
              "  'Written by': 'Evan Hunter',\n",
              "  'title': 'Walk Proud'},\n",
              " {'Based on': 'Zoot Suit by Luis Valdez',\n",
              "  'Box office': '$3,256,082 [2]',\n",
              "  'Budget': '$2.7 million [1]',\n",
              "  'Cinematography': 'David Myers',\n",
              "  'Country': 'United States',\n",
              "  'Directed by': 'Luis Valdez',\n",
              "  'Distributed by': 'Universal Pictures',\n",
              "  'Edited by': 'Jacqueline Cambas',\n",
              "  'Language': 'English',\n",
              "  'Music by': 'Lalo Guerrero Daniel Valdez',\n",
              "  'Produced by': 'Peter Burrell',\n",
              "  'Release date': ['October2,1981 ( 1981-10-02 )'],\n",
              "  'Running time': '103 minutes',\n",
              "  'Starring': 'Daniel Valdez Edward James Olmos',\n",
              "  'Written by': 'Luis Valdez',\n",
              "  'title': 'Zoot Suit'},\n",
              " {'Box office': '$13 million',\n",
              "  'Cinematography': 'Reynaldo Villalobos',\n",
              "  'Country': 'United States [1]',\n",
              "  'Directed by': 'Edward James Olmos',\n",
              "  'Distributed by': 'Universal Pictures [1]',\n",
              "  'Edited by': ['Richard Candib', 'Arthur Coburn'],\n",
              "  'Language': 'English',\n",
              "  'Music by': ['Claude Gaudette', 'Dennis Lambert'],\n",
              "  'Produced by': ['Edward James Olmos', 'Robert M. Young', 'Sean Daniel'],\n",
              "  'Production companies': ['YOY Productions [1]',\n",
              "   'Olmos Productions [1]',\n",
              "   'The Sean Daniel Company [1]'],\n",
              "  'Release date': ['March13,1992 ( 1992-03-13 )'],\n",
              "  'Running time': '126 minutes [1]',\n",
              "  'Screenplay by': ['Floyd Mutrux', 'Desmond Nakano'],\n",
              "  'Starring': ['Edward James Olmos',\n",
              "   'William Forsythe',\n",
              "   'Pepe Serna',\n",
              "   'Evelina Fernández'],\n",
              "  'Story by': 'Floyd Mutrux',\n",
              "  'title': 'American Me'},\n",
              " {'Box office': '$4,496,583',\n",
              "  'Budget': '$35 million',\n",
              "  'Cinematography': 'Gabriel Beristain',\n",
              "  'Country': 'United States',\n",
              "  'Directed by': 'Taylor Hackford',\n",
              "  'Distributed by': 'Buena Vista Pictures',\n",
              "  'Edited by': 'Fredric Steinkamp Karl F. Steinkamp',\n",
              "  'Languages': 'English Spanish',\n",
              "  'Music by': 'Bill Conti',\n",
              "  'Produced by': 'Taylor Hackford Jerry Gershwin',\n",
              "  'Production company': 'Hollywood Pictures',\n",
              "  'Release date': ['February5,1993 ( 1993-02-05 ) (Limited)',\n",
              "   'April30,1993 ( 1993-04-30 ) (Wide)'],\n",
              "  'Running time': \"180 minutes [1] 190 minutes ( Director's cut )\",\n",
              "  'Screenplay by': 'Jimmy Santiago Baca Jeremy Iacone Floyd Mutrux',\n",
              "  'Starring': ['Jesse Borrego',\n",
              "   'Benjamin Bratt',\n",
              "   'Enrique Castillo',\n",
              "   'Damian Chapa'],\n",
              "  'Story by': 'Ross Thomas',\n",
              "  'title': 'Blood In Blood Out'},\n",
              " {'Based on': \"Carlito's Way and After Hours by Edwin Torres\",\n",
              "  'Box office': '$63million [1]',\n",
              "  'Budget': '$30million',\n",
              "  'Cinematography': 'Stephen H. Burum',\n",
              "  'Country': 'United States',\n",
              "  'Directed by': 'Brian De Palma',\n",
              "  'Distributed by': 'Universal Pictures',\n",
              "  'Edited by': 'Bill Pankow',\n",
              "  'Language': 'English',\n",
              "  'Music by': 'Patrick Doyle',\n",
              "  'Produced by': ['Martin Bregman', 'Willi Baer', 'Michael S. Bregman'],\n",
              "  'Production companies': 'Epic Productions',\n",
              "  'Release date': ['November12,1993 ( 1993-11-12 ) (United States)'],\n",
              "  'Running time': '144 minutes',\n",
              "  'Screenplay by': 'David Koepp',\n",
              "  'Starring': ['Al Pacino', 'Sean Penn', 'Penelope Ann Miller'],\n",
              "  'title': \"Carlito's Way\"}]"
            ]
          },
          "metadata": {
            "tags": []
          },
          "execution_count": 18
        }
      ]
    },
    {
      "cell_type": "markdown",
      "metadata": {
        "id": "cR1zICvNN6Z8"
      },
      "source": [
        "<b> Important points to notice after observing the results </b>\n",
        "<li> We collect total 611 links, but ended up only scraping data for 148 movies. This happened because most the links we either not for a movie or they did not have a infobox-vevent section </li>"
      ]
    },
    {
      "cell_type": "markdown",
      "metadata": {
        "id": "aAdGDwb9PFTR"
      },
      "source": [
        "## Save Movie data"
      ]
    },
    {
      "cell_type": "code",
      "metadata": {
        "id": "kVzucej4Nn4V"
      },
      "source": [
        "import json"
      ],
      "execution_count": 19,
      "outputs": []
    },
    {
      "cell_type": "code",
      "metadata": {
        "id": "pV3pYuOyPOl9"
      },
      "source": [
        "def save_movies_data(title, data):\n",
        "    \"\"\" use this function to save python dictionary as json file \"\"\" \n",
        "    with open(title, \"w\", encoding=\"utf-8\") as f:\n",
        "        json.dump(data, f, ensure_ascii=False, indent=4)"
      ],
      "execution_count": 22,
      "outputs": []
    },
    {
      "cell_type": "code",
      "metadata": {
        "id": "SEuSlhc5PlPd"
      },
      "source": [
        "def load_data(title):\n",
        "    \"\"\" use this function to load json file as python dictionary \"\"\"\n",
        "    with open(title, encoding=\"utf-8\") as f:\n",
        "        return json.load(f)"
      ],
      "execution_count": 21,
      "outputs": []
    },
    {
      "cell_type": "code",
      "metadata": {
        "id": "k4k4_bU3QHSh"
      },
      "source": [
        "save_movies_data(\"Ganster_movies_data.json\", movie_info_list)"
      ],
      "execution_count": 23,
      "outputs": []
    }
  ]
}