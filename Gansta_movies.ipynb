{
  "nbformat": 4,
  "nbformat_minor": 0,
  "metadata": {
    "colab": {
      "name": "Gansta_movies.ipynb",
      "provenance": [],
      "authorship_tag": "ABX9TyOVY5YP7x2kZ6m68nTj9Axz",
      "include_colab_link": true
    },
    "kernelspec": {
      "name": "python3",
      "display_name": "Python 3"
    },
    "language_info": {
      "name": "python"
    }
  },
  "cells": [
    {
      "cell_type": "markdown",
      "metadata": {
        "id": "view-in-github",
        "colab_type": "text"
      },
      "source": [
        "<a href=\"https://colab.research.google.com/github/SwapnilH09/Dataset-creation-Gangster_movies/blob/main/Gansta_movies.ipynb\" target=\"_parent\"><img src=\"https://colab.research.google.com/assets/colab-badge.svg\" alt=\"Open In Colab\"/></a>"
      ]
    },
    {
      "cell_type": "markdown",
      "metadata": {
        "id": "B2kTLhwmTB3n"
      },
      "source": [
        "## import libraries"
      ]
    },
    {
      "cell_type": "code",
      "metadata": {
        "id": "04v68D_Ayykh"
      },
      "source": [
        "## import necessary libraries\n",
        "import requests\n",
        "from bs4 import BeautifulSoup\n",
        "import re"
      ],
      "execution_count": 1,
      "outputs": []
    },
    {
      "cell_type": "markdown",
      "metadata": {
        "id": "8NNh6MQdTGCq"
      },
      "source": [
        "## load a single webpage and ETL its contents in a python dictionary"
      ]
    },
    {
      "cell_type": "code",
      "metadata": {
        "id": "wwh0T2Scy5uI"
      },
      "source": [
        "## load the webpage\n",
        "webpage = requests.get(\"https://en.wikipedia.org/wiki/Gangs_of_Wasseypur\")\n",
        "\n",
        "## get soup\n",
        "soup = BeautifulSoup(webpage.content, 'html.parser')\n",
        "content = soup.prettify()\n",
        "\n",
        "#print(content)"
      ],
      "execution_count": 9,
      "outputs": []
    },
    {
      "cell_type": "code",
      "metadata": {
        "id": "S2K28HUSzDJw"
      },
      "source": [
        "info_box = soup.find(class_=\"infobox vevent\")\n",
        "#print(info_box.prettify())"
      ],
      "execution_count": 10,
      "outputs": []
    },
    {
      "cell_type": "code",
      "metadata": {
        "colab": {
          "base_uri": "https://localhost:8080/"
        },
        "id": "B-LoXY98zQq9",
        "outputId": "78fb36c4-9639-49d8-9306-701ed2b585c7"
      },
      "source": [
        "info_rows = info_box.find_all(\"tr\")\n",
        "info_rows"
      ],
      "execution_count": 11,
      "outputs": [
        {
          "output_type": "execute_result",
          "data": {
            "text/plain": [
              "[<tr><th class=\"infobox-above summary\" colspan=\"2\" style=\"font-size: 125%; font-style: italic;\">Gangs of Wasseypur</th></tr>,\n",
              " <tr><td class=\"infobox-image\" colspan=\"2\"><a class=\"image\" href=\"/wiki/File:Gangs_of_wasseypur.jpg\"><img alt=\"Gangs of wasseypur.jpg\" class=\"thumbborder\" data-file-height=\"273\" data-file-width=\"365\" decoding=\"async\" height=\"165\" src=\"//upload.wikimedia.org/wikipedia/en/thumb/6/62/Gangs_of_wasseypur.jpg/220px-Gangs_of_wasseypur.jpg\" srcset=\"//upload.wikimedia.org/wikipedia/en/thumb/6/62/Gangs_of_wasseypur.jpg/330px-Gangs_of_wasseypur.jpg 1.5x, //upload.wikimedia.org/wikipedia/en/6/62/Gangs_of_wasseypur.jpg 2x\" width=\"220\"/></a><div class=\"infobox-caption\">Original quad poster</div></td></tr>,\n",
              " <tr><th class=\"infobox-label\" scope=\"row\" style=\"white-space: nowrap; padding-right: 0.65em;\">Directed by</th><td class=\"infobox-data\"><a href=\"/wiki/Anurag_Kashyap\" title=\"Anurag Kashyap\">Anurag Kashyap</a></td></tr>,\n",
              " <tr><th class=\"infobox-label\" scope=\"row\" style=\"white-space: nowrap; padding-right: 0.65em;\">Written by</th><td class=\"infobox-data\"><div class=\"plainlist\">\n",
              " <ul><li><a href=\"/wiki/Zeishan_Quadri\" title=\"Zeishan Quadri\">Zeishan Quadri</a></li>\n",
              " <li>Anurag Kashyap</li></ul>\n",
              " </div></td></tr>,\n",
              " <tr><th class=\"infobox-label\" scope=\"row\" style=\"white-space: nowrap; padding-right: 0.65em;\">Produced by</th><td class=\"infobox-data\"><div class=\"plainlist\">\n",
              " <ul><li>Atul Shukla</li>\n",
              " <li>Anurag Kashyap</li>\n",
              " <li><a href=\"/wiki/Sunil_Bohra\" title=\"Sunil Bohra\">Sunil Bohra</a></li></ul>\n",
              " </div></td></tr>,\n",
              " <tr><th class=\"infobox-label\" scope=\"row\" style=\"white-space: nowrap; padding-right: 0.65em;\">Starring</th><td class=\"infobox-data\"><div class=\"plainlist\">\n",
              " <ul><li><a href=\"/wiki/Manoj_Bajpayee\" title=\"Manoj Bajpayee\">Manoj Bajpayee</a></li>\n",
              " <li><a href=\"/wiki/Nawazuddin_Siddiqui\" title=\"Nawazuddin Siddiqui\">Nawazuddin Siddiqui</a></li>\n",
              " <li><a href=\"/wiki/Richa_Chadda\" title=\"Richa Chadda\">Richa Chadda</a></li>\n",
              " <li><a href=\"/wiki/Huma_Qureshi_(actress)\" title=\"Huma Qureshi (actress)\">Huma Qureshi</a></li>\n",
              " <li><a href=\"/wiki/Reema_Sen\" title=\"Reema Sen\">Reema Sen</a></li>\n",
              " <li><a href=\"/wiki/Piyush_Mishra\" title=\"Piyush Mishra\">Piyush Mishra</a></li>\n",
              " <li><a class=\"mw-redirect\" href=\"/wiki/Vineet_Kumar_Singh\" title=\"Vineet Kumar Singh\">Vineet Kumar Singh</a></li>\n",
              " <li><a href=\"/wiki/Pankaj_Tripathi\" title=\"Pankaj Tripathi\">Pankaj Tripathi</a></li>\n",
              " <li><a href=\"/wiki/Tigmanshu_Dhulia\" title=\"Tigmanshu Dhulia\">Tigmanshu Dhulia</a></li>\n",
              " <li><a class=\"new\" href=\"/w/index.php?title=Sanjay_Singh_(actor)&amp;action=edit&amp;redlink=1\" title=\"Sanjay Singh (actor) (page does not exist)\">Sanjay Singh</a></li></ul>\n",
              " </div></td></tr>,\n",
              " <tr><th class=\"infobox-label\" scope=\"row\" style=\"white-space: nowrap; padding-right: 0.65em;\">Cinematography</th><td class=\"infobox-data\"><a href=\"/wiki/Rajeev_Ravi\" title=\"Rajeev Ravi\">Rajeev Ravi</a></td></tr>,\n",
              " <tr><th class=\"infobox-label\" scope=\"row\" style=\"white-space: nowrap; padding-right: 0.65em;\">Edited by</th><td class=\"infobox-data\">Shweta Venkat</td></tr>,\n",
              " <tr><th class=\"infobox-label\" scope=\"row\" style=\"white-space: nowrap; padding-right: 0.65em;\">Music by</th><td class=\"infobox-data\"><div class=\"plainlist\">\n",
              " <ul><li><a href=\"/wiki/G._V._Prakash_Kumar\" title=\"G. V. Prakash Kumar\">G. V. Prakash Kumar</a> <span style=\"font-size:85%;\">(score)</span></li>\n",
              " <li><a href=\"/wiki/Sneha_Khanwalkar\" title=\"Sneha Khanwalkar\">Sneha Khanwalkar</a> <span style=\"font-size:85%;\">(soundtrack)</span></li></ul>\n",
              " </div></td></tr>,\n",
              " <tr><th class=\"infobox-label\" scope=\"row\" style=\"white-space: nowrap; padding-right: 0.65em;\"><div style=\"display:inline-block; padding:0.1em 0;line-height:1.2em;\">Production<br/>companies </div></th><td class=\"infobox-data\"><div style=\"vertical-align: middle;\"><div class=\"plainlist\">\n",
              " <ul><li><a href=\"/wiki/Anurag_Kashyap_Films\" title=\"Anurag Kashyap Films\">Anurag Kashyap Films</a></li>\n",
              " <li><a class=\"mw-redirect\" href=\"/wiki/Jar_Pictures\" title=\"Jar Pictures\">Jar Pictures</a></li></ul>\n",
              " </div></div></td></tr>,\n",
              " <tr><th class=\"infobox-label\" scope=\"row\" style=\"white-space: nowrap; padding-right: 0.65em;\">Distributed by</th><td class=\"infobox-data\"><a class=\"mw-redirect\" href=\"/wiki/Viacom_18_Motion_Pictures\" title=\"Viacom 18 Motion Pictures\">Viacom 18 Motion Pictures</a></td></tr>,\n",
              " <tr><th class=\"infobox-label\" scope=\"row\" style=\"white-space: nowrap; padding-right: 0.65em;\"><div style=\"display:inline-block; padding:0.1em 0;line-height:1.2em;white-space: normal;\">Release date</div></th><td class=\"infobox-data\"><div class=\"plainlist\">\n",
              " <ul><li>May 2012<span style=\"display:none\"> (<span class=\"bday dtstart published updated\">2012-05</span>)</span> (<a href=\"/wiki/2012_Cannes_Film_Festival\" title=\"2012 Cannes Film Festival\">Cannes</a>)</li>\n",
              " <li>22 June 2012<span style=\"display:none\"> (<span class=\"bday dtstart published updated\">2012-06-22</span>)</span></li></ul>\n",
              " </div></td></tr>,\n",
              " <tr><th class=\"infobox-label\" scope=\"row\" style=\"white-space: nowrap; padding-right: 0.65em;\"><div style=\"display:inline-block; padding:0.1em 0;line-height:1.2em;white-space: normal;\">Running time</div></th><td class=\"infobox-data\">321 minutes<sup class=\"reference\" id=\"cite_ref-Runtime_1-0\"><a href=\"#cite_note-Runtime-1\">[1]</a></sup></td></tr>,\n",
              " <tr><th class=\"infobox-label\" scope=\"row\" style=\"white-space: nowrap; padding-right: 0.65em;\">Country</th><td class=\"infobox-data\">India</td></tr>,\n",
              " <tr><th class=\"infobox-label\" scope=\"row\" style=\"white-space: nowrap; padding-right: 0.65em;\">Language</th><td class=\"infobox-data\">Hindi</td></tr>,\n",
              " <tr><th class=\"infobox-label\" scope=\"row\" style=\"white-space: nowrap; padding-right: 0.65em;\">Budget</th><td class=\"infobox-data\">₹ 356 million</td></tr>,\n",
              " <tr><th class=\"infobox-label\" scope=\"row\" style=\"white-space: nowrap; padding-right: 0.65em;\">Box office</th><td class=\"infobox-data\">₹ 1.540 billion</td></tr>]"
            ]
          },
          "metadata": {
            "tags": []
          },
          "execution_count": 11
        }
      ]
    },
    {
      "cell_type": "code",
      "metadata": {
        "id": "1oEIA8afzTbd"
      },
      "source": [
        "def get_content_value(row_data):\n",
        "    if row_data.find('li'):\n",
        "        return [li.get_text(\" \", strip=True).replace(\"\\xa0\", \"\") for li in row_data.find_all(\"li\")]\n",
        "    else:\n",
        "        return row_data.get_text(\" \", strip=True).replace(\"\\xa0\", \"\")"
      ],
      "execution_count": 12,
      "outputs": []
    },
    {
      "cell_type": "code",
      "metadata": {
        "colab": {
          "base_uri": "https://localhost:8080/"
        },
        "id": "rXxe6AeAyr32",
        "outputId": "abed62a0-766f-43f0-e07f-76dd803cdd67"
      },
      "source": [
        "movie_info = {}\n",
        "\n",
        "for index, row in enumerate(info_rows):\n",
        "    if index == 0:\n",
        "        movie_info[\"title\"] = row.find(\"th\").get_text(\" \", strip=True)\n",
        "        #print(movie_info[\"title\"])\n",
        "    elif index == 1:\n",
        "        continue\n",
        "    else:\n",
        "        content_key = row.find(\"th\").get_text(\" \", strip=True)\n",
        "        content_val = get_content_value(row.find(\"td\"))\n",
        "        movie_info[content_key] = content_val\n",
        "        #print(movie_info[content_key])\n",
        "\n",
        "movie_info        "
      ],
      "execution_count": 8,
      "outputs": [
        {
          "output_type": "execute_result",
          "data": {
            "text/plain": [
              "{'Box office': '₹ 1.540 billion',\n",
              " 'Budget': '₹ 356 million',\n",
              " 'Cinematography': 'Rajeev Ravi',\n",
              " 'Country': 'India',\n",
              " 'Directed by': 'Anurag Kashyap',\n",
              " 'Distributed by': 'Viacom 18 Motion Pictures',\n",
              " 'Edited by': 'Shweta Venkat',\n",
              " 'Language': 'Hindi',\n",
              " 'Music by': ['G. V. Prakash Kumar (score)', 'Sneha Khanwalkar (soundtrack)'],\n",
              " 'Produced by': ['Atul Shukla', 'Anurag Kashyap', 'Sunil Bohra'],\n",
              " 'Production companies': ['Anurag Kashyap Films', 'Jar Pictures'],\n",
              " 'Release date': ['May2012 ( 2012-05 ) ( Cannes )',\n",
              "  '22June2012 ( 2012-06-22 )'],\n",
              " 'Running time': '321 minutes [1]',\n",
              " 'Starring': ['Manoj Bajpayee',\n",
              "  'Nawazuddin Siddiqui',\n",
              "  'Richa Chadda',\n",
              "  'Huma Qureshi',\n",
              "  'Reema Sen',\n",
              "  'Piyush Mishra',\n",
              "  'Vineet Kumar Singh',\n",
              "  'Pankaj Tripathi',\n",
              "  'Tigmanshu Dhulia',\n",
              "  'Sanjay Singh'],\n",
              " 'Written by': ['Zeishan Quadri', 'Anurag Kashyap'],\n",
              " 'title': 'Gangs of Wasseypur'}"
            ]
          },
          "metadata": {
            "tags": []
          },
          "execution_count": 8
        }
      ]
    }
  ]
}